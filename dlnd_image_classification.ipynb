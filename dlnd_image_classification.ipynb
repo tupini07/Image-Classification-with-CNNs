{
 "cells": [
  {
   "cell_type": "markdown",
   "metadata": {
    "collapsed": true,
    "deletable": true,
    "editable": true
   },
   "source": [
    "# Image Classification\n",
    "In this project, you'll classify images from the [CIFAR-10 dataset](https://www.cs.toronto.edu/~kriz/cifar.html).  The dataset consists of airplanes, dogs, cats, and other objects. You'll preprocess the images, then train a convolutional neural network on all the samples. The images need to be normalized and the labels need to be one-hot encoded.  You'll get to apply what you learned and build a convolutional, max pooling, dropout, and fully connected layers.  At the end, you'll get to see your neural network's predictions on the sample images.\n",
    "## Get the Data\n",
    "Run the following cell to download the [CIFAR-10 dataset for python](https://www.cs.toronto.edu/~kriz/cifar-10-python.tar.gz)."
   ]
  },
  {
   "cell_type": "code",
   "execution_count": 1,
   "metadata": {
    "collapsed": false,
    "deletable": true,
    "editable": true
   },
   "outputs": [
    {
     "name": "stdout",
     "output_type": "stream",
     "text": [
      "All files found!\n"
     ]
    }
   ],
   "source": [
    "\"\"\"\n",
    "DON'T MODIFY ANYTHING IN THIS CELL THAT IS BELOW THIS LINE\n",
    "\"\"\"\n",
    "from urllib.request import urlretrieve\n",
    "from os.path import isfile, isdir\n",
    "from tqdm import tqdm\n",
    "import problem_unittests as tests\n",
    "import tarfile\n",
    "\n",
    "cifar10_dataset_folder_path = 'cifar-10-batches-py'\n",
    "\n",
    "class DLProgress(tqdm):\n",
    "    last_block = 0\n",
    "\n",
    "    def hook(self, block_num=1, block_size=1, total_size=None):\n",
    "        self.total = total_size\n",
    "        self.update((block_num - self.last_block) * block_size)\n",
    "        self.last_block = block_num\n",
    "\n",
    "if not isfile('cifar-10-python.tar.gz'):\n",
    "    with DLProgress(unit='B', unit_scale=True, miniters=1, desc='CIFAR-10 Dataset') as pbar:\n",
    "        urlretrieve(\n",
    "            'https://www.cs.toronto.edu/~kriz/cifar-10-python.tar.gz',\n",
    "            'cifar-10-python.tar.gz',\n",
    "            pbar.hook)\n",
    "\n",
    "if not isdir(cifar10_dataset_folder_path):\n",
    "    with tarfile.open('cifar-10-python.tar.gz') as tar:\n",
    "        tar.extractall()\n",
    "        tar.close()\n",
    "\n",
    "\n",
    "tests.test_folder_path(cifar10_dataset_folder_path)"
   ]
  },
  {
   "cell_type": "markdown",
   "metadata": {
    "deletable": true,
    "editable": true
   },
   "source": [
    "## Explore the Data\n",
    "The dataset is broken into batches to prevent your machine from running out of memory.  The CIFAR-10 dataset consists of 5 batches, named `data_batch_1`, `data_batch_2`, etc.. Each batch contains the labels and images that are one of the following:\n",
    "* airplane\n",
    "* automobile\n",
    "* bird\n",
    "* cat\n",
    "* deer\n",
    "* dog\n",
    "* frog\n",
    "* horse\n",
    "* ship\n",
    "* truck\n",
    "\n",
    "Understanding a dataset is part of making predictions on the data.  Play around with the code cell below by changing the `batch_id` and `sample_id`. The `batch_id` is the id for a batch (1-5). The `sample_id` is the id for a image and label pair in the batch.\n",
    "\n",
    "Ask yourself \"What are all possible labels?\", \"What is the range of values for the image data?\", \"Are the labels in order or random?\".  Answers to questions like these will help you preprocess the data and end up with better predictions."
   ]
  },
  {
   "cell_type": "code",
   "execution_count": 2,
   "metadata": {
    "collapsed": false,
    "deletable": true,
    "editable": true
   },
   "outputs": [
    {
     "name": "stdout",
     "output_type": "stream",
     "text": [
      "\n",
      "Stats of batch 3:\n",
      "Samples: 10000\n",
      "Label Counts: {0: 994, 1: 1042, 2: 965, 3: 997, 4: 990, 5: 1029, 6: 978, 7: 1015, 8: 961, 9: 1029}\n",
      "First 20 Labels: [8, 5, 0, 6, 9, 2, 8, 3, 6, 2, 7, 4, 6, 9, 0, 0, 7, 3, 7, 2]\n",
      "\n",
      "Example of Image 42:\n",
      "Image - Min Value: 11 Max Value: 254\n",
      "Image - Shape: (32, 32, 3)\n",
      "Label - Label Id: 1 Name: automobile\n"
     ]
    },
    {
     "data": {
      "image/png": "[encoded data removed]",
      "text/plain": [
       "<matplotlib.figure.Figure at 0x7f582b193208>"
      ]
     },
     "metadata": {
      "image/png": {
       "height": 250,
       "width": 253
      }
     },
     "output_type": "display_data"
    }
   ],
   "source": [
    "%matplotlib inline\n",
    "%config InlineBackend.figure_format = 'retina'\n",
    "\n",
    "import helper\n",
    "import numpy as np\n",
    "\n",
    "# Explore the dataset\n",
    "batch_id = 3\n",
    "sample_id = 42\n",
    "helper.display_stats(cifar10_dataset_folder_path, batch_id, sample_id)"
   ]
  },
  {
   "cell_type": "markdown",
   "metadata": {
    "deletable": true,
    "editable": true
   },
   "source": [
    "## Implement Preprocess Functions\n",
    "### Normalize\n",
    "In the cell below, implement the `normalize` function to take in image data, `x`, and return it as a normalized Numpy array. The values should be in the range of 0 to 1, inclusive.  The return object should be the same shape as `x`."
   ]
  },
  {
   "cell_type": "code",
   "execution_count": 3,
   "metadata": {
    "collapsed": false,
    "deletable": true,
    "editable": true
   },
   "outputs": [
    {
     "name": "stdout",
     "output_type": "stream",
     "text": [
      "Tests Passed\n"
     ]
    }
   ],
   "source": [
    "def normalize(x):\n",
    "    \"\"\"\n",
    "    Normalize a list of sample image data in the range of 0 to 1\n",
    "    : x: List of image data.  The image shape is (32, 32, 3)\n",
    "    : return: Numpy array of normalize data\n",
    "    \"\"\"\n",
    "    # Perform an elementwise division by 255.0 (the maximum possible value for each pixel)\n",
    "    return np.array(x) / 255. \n",
    "\n",
    "\n",
    "\"\"\"\n",
    "DON'T MODIFY ANYTHING IN THIS CELL THAT IS BELOW THIS LINE\n",
    "\"\"\"\n",
    "tests.test_normalize(normalize)"
   ]
  },
  {
   "cell_type": "markdown",
   "metadata": {
    "deletable": true,
    "editable": true
   },
   "source": [
    "### One-hot encode\n",
    "Just like the previous code cell, you'll be implementing a function for preprocessing.  This time, you'll implement the `one_hot_encode` function. The input, `x`, are a list of labels.  Implement the function to return the list of labels as One-Hot encoded Numpy array.  The possible values for labels are 0 to 9. The one-hot encoding function should return the same encoding for each value between each call to `one_hot_encode`.  Make sure to save the map of encodings outside the function.\n",
    "\n",
    "Hint: Don't reinvent the wheel."
   ]
  },
  {
   "cell_type": "code",
   "execution_count": 4,
   "metadata": {
    "collapsed": false,
    "deletable": true,
    "editable": true
   },
   "outputs": [
    {
     "name": "stdout",
     "output_type": "stream",
     "text": [
      "Tests Passed\n"
     ]
    }
   ],
   "source": [
    "from sklearn.preprocessing import LabelBinarizer\n",
    "\n",
    "one_hot_map = None\n",
    "def one_hot_encode(x):\n",
    "    \"\"\"\n",
    "    One hot encode a list of sample labels. Return a one-hot encoded vector for each label.\n",
    "    : x: List of sample Labels\n",
    "    : return: Numpy array of one-hot encoded labels\n",
    "    \"\"\"\n",
    "    global one_hot_map\n",
    "    if one_hot_map is None:\n",
    "        one_hot_map = LabelBinarizer()\n",
    "        one_hot_map.fit(x)\n",
    "    \n",
    "    return one_hot_map.transform(x)\n",
    "\n",
    "\n",
    "\"\"\"\n",
    "DON'T MODIFY ANYTHING IN THIS CELL THAT IS BELOW THIS LINE\n",
    "\"\"\"\n",
    "tests.test_one_hot_encode(one_hot_encode)"
   ]
  },
  {
   "cell_type": "markdown",
   "metadata": {
    "deletable": true,
    "editable": true
   },
   "source": [
    "### Randomize Data\n",
    "As you saw from exploring the data above, the order of the samples are randomized.  It doesn't hurt to randomize it again, but you don't need to for this dataset."
   ]
  },
  {
   "cell_type": "markdown",
   "metadata": {
    "deletable": true,
    "editable": true
   },
   "source": [
    "## Preprocess all the data and save it\n",
    "Running the code cell below will preprocess all the CIFAR-10 data and save it to file. The code below also uses 10% of the training data for validation."
   ]
  },
  {
   "cell_type": "code",
   "execution_count": 5,
   "metadata": {
    "collapsed": false,
    "deletable": true,
    "editable": true
   },
   "outputs": [],
   "source": [
    "\"\"\"\n",
    "DON'T MODIFY ANYTHING IN THIS CELL\n",
    "\"\"\"\n",
    "# Preprocess Training, Validation, and Testing Data\n",
    "helper.preprocess_and_save_data(cifar10_dataset_folder_path, normalize, one_hot_encode)"
   ]
  },
  {
   "cell_type": "markdown",
   "metadata": {
    "deletable": true,
    "editable": true
   },
   "source": [
    "# Check Point\n",
    "This is your first checkpoint.  If you ever decide to come back to this notebook or have to restart the notebook, you can start from here.  The preprocessed data has been saved to disk."
   ]
  },
  {
   "cell_type": "code",
   "execution_count": 6,
   "metadata": {
    "collapsed": true,
    "deletable": true,
    "editable": true
   },
   "outputs": [],
   "source": [
    "\"\"\"\n",
    "DON'T MODIFY ANYTHING IN THIS CELL\n",
    "\"\"\"\n",
    "import pickle\n",
    "import problem_unittests as tests\n",
    "import helper\n",
    "\n",
    "# Load the Preprocessed Validation data\n",
    "valid_features, valid_labels = pickle.load(open('preprocess_validation.p', mode='rb'))"
   ]
  },
  {
   "cell_type": "markdown",
   "metadata": {
    "deletable": true,
    "editable": true
   },
   "source": [
    "## Build the network\n",
    "For the neural network, you'll build each layer into a function.  Most of the code you've seen has been outside of functions. To test your code more thoroughly, we require that you put each layer in a function.  This allows us to give you better feedback and test for simple mistakes using our unittests before you submit your project.\n",
    "\n",
    ">**Note:** If you're finding it hard to dedicate enough time for this course each week, we've provided a small shortcut to this part of the project. In the next couple of problems, you'll have the option to use classes from the [TensorFlow Layers](https://www.tensorflow.org/api_docs/python/tf/layers) or [TensorFlow Layers (contrib)](https://www.tensorflow.org/api_guides/python/contrib.layers) packages to build each layer, except the layers you build in the \"Convolutional and Max Pooling Layer\" section.  TF Layers is similar to Keras's and TFLearn's abstraction to layers, so it's easy to pickup.\n",
    "\n",
    ">However, if you would like to get the most out of this course, try to solve all the problems _without_ using anything from the TF Layers packages. You **can** still use classes from other packages that happen to have the same name as ones you find in TF Layers! For example, instead of using the TF Layers version of the `conv2d` class, [tf.layers.conv2d](https://www.tensorflow.org/api_docs/python/tf/layers/conv2d), you would want to use the TF Neural Network version of `conv2d`, [tf.nn.conv2d](https://www.tensorflow.org/api_docs/python/tf/nn/conv2d). \n",
    "\n",
    "Let's begin!\n",
    "\n",
    "### Input\n",
    "The neural network needs to read the image data, one-hot encoded labels, and dropout keep probability. Implement the following functions\n",
    "* Implement `neural_net_image_input`\n",
    " * Return a [TF Placeholder](https://www.tensorflow.org/api_docs/python/tf/placeholder)\n",
    " * Set the shape using `image_shape` with batch size set to `None`.\n",
    " * Name the TensorFlow placeholder \"x\" using the TensorFlow `name` parameter in the [TF Placeholder](https://www.tensorflow.org/api_docs/python/tf/placeholder).\n",
    "* Implement `neural_net_label_input`\n",
    " * Return a [TF Placeholder](https://www.tensorflow.org/api_docs/python/tf/placeholder)\n",
    " * Set the shape using `n_classes` with batch size set to `None`.\n",
    " * Name the TensorFlow placeholder \"y\" using the TensorFlow `name` parameter in the [TF Placeholder](https://www.tensorflow.org/api_docs/python/tf/placeholder).\n",
    "* Implement `neural_net_keep_prob_input`\n",
    " * Return a [TF Placeholder](https://www.tensorflow.org/api_docs/python/tf/placeholder) for dropout keep probability.\n",
    " * Name the TensorFlow placeholder \"keep_prob\" using the TensorFlow `name` parameter in the [TF Placeholder](https://www.tensorflow.org/api_docs/python/tf/placeholder).\n",
    "\n",
    "These names will be used at the end of the project to load your saved model.\n",
    "\n",
    "Note: `None` for shapes in TensorFlow allow for a dynamic size."
   ]
  },
  {
   "cell_type": "code",
   "execution_count": 7,
   "metadata": {
    "collapsed": false,
    "deletable": true,
    "editable": true
   },
   "outputs": [
    {
     "name": "stdout",
     "output_type": "stream",
     "text": [
      "Image Input Tests Passed.\n",
      "Label Input Tests Passed.\n",
      "Keep Prob Tests Passed.\n"
     ]
    }
   ],
   "source": [
    "import tensorflow as tf\n",
    "\n",
    "def neural_net_image_input(image_shape):\n",
    "    \"\"\"\n",
    "    Return a Tensor for a bach of image input\n",
    "    : image_shape: Shape of the images\n",
    "    : return: Tensor for image input.\n",
    "    \"\"\"\n",
    "    return tf.placeholder(tf.float32, shape=([None] + list(image_shape)), name=\"x\")\n",
    "\n",
    "\n",
    "def neural_net_label_input(n_classes):\n",
    "    \"\"\"\n",
    "    Return a Tensor for a batch of label input\n",
    "    : n_classes: Number of classes\n",
    "    : return: Tensor for label input.\n",
    "    \"\"\"\n",
    "    return tf.placeholder(tf.float32, shape=[None, n_classes], name=\"y\")\n",
    "\n",
    "\n",
    "def neural_net_keep_prob_input():\n",
    "    \"\"\"\n",
    "    Return a Tensor for keep probability\n",
    "    : return: Tensor for keep probability.\n",
    "    \"\"\"\n",
    "    return tf.placeholder(tf.float32, name=\"keep_prob\")\n",
    "\n",
    "\n",
    "\"\"\"\n",
    "DON'T MODIFY ANYTHING IN THIS CELL THAT IS BELOW THIS LINE\n",
    "\"\"\"\n",
    "tf.reset_default_graph()\n",
    "tests.test_nn_image_inputs(neural_net_image_input)\n",
    "tests.test_nn_label_inputs(neural_net_label_input)\n",
    "tests.test_nn_keep_prob_inputs(neural_net_keep_prob_input)"
   ]
  },
  {
   "cell_type": "markdown",
   "metadata": {
    "deletable": true,
    "editable": true
   },
   "source": [
    "### Convolution and Max Pooling Layer\n",
    "Convolution layers have a lot of success with images. For this code cell, you should implement the function `conv2d_maxpool` to apply convolution then max pooling:\n",
    "* Create the weight and bias using `conv_ksize`, `conv_num_outputs` and the shape of `x_tensor`.\n",
    "* Apply a convolution to `x_tensor` using weight and `conv_strides`.\n",
    " * We recommend you use same padding, but you're welcome to use any padding.\n",
    "* Add bias\n",
    "* Add a nonlinear activation to the convolution.\n",
    "* Apply Max Pooling using `pool_ksize` and `pool_strides`.\n",
    " * We recommend you use same padding, but you're welcome to use any padding.\n",
    "\n",
    "**Note:** You **can't** use [TensorFlow Layers](https://www.tensorflow.org/api_docs/python/tf/layers) or [TensorFlow Layers (contrib)](https://www.tensorflow.org/api_guides/python/contrib.layers) for **this** layer, but you can still use TensorFlow's [Neural Network](https://www.tensorflow.org/api_docs/python/tf/nn) package. You may still use the shortcut option for all the **other** layers."
   ]
  },
  {
   "cell_type": "code",
   "execution_count": 8,
   "metadata": {
    "collapsed": false,
    "deletable": true,
    "editable": true
   },
   "outputs": [
    {
     "name": "stdout",
     "output_type": "stream",
     "text": [
      "Tests Passed\n"
     ]
    }
   ],
   "source": [
    "def conv2d_maxpool(x_tensor, conv_num_outputs, conv_ksize, conv_strides, pool_ksize, pool_strides):\n",
    "    \"\"\"\n",
    "    Apply convolution then max pooling to x_tensor\n",
    "    :param x_tensor: TensorFlow Tensor\n",
    "    :param conv_num_outputs: Number of outputs for the convolutional layer\n",
    "    :param conv_ksize: kernal size 2-D Tuple for the convolutional layer\n",
    "    :param conv_strides: Stride 2-D Tuple for convolution\n",
    "    :param pool_ksize: kernal size 2-D Tuple for pool\n",
    "    :param pool_strides: Stride 2-D Tuple for pool\n",
    "    : return: A tensor that represents convolution and max pooling of x_tensor\n",
    "    \"\"\"\n",
    "    # Create weights and biases\n",
    "    input_depth = x_tensor.shape.as_list()[3]\n",
    "    weights = tf.Variable(tf.truncated_normal([conv_ksize[0],\n",
    "                                            conv_ksize[1],\n",
    "                                            input_depth,\n",
    "                                            conv_num_outputs], stddev=0.1))\n",
    "    biases = tf.Variable(tf.truncated_normal([conv_num_outputs], stddev=0.01))\n",
    "\n",
    "    # Add convolution, bias and nonlinear activation (relu) steps\n",
    "    net = tf.nn.conv2d(x_tensor, weights, strides=[1, conv_strides[0], conv_strides[1], 1], padding=\"SAME\")\n",
    "    net = tf.nn.bias_add(net, biases)\n",
    "    net = tf.nn.relu(net)\n",
    "    \n",
    "    # maxpool\n",
    "    net = tf.nn.max_pool(net, \n",
    "                         ksize=[1, pool_ksize[0], pool_ksize[1], 1], \n",
    "                         strides=[1, pool_strides[0], pool_strides[1], 1], \n",
    "                         padding=\"SAME\")\n",
    "    \n",
    "    return net\n",
    "\n",
    "\n",
    "\"\"\"\n",
    "DON'T MODIFY ANYTHING IN THIS CELL THAT IS BELOW THIS LINE\n",
    "\"\"\"\n",
    "tests.test_con_pool(conv2d_maxpool)"
   ]
  },
  {
   "cell_type": "markdown",
   "metadata": {
    "deletable": true,
    "editable": true
   },
   "source": [
    "### Flatten Layer\n",
    "Implement the `flatten` function to change the dimension of `x_tensor` from a 4-D tensor to a 2-D tensor.  The output should be the shape (*Batch Size*, *Flattened Image Size*). Shortcut option: you can use classes from the [TensorFlow Layers](https://www.tensorflow.org/api_docs/python/tf/layers) or [TensorFlow Layers (contrib)](https://www.tensorflow.org/api_guides/python/contrib.layers) packages for this layer. For more of a challenge, only use other TensorFlow packages."
   ]
  },
  {
   "cell_type": "code",
   "execution_count": 9,
   "metadata": {
    "collapsed": false,
    "deletable": true,
    "editable": true
   },
   "outputs": [
    {
     "name": "stdout",
     "output_type": "stream",
     "text": [
      "Tests Passed\n"
     ]
    }
   ],
   "source": [
    "def flatten(x_tensor):\n",
    "    \"\"\"\n",
    "    Flatten x_tensor to (Batch Size, Flattened Image Size)\n",
    "    : x_tensor: A tensor of size (Batch Size, ...), where ... are the image dimensions.\n",
    "    : return: A tensor of size (Batch Size, Flattened Image Size).\n",
    "    \"\"\"\n",
    "    \n",
    "    # on the test this would be [None, 10, 30, 6]\n",
    "    batch_size, rows, cols, depts = x_tensor.shape.as_list() \n",
    "    \n",
    "    # now simply pass -1 to keep first dim and multiply all other dims to get one big array (None, 1800)\n",
    "    return tf.reshape(x_tensor, [-1, rows*cols*depts]) \n",
    "\n",
    "\n",
    "\"\"\"\n",
    "DON'T MODIFY ANYTHING IN THIS CELL THAT IS BELOW THIS LINE\n",
    "\"\"\"\n",
    "tests.test_flatten(flatten)"
   ]
  },
  {
   "cell_type": "markdown",
   "metadata": {
    "deletable": true,
    "editable": true
   },
   "source": [
    "### Fully-Connected Layer\n",
    "Implement the `fully_conn` function to apply a fully connected layer to `x_tensor` with the shape (*Batch Size*, *num_outputs*). Shortcut option: you can use classes from the [TensorFlow Layers](https://www.tensorflow.org/api_docs/python/tf/layers) or [TensorFlow Layers (contrib)](https://www.tensorflow.org/api_guides/python/contrib.layers) packages for this layer. For more of a challenge, only use other TensorFlow packages."
   ]
  },
  {
   "cell_type": "code",
   "execution_count": 10,
   "metadata": {
    "collapsed": false,
    "deletable": true,
    "editable": true
   },
   "outputs": [
    {
     "name": "stdout",
     "output_type": "stream",
     "text": [
      "Tests Passed\n"
     ]
    }
   ],
   "source": [
    "def fully_conn(x_tensor, num_outputs):\n",
    "    \"\"\"\n",
    "    Apply a fully connected layer to x_tensor using weight and bias\n",
    "    : x_tensor: A 2-D tensor where the first dimension is batch size.\n",
    "    : num_outputs: The number of output that the new tensor should be.\n",
    "    : return: A 2-D tensor where the second dimension is num_outputs.\n",
    "    \"\"\"\n",
    "    \n",
    "    # create weights and biases\n",
    "    num_inpts = x_tensor.shape.as_list()[1]    \n",
    "    weight = tf.Variable(tf.truncated_normal([num_inpts, num_outputs], stddev=0.1))\n",
    "    bias = tf.Variable(tf.truncated_normal([num_outputs], stddev=0.01))\n",
    "    \n",
    "    # make the graph\n",
    "    net = tf.matmul(x_tensor, weight)\n",
    "    net = tf.add(net, bias)\n",
    "    \n",
    "    net = tf.nn.relu(net)\n",
    "    return net\n",
    "    \n",
    "\n",
    "\n",
    "\"\"\"\n",
    "DON'T MODIFY ANYTHING IN THIS CELL THAT IS BELOW THIS LINE\n",
    "\"\"\"\n",
    "tests.test_fully_conn(fully_conn)"
   ]
  },
  {
   "cell_type": "markdown",
   "metadata": {
    "deletable": true,
    "editable": true
   },
   "source": [
    "### Output Layer\n",
    "Implement the `output` function to apply a fully connected layer to `x_tensor` with the shape (*Batch Size*, *num_outputs*). Shortcut option: you can use classes from the [TensorFlow Layers](https://www.tensorflow.org/api_docs/python/tf/layers) or [TensorFlow Layers (contrib)](https://www.tensorflow.org/api_guides/python/contrib.layers) packages for this layer. For more of a challenge, only use other TensorFlow packages.\n",
    "\n",
    "**Note:** Activation, softmax, or cross entropy should **not** be applied to this."
   ]
  },
  {
   "cell_type": "code",
   "execution_count": 11,
   "metadata": {
    "collapsed": false,
    "deletable": true,
    "editable": true
   },
   "outputs": [
    {
     "name": "stdout",
     "output_type": "stream",
     "text": [
      "Tests Passed\n"
     ]
    }
   ],
   "source": [
    "def output(x_tensor, num_outputs):\n",
    "    \"\"\"\n",
    "    Apply a output layer to x_tensor using weight and bias\n",
    "    : x_tensor: A 2-D tensor where the first dimension is batch size.\n",
    "    : num_outputs: The number of output that the new tensor should be.\n",
    "    : return: A 2-D tensor where the second dimension is num_outputs.\n",
    "    \"\"\"\n",
    "    # create weight and bias\n",
    "    num_inputs = x_tensor.shape.as_list()[1]\n",
    "    weight = tf.Variable(tf.truncated_normal([num_inputs, num_outputs], stddev=0.1))\n",
    "    bias = tf.Variable(tf.truncated_normal([num_outputs], stddev=0.01))\n",
    "    \n",
    "    # create graph\n",
    "    net = tf.matmul(x_tensor, weight)\n",
    "    net = tf.add(net, bias)\n",
    "    return net\n",
    "\n",
    "\n",
    "\"\"\"\n",
    "DON'T MODIFY ANYTHING IN THIS CELL THAT IS BELOW THIS LINE\n",
    "\"\"\"\n",
    "tests.test_output(output)"
   ]
  },
  {
   "cell_type": "markdown",
   "metadata": {
    "deletable": true,
    "editable": true
   },
   "source": [
    "### Create Convolutional Model\n",
    "Implement the function `conv_net` to create a convolutional neural network model. The function takes in a batch of images, `x`, and outputs logits.  Use the layers you created above to create this model:\n",
    "\n",
    "* Apply 1, 2, or 3 Convolution and Max Pool layers\n",
    "* Apply a Flatten Layer\n",
    "* Apply 1, 2, or 3 Fully Connected Layers\n",
    "* Apply an Output Layer\n",
    "* Return the output\n",
    "* Apply [TensorFlow's Dropout](https://www.tensorflow.org/api_docs/python/tf/nn/dropout) to one or more layers in the model using `keep_prob`. \n",
    "\n",
    "I'll be basing the design of this network on the [LeNet-5](http://yann.lecun.com/exdb/publis/pdf/lecun-01a.pdf).\n",
    "<img src=\"http://eblearn.sourceforge.net/lib/exe/lenet5.png\" />"
   ]
  },
  {
   "cell_type": "code",
   "execution_count": 12,
   "metadata": {
    "collapsed": false,
    "deletable": true,
    "editable": true
   },
   "outputs": [
    {
     "name": "stdout",
     "output_type": "stream",
     "text": [
      "Neural Network Built!\n"
     ]
    }
   ],
   "source": [
    "def conv_net(x, keep_prob):\n",
    "    \"\"\"\n",
    "    Create a convolutional neural network model\n",
    "    : x: Placeholder tensor that holds image data.\n",
    "    : keep_prob: Placeholder tensor that hold dropout keep probability.\n",
    "    : return: Tensor that represents logits\n",
    "    \"\"\"\n",
    "    # conv2d_maxpool(x_tensor, conv_num_outputs, conv_ksize, conv_strides, pool_ksize, pool_strides)\n",
    "    graph = conv2d_maxpool(x, 6, (5, 5), (1, 1), (2, 2), (2, 2))\n",
    "    graph = tf.nn.dropout(graph, keep_prob)\n",
    "    graph = conv2d_maxpool(graph, 16, (5, 5), (1, 1), (2, 2), (2, 2))\n",
    "    graph = conv2d_maxpool(graph, 35, (5, 5), (1, 1), (2, 2), (2, 2))\n",
    "\n",
    "\n",
    "    # flatten(x_tensor)\n",
    "    graph = flatten(graph)\n",
    "\n",
    "    # fully_conn(x_tensor, num_outputs)\n",
    "    graph = fully_conn(graph, 120)\n",
    "    graph = tf.nn.dropout(graph, keep_prob)\n",
    "    graph = fully_conn(graph, 84)\n",
    "\n",
    "    # output(x_tensor, num_outputs)\n",
    "    logits = output(graph, 10)\n",
    "    \n",
    "    return logits\n",
    "\n",
    "\n",
    "\"\"\"\n",
    "DON'T MODIFY ANYTHING IN THIS CELL THAT IS BELOW THIS LINE\n",
    "\"\"\"\n",
    "\n",
    "##############################\n",
    "## Build the Neural Network ##\n",
    "##############################\n",
    "\n",
    "# Remove previous weights, bias, inputs, etc..\n",
    "tf.reset_default_graph()\n",
    "\n",
    "# Inputs\n",
    "x = neural_net_image_input((32, 32, 3))\n",
    "y = neural_net_label_input(10)\n",
    "keep_prob = neural_net_keep_prob_input()\n",
    "\n",
    "# Model\n",
    "logits = conv_net(x, keep_prob)\n",
    "\n",
    "# Name logits Tensor, so that is can be loaded from disk after training\n",
    "logits = tf.identity(logits, name='logits')\n",
    "\n",
    "# Loss and Optimizer\n",
    "cost = tf.reduce_mean(tf.nn.softmax_cross_entropy_with_logits(logits=logits, labels=y))\n",
    "optimizer = tf.train.AdamOptimizer().minimize(cost)\n",
    "\n",
    "# Accuracy\n",
    "correct_pred = tf.equal(tf.argmax(logits, 1), tf.argmax(y, 1))\n",
    "accuracy = tf.reduce_mean(tf.cast(correct_pred, tf.float32), name='accuracy')\n",
    "\n",
    "tests.test_conv_net(conv_net)"
   ]
  },
  {
   "cell_type": "markdown",
   "metadata": {
    "deletable": true,
    "editable": true
   },
   "source": [
    "## Train the Neural Network\n",
    "### Single Optimization\n",
    "Implement the function `train_neural_network` to do a single optimization.  The optimization should use `optimizer` to optimize in `session` with a `feed_dict` of the following:\n",
    "* `x` for image input\n",
    "* `y` for labels\n",
    "* `keep_prob` for keep probability for dropout\n",
    "\n",
    "This function will be called for each batch, so `tf.global_variables_initializer()` has already been called.\n",
    "\n",
    "Note: Nothing needs to be returned. This function is only optimizing the neural network."
   ]
  },
  {
   "cell_type": "code",
   "execution_count": 13,
   "metadata": {
    "collapsed": false,
    "deletable": true,
    "editable": true
   },
   "outputs": [
    {
     "name": "stdout",
     "output_type": "stream",
     "text": [
      "Tests Passed\n"
     ]
    }
   ],
   "source": [
    "def train_neural_network(session, optimizer, keep_probability, feature_batch, label_batch):\n",
    "    \"\"\"\n",
    "    Optimize the session on a batch of images and labels\n",
    "    : session: Current TensorFlow session\n",
    "    : optimizer: TensorFlow optimizer function\n",
    "    : keep_probability: keep probability\n",
    "    : feature_batch: Batch of Numpy image data\n",
    "    : label_batch: Batch of Numpy label data\n",
    "    \"\"\"\n",
    "    feed_dict = {'x:0': feature_batch,\n",
    "                 'y:0': label_batch,\n",
    "                 'keep_prob:0': keep_probability}\n",
    "    \n",
    "    # I'm using the optimizer that is defined above:\n",
    "    #    -> tf.reduce_mean(tf.nn.softmax_cross_entropy_with_logits(logits=logits, labels=y))\n",
    "    #    -> optimizer = tf.train.AdamOptimizer().minimize(cost)\n",
    "    session.run(optimizer, feed_dict=feed_dict)\n",
    "\n",
    "    \n",
    "\"\"\"\n",
    "DON'T MODIFY ANYTHING IN THIS CELL THAT IS BELOW THIS LINE\n",
    "\"\"\"\n",
    "tests.test_train_nn(train_neural_network)"
   ]
  },
  {
   "cell_type": "markdown",
   "metadata": {
    "deletable": true,
    "editable": true
   },
   "source": [
    "### Show Stats\n",
    "Implement the function `print_stats` to print loss and validation accuracy.  Use the global variables `valid_features` and `valid_labels` to calculate validation accuracy.  Use a keep probability of `1.0` to calculate the loss and validation accuracy."
   ]
  },
  {
   "cell_type": "code",
   "execution_count": 14,
   "metadata": {
    "collapsed": false,
    "deletable": true,
    "editable": true
   },
   "outputs": [],
   "source": [
    "def print_stats(session, feature_batch, label_batch, cost, accuracy):\n",
    "    \"\"\"\n",
    "    Print information about loss and validation accuracy\n",
    "    : session: Current TensorFlow session\n",
    "    : feature_batch: Batch of Numpy image data\n",
    "    : label_batch: Batch of Numpy label data\n",
    "    : cost: TensorFlow cost function\n",
    "    : accuracy: TensorFlow accuracy function\n",
    "    \"\"\"\n",
    "    feed_dict = {'x:0': valid_features,\n",
    "                 'y:0': valid_labels,\n",
    "                 'keep_prob:0': 1.0}\n",
    "    vcost, vacc = session.run([cost, accuracy], feed_dict=feed_dict)\n",
    "    \n",
    "    feed_dict['x:0'] = feature_batch\n",
    "    feed_dict['y:0'] = label_batch\n",
    "    tcost, tacc = session.run([cost, accuracy], feed_dict=feed_dict)\n",
    "    \n",
    "    print(\"Val Cost:{:.6f}\\tVal Acc:{:.6f}\\tTest Cost:{:.6f}\\tTest Acc:{:.6f}\".format(vcost, vacc, tcost, tacc))"
   ]
  },
  {
   "cell_type": "markdown",
   "metadata": {
    "deletable": true,
    "editable": true
   },
   "source": [
    "### Hyperparameters\n",
    "Tune the following parameters:\n",
    "* Set `epochs` to the number of iterations until the network stops learning or start overfitting\n",
    "* Set `batch_size` to the highest number that your machine has memory for.  Most people set them to common sizes of memory:\n",
    " * 64\n",
    " * 128\n",
    " * 256\n",
    " * ...\n",
    "* Set `keep_probability` to the probability of keeping a node using dropout"
   ]
  },
  {
   "cell_type": "code",
   "execution_count": 15,
   "metadata": {
    "collapsed": true,
    "deletable": true,
    "editable": true
   },
   "outputs": [],
   "source": [
    "epochs = 50\n",
    "batch_size = 256\n",
    "keep_probability = 0.51"
   ]
  },
  {
   "cell_type": "markdown",
   "metadata": {
    "deletable": true,
    "editable": true
   },
   "source": [
    "### Train on a Single CIFAR-10 Batch\n",
    "Instead of training the neural network on all the CIFAR-10 batches of data, let's use a single batch. This should save time while you iterate on the model to get a better accuracy.  Once the final validation accuracy is 50% or greater, run the model on all the data in the next section."
   ]
  },
  {
   "cell_type": "code",
   "execution_count": 16,
   "metadata": {
    "collapsed": false,
    "deletable": true,
    "editable": true,
    "scrolled": false
   },
   "outputs": [
    {
     "name": "stdout",
     "output_type": "stream",
     "text": [
      "Checking the Training on a Single Batch...\n",
      "Epoch  1, CIFAR-10 Batch 1:  Val Cost:2.166006\tVal Acc:0.198200\tTest Cost:2.206951\tTest Acc:0.250000\n",
      "Epoch  2, CIFAR-10 Batch 1:  Val Cost:1.994245\tVal Acc:0.266800\tTest Cost:2.030413\tTest Acc:0.325000\n",
      "Epoch  3, CIFAR-10 Batch 1:  Val Cost:1.925553\tVal Acc:0.299800\tTest Cost:1.963306\tTest Acc:0.300000\n",
      "Epoch  4, CIFAR-10 Batch 1:  Val Cost:1.814027\tVal Acc:0.342200\tTest Cost:1.863969\tTest Acc:0.300000\n",
      "Epoch  5, CIFAR-10 Batch 1:  Val Cost:1.748249\tVal Acc:0.365200\tTest Cost:1.824721\tTest Acc:0.425000\n",
      "Epoch  6, CIFAR-10 Batch 1:  Val Cost:1.726370\tVal Acc:0.371600\tTest Cost:1.772078\tTest Acc:0.425000\n",
      "Epoch  7, CIFAR-10 Batch 1:  Val Cost:1.648962\tVal Acc:0.401600\tTest Cost:1.680232\tTest Acc:0.425000\n",
      "Epoch  8, CIFAR-10 Batch 1:  Val Cost:1.606524\tVal Acc:0.416200\tTest Cost:1.597268\tTest Acc:0.450000\n",
      "Epoch  9, CIFAR-10 Batch 1:  Val Cost:1.562448\tVal Acc:0.435000\tTest Cost:1.562567\tTest Acc:0.500000\n",
      "Epoch 10, CIFAR-10 Batch 1:  Val Cost:1.589880\tVal Acc:0.420400\tTest Cost:1.573507\tTest Acc:0.500000\n",
      "Epoch 11, CIFAR-10 Batch 1:  Val Cost:1.573039\tVal Acc:0.428600\tTest Cost:1.518950\tTest Acc:0.500000\n",
      "Epoch 12, CIFAR-10 Batch 1:  Val Cost:1.509381\tVal Acc:0.444400\tTest Cost:1.425887\tTest Acc:0.500000\n",
      "Epoch 13, CIFAR-10 Batch 1:  Val Cost:1.520414\tVal Acc:0.445400\tTest Cost:1.401751\tTest Acc:0.550000\n",
      "Epoch 14, CIFAR-10 Batch 1:  Val Cost:1.461652\tVal Acc:0.465600\tTest Cost:1.280074\tTest Acc:0.550000\n",
      "Epoch 15, CIFAR-10 Batch 1:  Val Cost:1.453509\tVal Acc:0.468600\tTest Cost:1.274019\tTest Acc:0.575000\n",
      "Epoch 16, CIFAR-10 Batch 1:  Val Cost:1.429158\tVal Acc:0.483400\tTest Cost:1.213757\tTest Acc:0.575000\n",
      "Epoch 17, CIFAR-10 Batch 1:  Val Cost:1.465057\tVal Acc:0.469800\tTest Cost:1.218844\tTest Acc:0.600000\n",
      "Epoch 18, CIFAR-10 Batch 1:  Val Cost:1.425845\tVal Acc:0.476600\tTest Cost:1.153942\tTest Acc:0.575000\n",
      "Epoch 19, CIFAR-10 Batch 1:  Val Cost:1.413477\tVal Acc:0.477000\tTest Cost:1.125075\tTest Acc:0.600000\n",
      "Epoch 20, CIFAR-10 Batch 1:  Val Cost:1.400454\tVal Acc:0.487200\tTest Cost:1.052559\tTest Acc:0.675000\n",
      "Epoch 21, CIFAR-10 Batch 1:  Val Cost:1.438725\tVal Acc:0.474800\tTest Cost:1.080380\tTest Acc:0.700000\n",
      "Epoch 22, CIFAR-10 Batch 1:  Val Cost:1.410801\tVal Acc:0.482400\tTest Cost:1.007197\tTest Acc:0.675000\n",
      "Epoch 23, CIFAR-10 Batch 1:  Val Cost:1.410370\tVal Acc:0.479600\tTest Cost:0.974171\tTest Acc:0.675000\n",
      "Epoch 24, CIFAR-10 Batch 1:  Val Cost:1.413803\tVal Acc:0.484400\tTest Cost:0.993733\tTest Acc:0.725000\n",
      "Epoch 25, CIFAR-10 Batch 1:  Val Cost:1.488170\tVal Acc:0.461400\tTest Cost:1.015315\tTest Acc:0.700000\n",
      "Epoch 26, CIFAR-10 Batch 1:  Val Cost:1.363074\tVal Acc:0.498800\tTest Cost:0.866367\tTest Acc:0.725000\n",
      "Epoch 27, CIFAR-10 Batch 1:  Val Cost:1.364845\tVal Acc:0.498600\tTest Cost:0.845407\tTest Acc:0.750000\n",
      "Epoch 28, CIFAR-10 Batch 1:  Val Cost:1.389464\tVal Acc:0.489000\tTest Cost:0.860054\tTest Acc:0.725000\n",
      "Epoch 29, CIFAR-10 Batch 1:  Val Cost:1.378536\tVal Acc:0.494600\tTest Cost:0.834151\tTest Acc:0.725000\n",
      "Epoch 30, CIFAR-10 Batch 1:  Val Cost:1.355068\tVal Acc:0.503400\tTest Cost:0.802962\tTest Acc:0.775000\n",
      "Epoch 31, CIFAR-10 Batch 1:  Val Cost:1.341043\tVal Acc:0.511800\tTest Cost:0.754324\tTest Acc:0.750000\n",
      "Epoch 32, CIFAR-10 Batch 1:  Val Cost:1.341222\tVal Acc:0.506400\tTest Cost:0.747176\tTest Acc:0.750000\n",
      "Epoch 33, CIFAR-10 Batch 1:  Val Cost:1.355962\tVal Acc:0.496600\tTest Cost:0.738846\tTest Acc:0.775000\n",
      "Epoch 34, CIFAR-10 Batch 1:  Val Cost:1.321303\tVal Acc:0.524000\tTest Cost:0.734801\tTest Acc:0.750000\n",
      "Epoch 35, CIFAR-10 Batch 1:  Val Cost:1.307677\tVal Acc:0.524400\tTest Cost:0.696257\tTest Acc:0.775000\n",
      "Epoch 36, CIFAR-10 Batch 1:  Val Cost:1.290558\tVal Acc:0.527200\tTest Cost:0.648213\tTest Acc:0.775000\n",
      "Epoch 37, CIFAR-10 Batch 1:  Val Cost:1.295092\tVal Acc:0.530600\tTest Cost:0.631682\tTest Acc:0.800000\n",
      "Epoch 38, CIFAR-10 Batch 1:  Val Cost:1.302970\tVal Acc:0.527200\tTest Cost:0.632649\tTest Acc:0.775000\n",
      "Epoch 39, CIFAR-10 Batch 1:  Val Cost:1.260080\tVal Acc:0.539200\tTest Cost:0.600706\tTest Acc:0.775000\n",
      "Epoch 40, CIFAR-10 Batch 1:  Val Cost:1.304903\tVal Acc:0.533800\tTest Cost:0.609956\tTest Acc:0.775000\n",
      "Epoch 41, CIFAR-10 Batch 1:  Val Cost:1.310506\tVal Acc:0.531600\tTest Cost:0.625934\tTest Acc:0.775000\n",
      "Epoch 42, CIFAR-10 Batch 1:  Val Cost:1.258581\tVal Acc:0.540000\tTest Cost:0.577273\tTest Acc:0.775000\n",
      "Epoch 43, CIFAR-10 Batch 1:  Val Cost:1.257836\tVal Acc:0.541400\tTest Cost:0.531906\tTest Acc:0.775000\n",
      "Epoch 44, CIFAR-10 Batch 1:  Val Cost:1.276940\tVal Acc:0.543800\tTest Cost:0.534643\tTest Acc:0.825000\n",
      "Epoch 45, CIFAR-10 Batch 1:  Val Cost:1.245885\tVal Acc:0.546000\tTest Cost:0.474625\tTest Acc:0.775000\n",
      "Epoch 46, CIFAR-10 Batch 1:  Val Cost:1.242183\tVal Acc:0.546000\tTest Cost:0.485586\tTest Acc:0.775000\n",
      "Epoch 47, CIFAR-10 Batch 1:  Val Cost:1.242441\tVal Acc:0.552400\tTest Cost:0.434614\tTest Acc:0.850000\n",
      "Epoch 48, CIFAR-10 Batch 1:  Val Cost:1.249001\tVal Acc:0.547600\tTest Cost:0.457982\tTest Acc:0.800000\n",
      "Epoch 49, CIFAR-10 Batch 1:  Val Cost:1.231552\tVal Acc:0.555400\tTest Cost:0.462177\tTest Acc:0.850000\n",
      "Epoch 50, CIFAR-10 Batch 1:  Val Cost:1.254131\tVal Acc:0.557000\tTest Cost:0.466180\tTest Acc:0.825000\n"
     ]
    }
   ],
   "source": [
    "\"\"\"\n",
    "DON'T MODIFY ANYTHING IN THIS CELL\n",
    "\"\"\"\n",
    "print('Checking the Training on a Single Batch...')\n",
    "with tf.Session() as sess:\n",
    "    # Initializing the variables\n",
    "    sess.run(tf.global_variables_initializer())\n",
    "    \n",
    "    # Training cycle\n",
    "    for epoch in range(epochs):\n",
    "        batch_i = 1\n",
    "        for batch_features, batch_labels in helper.load_preprocess_training_batch(batch_i, batch_size):\n",
    "            train_neural_network(sess, optimizer, keep_probability, batch_features, batch_labels)\n",
    "        print('Epoch {:>2}, CIFAR-10 Batch {}:  '.format(epoch + 1, batch_i), end='')\n",
    "        print_stats(sess, batch_features, batch_labels, cost, accuracy)"
   ]
  },
  {
   "cell_type": "markdown",
   "metadata": {
    "deletable": true,
    "editable": true
   },
   "source": [
    "### Fully Train the Model\n",
    "Now that you got a good accuracy with a single CIFAR-10 batch, try it with all five batches."
   ]
  },
  {
   "cell_type": "code",
   "execution_count": 17,
   "metadata": {
    "collapsed": false,
    "deletable": true,
    "editable": true,
    "scrolled": false
   },
   "outputs": [
    {
     "name": "stdout",
     "output_type": "stream",
     "text": [
      "Training...\n",
      "Epoch  1, CIFAR-10 Batch 1:  Val Cost:2.290495\tVal Acc:0.168600\tTest Cost:2.291131\tTest Acc:0.075000\n",
      "Epoch  1, CIFAR-10 Batch 2:  Val Cost:2.171561\tVal Acc:0.183400\tTest Cost:2.216484\tTest Acc:0.175000\n",
      "Epoch  1, CIFAR-10 Batch 3:  Val Cost:1.985819\tVal Acc:0.263600\tTest Cost:1.945349\tTest Acc:0.125000\n",
      "Epoch  1, CIFAR-10 Batch 4:  Val Cost:1.907275\tVal Acc:0.285600\tTest Cost:1.893700\tTest Acc:0.250000\n",
      "Epoch  1, CIFAR-10 Batch 5:  Val Cost:1.800974\tVal Acc:0.336800\tTest Cost:1.833575\tTest Acc:0.350000\n",
      "Epoch  2, CIFAR-10 Batch 1:  Val Cost:1.794587\tVal Acc:0.343200\tTest Cost:2.003082\tTest Acc:0.325000\n",
      "Epoch  2, CIFAR-10 Batch 2:  Val Cost:1.729833\tVal Acc:0.364000\tTest Cost:1.831173\tTest Acc:0.400000\n",
      "Epoch  2, CIFAR-10 Batch 3:  Val Cost:1.682419\tVal Acc:0.374200\tTest Cost:1.572793\tTest Acc:0.400000\n",
      "Epoch  2, CIFAR-10 Batch 4:  Val Cost:1.654221\tVal Acc:0.389600\tTest Cost:1.686845\tTest Acc:0.350000\n",
      "Epoch  2, CIFAR-10 Batch 5:  Val Cost:1.588809\tVal Acc:0.411400\tTest Cost:1.630116\tTest Acc:0.375000\n",
      "Epoch  3, CIFAR-10 Batch 1:  Val Cost:1.619881\tVal Acc:0.408000\tTest Cost:1.774326\tTest Acc:0.400000\n",
      "Epoch  3, CIFAR-10 Batch 2:  Val Cost:1.562626\tVal Acc:0.413400\tTest Cost:1.633688\tTest Acc:0.425000\n",
      "Epoch  3, CIFAR-10 Batch 3:  Val Cost:1.553141\tVal Acc:0.429800\tTest Cost:1.422574\tTest Acc:0.525000\n",
      "Epoch  3, CIFAR-10 Batch 4:  Val Cost:1.545293\tVal Acc:0.432000\tTest Cost:1.555809\tTest Acc:0.400000\n",
      "Epoch  3, CIFAR-10 Batch 5:  Val Cost:1.517129\tVal Acc:0.445200\tTest Cost:1.534629\tTest Acc:0.450000\n",
      "Epoch  4, CIFAR-10 Batch 1:  Val Cost:1.517789\tVal Acc:0.441000\tTest Cost:1.628458\tTest Acc:0.450000\n",
      "Epoch  4, CIFAR-10 Batch 2:  Val Cost:1.505722\tVal Acc:0.449600\tTest Cost:1.564256\tTest Acc:0.450000\n",
      "Epoch  4, CIFAR-10 Batch 3:  Val Cost:1.502588\tVal Acc:0.450600\tTest Cost:1.380021\tTest Acc:0.450000\n",
      "Epoch  4, CIFAR-10 Batch 4:  Val Cost:1.483937\tVal Acc:0.460800\tTest Cost:1.475060\tTest Acc:0.450000\n",
      "Epoch  4, CIFAR-10 Batch 5:  Val Cost:1.456834\tVal Acc:0.458200\tTest Cost:1.472668\tTest Acc:0.425000\n",
      "Epoch  5, CIFAR-10 Batch 1:  Val Cost:1.464987\tVal Acc:0.463800\tTest Cost:1.516790\tTest Acc:0.525000\n",
      "Epoch  5, CIFAR-10 Batch 2:  Val Cost:1.451699\tVal Acc:0.467400\tTest Cost:1.512261\tTest Acc:0.450000\n",
      "Epoch  5, CIFAR-10 Batch 3:  Val Cost:1.436849\tVal Acc:0.475200\tTest Cost:1.304254\tTest Acc:0.450000\n",
      "Epoch  5, CIFAR-10 Batch 4:  Val Cost:1.439087\tVal Acc:0.470600\tTest Cost:1.441488\tTest Acc:0.375000\n",
      "Epoch  5, CIFAR-10 Batch 5:  Val Cost:1.413685\tVal Acc:0.479600\tTest Cost:1.437751\tTest Acc:0.500000\n",
      "Epoch  6, CIFAR-10 Batch 1:  Val Cost:1.412596\tVal Acc:0.485600\tTest Cost:1.423304\tTest Acc:0.575000\n",
      "Epoch  6, CIFAR-10 Batch 2:  Val Cost:1.410729\tVal Acc:0.490600\tTest Cost:1.471735\tTest Acc:0.450000\n",
      "Epoch  6, CIFAR-10 Batch 3:  Val Cost:1.378595\tVal Acc:0.496000\tTest Cost:1.168003\tTest Acc:0.600000\n",
      "Epoch  6, CIFAR-10 Batch 4:  Val Cost:1.397400\tVal Acc:0.492400\tTest Cost:1.397873\tTest Acc:0.525000\n",
      "Epoch  6, CIFAR-10 Batch 5:  Val Cost:1.376597\tVal Acc:0.491600\tTest Cost:1.425016\tTest Acc:0.475000\n",
      "Epoch  7, CIFAR-10 Batch 1:  Val Cost:1.366779\tVal Acc:0.501000\tTest Cost:1.342532\tTest Acc:0.550000\n",
      "Epoch  7, CIFAR-10 Batch 2:  Val Cost:1.368203\tVal Acc:0.502200\tTest Cost:1.405051\tTest Acc:0.475000\n",
      "Epoch  7, CIFAR-10 Batch 3:  Val Cost:1.350173\tVal Acc:0.507400\tTest Cost:1.110884\tTest Acc:0.550000\n",
      "Epoch  7, CIFAR-10 Batch 4:  Val Cost:1.351367\tVal Acc:0.512000\tTest Cost:1.345311\tTest Acc:0.425000\n",
      "Epoch  7, CIFAR-10 Batch 5:  Val Cost:1.350046\tVal Acc:0.511600\tTest Cost:1.335559\tTest Acc:0.525000\n",
      "Epoch  8, CIFAR-10 Batch 1:  Val Cost:1.366416\tVal Acc:0.501000\tTest Cost:1.341714\tTest Acc:0.550000\n",
      "Epoch  8, CIFAR-10 Batch 2:  Val Cost:1.350405\tVal Acc:0.517200\tTest Cost:1.280440\tTest Acc:0.550000\n",
      "Epoch  8, CIFAR-10 Batch 3:  Val Cost:1.303244\tVal Acc:0.535800\tTest Cost:1.008083\tTest Acc:0.700000\n",
      "Epoch  8, CIFAR-10 Batch 4:  Val Cost:1.313628\tVal Acc:0.530200\tTest Cost:1.279589\tTest Acc:0.500000\n",
      "Epoch  8, CIFAR-10 Batch 5:  Val Cost:1.281539\tVal Acc:0.536200\tTest Cost:1.273663\tTest Acc:0.575000\n",
      "Epoch  9, CIFAR-10 Batch 1:  Val Cost:1.280070\tVal Acc:0.547400\tTest Cost:1.231771\tTest Acc:0.600000\n",
      "Epoch  9, CIFAR-10 Batch 2:  Val Cost:1.293923\tVal Acc:0.535200\tTest Cost:1.254771\tTest Acc:0.500000\n",
      "Epoch  9, CIFAR-10 Batch 3:  Val Cost:1.269858\tVal Acc:0.548600\tTest Cost:0.962894\tTest Acc:0.700000\n",
      "Epoch  9, CIFAR-10 Batch 4:  Val Cost:1.255689\tVal Acc:0.554000\tTest Cost:1.177996\tTest Acc:0.525000\n",
      "Epoch  9, CIFAR-10 Batch 5:  Val Cost:1.259645\tVal Acc:0.548400\tTest Cost:1.235240\tTest Acc:0.575000\n",
      "Epoch 10, CIFAR-10 Batch 1:  Val Cost:1.262730\tVal Acc:0.554600\tTest Cost:1.244763\tTest Acc:0.525000\n",
      "Epoch 10, CIFAR-10 Batch 2:  Val Cost:1.285114\tVal Acc:0.536200\tTest Cost:1.215581\tTest Acc:0.525000\n",
      "Epoch 10, CIFAR-10 Batch 3:  Val Cost:1.251677\tVal Acc:0.559000\tTest Cost:0.977180\tTest Acc:0.700000\n",
      "Epoch 10, CIFAR-10 Batch 4:  Val Cost:1.238185\tVal Acc:0.559600\tTest Cost:1.166386\tTest Acc:0.575000\n",
      "Epoch 10, CIFAR-10 Batch 5:  Val Cost:1.235538\tVal Acc:0.553400\tTest Cost:1.196237\tTest Acc:0.650000\n",
      "Epoch 11, CIFAR-10 Batch 1:  Val Cost:1.243492\tVal Acc:0.557600\tTest Cost:1.146371\tTest Acc:0.550000\n",
      "Epoch 11, CIFAR-10 Batch 2:  Val Cost:1.230374\tVal Acc:0.562600\tTest Cost:1.154572\tTest Acc:0.575000\n",
      "Epoch 11, CIFAR-10 Batch 3:  Val Cost:1.243994\tVal Acc:0.553000\tTest Cost:0.909304\tTest Acc:0.675000\n",
      "Epoch 11, CIFAR-10 Batch 4:  Val Cost:1.241141\tVal Acc:0.560800\tTest Cost:1.140805\tTest Acc:0.550000\n",
      "Epoch 11, CIFAR-10 Batch 5:  Val Cost:1.221250\tVal Acc:0.563400\tTest Cost:1.105794\tTest Acc:0.625000\n",
      "Epoch 12, CIFAR-10 Batch 1:  Val Cost:1.201827\tVal Acc:0.577400\tTest Cost:1.095554\tTest Acc:0.550000\n",
      "Epoch 12, CIFAR-10 Batch 2:  Val Cost:1.219635\tVal Acc:0.564600\tTest Cost:1.154774\tTest Acc:0.625000\n",
      "Epoch 12, CIFAR-10 Batch 3:  Val Cost:1.202340\tVal Acc:0.579800\tTest Cost:0.892301\tTest Acc:0.650000\n",
      "Epoch 12, CIFAR-10 Batch 4:  Val Cost:1.194221\tVal Acc:0.575800\tTest Cost:1.063385\tTest Acc:0.575000\n",
      "Epoch 12, CIFAR-10 Batch 5:  Val Cost:1.197883\tVal Acc:0.578800\tTest Cost:1.059875\tTest Acc:0.575000\n",
      "Epoch 13, CIFAR-10 Batch 1:  Val Cost:1.207377\tVal Acc:0.577600\tTest Cost:1.130947\tTest Acc:0.575000\n",
      "Epoch 13, CIFAR-10 Batch 2:  Val Cost:1.205920\tVal Acc:0.571200\tTest Cost:1.117583\tTest Acc:0.525000\n",
      "Epoch 13, CIFAR-10 Batch 3:  Val Cost:1.176700\tVal Acc:0.587400\tTest Cost:0.832223\tTest Acc:0.725000\n",
      "Epoch 13, CIFAR-10 Batch 4:  Val Cost:1.175553\tVal Acc:0.584400\tTest Cost:0.989455\tTest Acc:0.575000\n",
      "Epoch 13, CIFAR-10 Batch 5:  Val Cost:1.175470\tVal Acc:0.590400\tTest Cost:1.060187\tTest Acc:0.675000\n",
      "Epoch 14, CIFAR-10 Batch 1:  Val Cost:1.208972\tVal Acc:0.572600\tTest Cost:1.077395\tTest Acc:0.575000\n",
      "Epoch 14, CIFAR-10 Batch 2:  Val Cost:1.195762\tVal Acc:0.566800\tTest Cost:1.077577\tTest Acc:0.600000\n",
      "Epoch 14, CIFAR-10 Batch 3:  Val Cost:1.193494\tVal Acc:0.578200\tTest Cost:0.843997\tTest Acc:0.700000\n",
      "Epoch 14, CIFAR-10 Batch 4:  Val Cost:1.191931\tVal Acc:0.581000\tTest Cost:1.034384\tTest Acc:0.625000\n",
      "Epoch 14, CIFAR-10 Batch 5:  Val Cost:1.159385\tVal Acc:0.585600\tTest Cost:0.975911\tTest Acc:0.625000\n",
      "Epoch 15, CIFAR-10 Batch 1:  Val Cost:1.160060\tVal Acc:0.593600\tTest Cost:1.045905\tTest Acc:0.575000\n",
      "Epoch 15, CIFAR-10 Batch 2:  Val Cost:1.162427\tVal Acc:0.589400\tTest Cost:1.078949\tTest Acc:0.625000\n",
      "Epoch 15, CIFAR-10 Batch 3:  Val Cost:1.154617\tVal Acc:0.592200\tTest Cost:0.818592\tTest Acc:0.775000\n",
      "Epoch 15, CIFAR-10 Batch 4:  Val Cost:1.181089\tVal Acc:0.584200\tTest Cost:0.968045\tTest Acc:0.600000\n",
      "Epoch 15, CIFAR-10 Batch 5:  Val Cost:1.168746\tVal Acc:0.588600\tTest Cost:0.959569\tTest Acc:0.650000\n",
      "Epoch 16, CIFAR-10 Batch 1:  Val Cost:1.141490\tVal Acc:0.602800\tTest Cost:0.983232\tTest Acc:0.575000\n",
      "Epoch 16, CIFAR-10 Batch 2:  Val Cost:1.158864\tVal Acc:0.592600\tTest Cost:1.046636\tTest Acc:0.625000\n",
      "Epoch 16, CIFAR-10 Batch 3:  Val Cost:1.179988\tVal Acc:0.576400\tTest Cost:0.870743\tTest Acc:0.675000\n",
      "Epoch 16, CIFAR-10 Batch 4:  Val Cost:1.149223\tVal Acc:0.596600\tTest Cost:0.934601\tTest Acc:0.600000\n",
      "Epoch 16, CIFAR-10 Batch 5:  Val Cost:1.133468\tVal Acc:0.601200\tTest Cost:0.946555\tTest Acc:0.625000\n",
      "Epoch 17, CIFAR-10 Batch 1:  Val Cost:1.165077\tVal Acc:0.588200\tTest Cost:1.019399\tTest Acc:0.600000\n",
      "Epoch 17, CIFAR-10 Batch 2:  Val Cost:1.153476\tVal Acc:0.588600\tTest Cost:1.034119\tTest Acc:0.675000\n",
      "Epoch 17, CIFAR-10 Batch 3:  Val Cost:1.153645\tVal Acc:0.592400\tTest Cost:0.806406\tTest Acc:0.725000\n",
      "Epoch 17, CIFAR-10 Batch 4:  Val Cost:1.138891\tVal Acc:0.600600\tTest Cost:0.921498\tTest Acc:0.700000\n",
      "Epoch 17, CIFAR-10 Batch 5:  Val Cost:1.129716\tVal Acc:0.602600\tTest Cost:0.927342\tTest Acc:0.650000\n",
      "Epoch 18, CIFAR-10 Batch 1:  Val Cost:1.135302\tVal Acc:0.603600\tTest Cost:0.964441\tTest Acc:0.600000\n",
      "Epoch 18, CIFAR-10 Batch 2:  Val Cost:1.146334\tVal Acc:0.592400\tTest Cost:1.021800\tTest Acc:0.650000\n",
      "Epoch 18, CIFAR-10 Batch 3:  Val Cost:1.129259\tVal Acc:0.607600\tTest Cost:0.781066\tTest Acc:0.750000\n",
      "Epoch 18, CIFAR-10 Batch 4:  Val Cost:1.114872\tVal Acc:0.609000\tTest Cost:0.857352\tTest Acc:0.725000\n",
      "Epoch 18, CIFAR-10 Batch 5:  Val Cost:1.149207\tVal Acc:0.600400\tTest Cost:0.916506\tTest Acc:0.650000\n",
      "Epoch 19, CIFAR-10 Batch 1:  Val Cost:1.140097\tVal Acc:0.595200\tTest Cost:0.964548\tTest Acc:0.575000\n",
      "Epoch 19, CIFAR-10 Batch 2:  Val Cost:1.141117\tVal Acc:0.590600\tTest Cost:0.983194\tTest Acc:0.650000\n",
      "Epoch 19, CIFAR-10 Batch 3:  Val Cost:1.128882\tVal Acc:0.600200\tTest Cost:0.783799\tTest Acc:0.725000\n",
      "Epoch 19, CIFAR-10 Batch 4:  Val Cost:1.132235\tVal Acc:0.606200\tTest Cost:0.870624\tTest Acc:0.725000\n",
      "Epoch 19, CIFAR-10 Batch 5:  Val Cost:1.105725\tVal Acc:0.609200\tTest Cost:0.917515\tTest Acc:0.650000\n",
      "Epoch 20, CIFAR-10 Batch 1:  Val Cost:1.154427\tVal Acc:0.592000\tTest Cost:0.962382\tTest Acc:0.575000\n",
      "Epoch 20, CIFAR-10 Batch 2:  Val Cost:1.136068\tVal Acc:0.597600\tTest Cost:0.933162\tTest Acc:0.700000\n",
      "Epoch 20, CIFAR-10 Batch 3:  Val Cost:1.126101\tVal Acc:0.602800\tTest Cost:0.775598\tTest Acc:0.650000\n",
      "Epoch 20, CIFAR-10 Batch 4:  Val Cost:1.127298\tVal Acc:0.604000\tTest Cost:0.834847\tTest Acc:0.750000\n",
      "Epoch 20, CIFAR-10 Batch 5:  Val Cost:1.113905\tVal Acc:0.602000\tTest Cost:0.894696\tTest Acc:0.675000\n",
      "Epoch 21, CIFAR-10 Batch 1:  Val Cost:1.111626\tVal Acc:0.604600\tTest Cost:0.900590\tTest Acc:0.600000\n",
      "Epoch 21, CIFAR-10 Batch 2:  Val Cost:1.101862\tVal Acc:0.606800\tTest Cost:0.875278\tTest Acc:0.750000\n",
      "Epoch 21, CIFAR-10 Batch 3:  Val Cost:1.109661\tVal Acc:0.607600\tTest Cost:0.709794\tTest Acc:0.750000\n",
      "Epoch 21, CIFAR-10 Batch 4:  Val Cost:1.112958\tVal Acc:0.606400\tTest Cost:0.790230\tTest Acc:0.800000\n",
      "Epoch 21, CIFAR-10 Batch 5:  Val Cost:1.082230\tVal Acc:0.619800\tTest Cost:0.883839\tTest Acc:0.725000\n",
      "Epoch 22, CIFAR-10 Batch 1:  Val Cost:1.083108\tVal Acc:0.619600\tTest Cost:0.881831\tTest Acc:0.625000\n",
      "Epoch 22, CIFAR-10 Batch 2:  Val Cost:1.134139\tVal Acc:0.600000\tTest Cost:0.910662\tTest Acc:0.700000\n",
      "Epoch 22, CIFAR-10 Batch 3:  Val Cost:1.087012\tVal Acc:0.617600\tTest Cost:0.664912\tTest Acc:0.750000\n",
      "Epoch 22, CIFAR-10 Batch 4:  Val Cost:1.112063\tVal Acc:0.611000\tTest Cost:0.822034\tTest Acc:0.775000\n",
      "Epoch 22, CIFAR-10 Batch 5:  Val Cost:1.139333\tVal Acc:0.596200\tTest Cost:0.877451\tTest Acc:0.700000\n",
      "Epoch 23, CIFAR-10 Batch 1:  Val Cost:1.094231\tVal Acc:0.619200\tTest Cost:0.874017\tTest Acc:0.600000\n",
      "Epoch 23, CIFAR-10 Batch 2:  Val Cost:1.104099\tVal Acc:0.611200\tTest Cost:0.865949\tTest Acc:0.725000\n",
      "Epoch 23, CIFAR-10 Batch 3:  Val Cost:1.088459\tVal Acc:0.619000\tTest Cost:0.681370\tTest Acc:0.775000\n",
      "Epoch 23, CIFAR-10 Batch 4:  Val Cost:1.098819\tVal Acc:0.617800\tTest Cost:0.784034\tTest Acc:0.725000\n",
      "Epoch 23, CIFAR-10 Batch 5:  Val Cost:1.140035\tVal Acc:0.595600\tTest Cost:0.865160\tTest Acc:0.700000\n",
      "Epoch 24, CIFAR-10 Batch 1:  Val Cost:1.089339\tVal Acc:0.614800\tTest Cost:0.869668\tTest Acc:0.600000\n",
      "Epoch 24, CIFAR-10 Batch 2:  Val Cost:1.068714\tVal Acc:0.624600\tTest Cost:0.792581\tTest Acc:0.750000\n",
      "Epoch 24, CIFAR-10 Batch 3:  Val Cost:1.087306\tVal Acc:0.620400\tTest Cost:0.689929\tTest Acc:0.775000\n",
      "Epoch 24, CIFAR-10 Batch 4:  Val Cost:1.092488\tVal Acc:0.613800\tTest Cost:0.740254\tTest Acc:0.800000\n",
      "Epoch 24, CIFAR-10 Batch 5:  Val Cost:1.136606\tVal Acc:0.598200\tTest Cost:0.821664\tTest Acc:0.750000\n",
      "Epoch 25, CIFAR-10 Batch 1:  Val Cost:1.139661\tVal Acc:0.603600\tTest Cost:0.829588\tTest Acc:0.650000\n",
      "Epoch 25, CIFAR-10 Batch 2:  Val Cost:1.077010\tVal Acc:0.622000\tTest Cost:0.830958\tTest Acc:0.725000\n",
      "Epoch 25, CIFAR-10 Batch 3:  Val Cost:1.065357\tVal Acc:0.626200\tTest Cost:0.653615\tTest Acc:0.850000\n",
      "Epoch 25, CIFAR-10 Batch 4:  Val Cost:1.078692\tVal Acc:0.621000\tTest Cost:0.742152\tTest Acc:0.800000\n",
      "Epoch 25, CIFAR-10 Batch 5:  Val Cost:1.088631\tVal Acc:0.613000\tTest Cost:0.788134\tTest Acc:0.750000\n",
      "Epoch 26, CIFAR-10 Batch 1:  Val Cost:1.105910\tVal Acc:0.609800\tTest Cost:0.853441\tTest Acc:0.650000\n",
      "Epoch 26, CIFAR-10 Batch 2:  Val Cost:1.103950\tVal Acc:0.610800\tTest Cost:0.868772\tTest Acc:0.700000\n",
      "Epoch 26, CIFAR-10 Batch 3:  Val Cost:1.073361\tVal Acc:0.622200\tTest Cost:0.618048\tTest Acc:0.775000\n",
      "Epoch 26, CIFAR-10 Batch 4:  Val Cost:1.095757\tVal Acc:0.609400\tTest Cost:0.766762\tTest Acc:0.750000\n",
      "Epoch 26, CIFAR-10 Batch 5:  Val Cost:1.068907\tVal Acc:0.621200\tTest Cost:0.777413\tTest Acc:0.700000\n",
      "Epoch 27, CIFAR-10 Batch 1:  Val Cost:1.052667\tVal Acc:0.629600\tTest Cost:0.780176\tTest Acc:0.675000\n",
      "Epoch 27, CIFAR-10 Batch 2:  Val Cost:1.082228\tVal Acc:0.615800\tTest Cost:0.768932\tTest Acc:0.700000\n",
      "Epoch 27, CIFAR-10 Batch 3:  Val Cost:1.056965\tVal Acc:0.631000\tTest Cost:0.613226\tTest Acc:0.900000\n",
      "Epoch 27, CIFAR-10 Batch 4:  Val Cost:1.096753\tVal Acc:0.619600\tTest Cost:0.771319\tTest Acc:0.725000\n",
      "Epoch 27, CIFAR-10 Batch 5:  Val Cost:1.065343\tVal Acc:0.623400\tTest Cost:0.727758\tTest Acc:0.800000\n",
      "Epoch 28, CIFAR-10 Batch 1:  Val Cost:1.050276\tVal Acc:0.632200\tTest Cost:0.764247\tTest Acc:0.675000\n",
      "Epoch 28, CIFAR-10 Batch 2:  Val Cost:1.114643\tVal Acc:0.610600\tTest Cost:0.807193\tTest Acc:0.700000\n",
      "Epoch 28, CIFAR-10 Batch 3:  Val Cost:1.078331\tVal Acc:0.622200\tTest Cost:0.619738\tTest Acc:0.875000\n",
      "Epoch 28, CIFAR-10 Batch 4:  Val Cost:1.138339\tVal Acc:0.597600\tTest Cost:0.879474\tTest Acc:0.750000\n",
      "Epoch 28, CIFAR-10 Batch 5:  Val Cost:1.067227\tVal Acc:0.618800\tTest Cost:0.725394\tTest Acc:0.750000\n",
      "Epoch 29, CIFAR-10 Batch 1:  Val Cost:1.066055\tVal Acc:0.624400\tTest Cost:0.780610\tTest Acc:0.700000\n",
      "Epoch 29, CIFAR-10 Batch 2:  Val Cost:1.107632\tVal Acc:0.607800\tTest Cost:0.783528\tTest Acc:0.675000\n",
      "Epoch 29, CIFAR-10 Batch 3:  Val Cost:1.071996\tVal Acc:0.622000\tTest Cost:0.624439\tTest Acc:0.775000\n",
      "Epoch 29, CIFAR-10 Batch 4:  Val Cost:1.075955\tVal Acc:0.623600\tTest Cost:0.704994\tTest Acc:0.750000\n",
      "Epoch 29, CIFAR-10 Batch 5:  Val Cost:1.125053\tVal Acc:0.597800\tTest Cost:0.855635\tTest Acc:0.675000\n",
      "Epoch 30, CIFAR-10 Batch 1:  Val Cost:1.064484\tVal Acc:0.619600\tTest Cost:0.753761\tTest Acc:0.725000\n",
      "Epoch 30, CIFAR-10 Batch 2:  Val Cost:1.049193\tVal Acc:0.628600\tTest Cost:0.706350\tTest Acc:0.725000\n",
      "Epoch 30, CIFAR-10 Batch 3:  Val Cost:1.051139\tVal Acc:0.630600\tTest Cost:0.596786\tTest Acc:0.900000\n",
      "Epoch 30, CIFAR-10 Batch 4:  Val Cost:1.094716\tVal Acc:0.616000\tTest Cost:0.743707\tTest Acc:0.775000\n",
      "Epoch 30, CIFAR-10 Batch 5:  Val Cost:1.060699\tVal Acc:0.627400\tTest Cost:0.761100\tTest Acc:0.750000\n",
      "Epoch 31, CIFAR-10 Batch 1:  Val Cost:1.042175\tVal Acc:0.633400\tTest Cost:0.730497\tTest Acc:0.750000\n",
      "Epoch 31, CIFAR-10 Batch 2:  Val Cost:1.095675\tVal Acc:0.607600\tTest Cost:0.777603\tTest Acc:0.700000\n",
      "Epoch 31, CIFAR-10 Batch 3:  Val Cost:1.053514\tVal Acc:0.624200\tTest Cost:0.591981\tTest Acc:0.900000\n",
      "Epoch 31, CIFAR-10 Batch 4:  Val Cost:1.082762\tVal Acc:0.619000\tTest Cost:0.734515\tTest Acc:0.775000\n",
      "Epoch 31, CIFAR-10 Batch 5:  Val Cost:1.056704\tVal Acc:0.631800\tTest Cost:0.744170\tTest Acc:0.725000\n",
      "Epoch 32, CIFAR-10 Batch 1:  Val Cost:1.057075\tVal Acc:0.630200\tTest Cost:0.733471\tTest Acc:0.750000\n",
      "Epoch 32, CIFAR-10 Batch 2:  Val Cost:1.118954\tVal Acc:0.608000\tTest Cost:0.769371\tTest Acc:0.725000\n",
      "Epoch 32, CIFAR-10 Batch 3:  Val Cost:1.034385\tVal Acc:0.638000\tTest Cost:0.562603\tTest Acc:0.925000\n",
      "Epoch 32, CIFAR-10 Batch 4:  Val Cost:1.134427\tVal Acc:0.600600\tTest Cost:0.792148\tTest Acc:0.750000\n",
      "Epoch 32, CIFAR-10 Batch 5:  Val Cost:1.096601\tVal Acc:0.614200\tTest Cost:0.779135\tTest Acc:0.750000\n",
      "Epoch 33, CIFAR-10 Batch 1:  Val Cost:1.062400\tVal Acc:0.628800\tTest Cost:0.749098\tTest Acc:0.675000\n",
      "Epoch 33, CIFAR-10 Batch 2:  Val Cost:1.047528\tVal Acc:0.629600\tTest Cost:0.722831\tTest Acc:0.775000\n",
      "Epoch 33, CIFAR-10 Batch 3:  Val Cost:1.066935\tVal Acc:0.625800\tTest Cost:0.594176\tTest Acc:0.775000\n",
      "Epoch 33, CIFAR-10 Batch 4:  Val Cost:1.088044\tVal Acc:0.615600\tTest Cost:0.659197\tTest Acc:0.800000\n",
      "Epoch 33, CIFAR-10 Batch 5:  Val Cost:1.094459\tVal Acc:0.613800\tTest Cost:0.759056\tTest Acc:0.725000\n",
      "Epoch 34, CIFAR-10 Batch 1:  Val Cost:1.039315\tVal Acc:0.631400\tTest Cost:0.677636\tTest Acc:0.725000\n",
      "Epoch 34, CIFAR-10 Batch 2:  Val Cost:1.123775\tVal Acc:0.605000\tTest Cost:0.797250\tTest Acc:0.700000\n",
      "Epoch 34, CIFAR-10 Batch 3:  Val Cost:1.048998\tVal Acc:0.633400\tTest Cost:0.576443\tTest Acc:0.900000\n",
      "Epoch 34, CIFAR-10 Batch 4:  Val Cost:1.054924\tVal Acc:0.635400\tTest Cost:0.642107\tTest Acc:0.800000\n",
      "Epoch 34, CIFAR-10 Batch 5:  Val Cost:1.046292\tVal Acc:0.628200\tTest Cost:0.701639\tTest Acc:0.800000\n",
      "Epoch 35, CIFAR-10 Batch 1:  Val Cost:1.029009\tVal Acc:0.634400\tTest Cost:0.673002\tTest Acc:0.750000\n",
      "Epoch 35, CIFAR-10 Batch 2:  Val Cost:1.042689\tVal Acc:0.629400\tTest Cost:0.708583\tTest Acc:0.700000\n",
      "Epoch 35, CIFAR-10 Batch 3:  Val Cost:1.044153\tVal Acc:0.635400\tTest Cost:0.579757\tTest Acc:0.875000\n",
      "Epoch 35, CIFAR-10 Batch 4:  Val Cost:1.046863\tVal Acc:0.628200\tTest Cost:0.592657\tTest Acc:0.825000\n",
      "Epoch 35, CIFAR-10 Batch 5:  Val Cost:1.110176\tVal Acc:0.606000\tTest Cost:0.727752\tTest Acc:0.775000\n",
      "Epoch 36, CIFAR-10 Batch 1:  Val Cost:1.022712\tVal Acc:0.643800\tTest Cost:0.668361\tTest Acc:0.775000\n",
      "Epoch 36, CIFAR-10 Batch 2:  Val Cost:1.129786\tVal Acc:0.604200\tTest Cost:0.758554\tTest Acc:0.700000\n",
      "Epoch 36, CIFAR-10 Batch 3:  Val Cost:1.094367\tVal Acc:0.617000\tTest Cost:0.598415\tTest Acc:0.800000\n",
      "Epoch 36, CIFAR-10 Batch 4:  Val Cost:1.108086\tVal Acc:0.611800\tTest Cost:0.717466\tTest Acc:0.800000\n",
      "Epoch 36, CIFAR-10 Batch 5:  Val Cost:1.038679\tVal Acc:0.634200\tTest Cost:0.671018\tTest Acc:0.775000\n",
      "Epoch 37, CIFAR-10 Batch 1:  Val Cost:1.020887\tVal Acc:0.637400\tTest Cost:0.702637\tTest Acc:0.700000\n",
      "Epoch 37, CIFAR-10 Batch 2:  Val Cost:1.050101\tVal Acc:0.622000\tTest Cost:0.729528\tTest Acc:0.725000\n",
      "Epoch 37, CIFAR-10 Batch 3:  Val Cost:1.007837\tVal Acc:0.645200\tTest Cost:0.538559\tTest Acc:0.875000\n",
      "Epoch 37, CIFAR-10 Batch 4:  Val Cost:1.071214\tVal Acc:0.620200\tTest Cost:0.651322\tTest Acc:0.800000\n",
      "Epoch 37, CIFAR-10 Batch 5:  Val Cost:1.036921\tVal Acc:0.632000\tTest Cost:0.675090\tTest Acc:0.775000\n",
      "Epoch 38, CIFAR-10 Batch 1:  Val Cost:1.022871\tVal Acc:0.637200\tTest Cost:0.631114\tTest Acc:0.825000\n",
      "Epoch 38, CIFAR-10 Batch 2:  Val Cost:1.137712\tVal Acc:0.598000\tTest Cost:0.728082\tTest Acc:0.750000\n",
      "Epoch 38, CIFAR-10 Batch 3:  Val Cost:1.054787\tVal Acc:0.629400\tTest Cost:0.549250\tTest Acc:0.875000\n",
      "Epoch 38, CIFAR-10 Batch 4:  Val Cost:1.110122\tVal Acc:0.608800\tTest Cost:0.695104\tTest Acc:0.800000\n",
      "Epoch 38, CIFAR-10 Batch 5:  Val Cost:1.042946\tVal Acc:0.633800\tTest Cost:0.672785\tTest Acc:0.750000\n",
      "Epoch 39, CIFAR-10 Batch 1:  Val Cost:1.041780\tVal Acc:0.635400\tTest Cost:0.661496\tTest Acc:0.800000\n",
      "Epoch 39, CIFAR-10 Batch 2:  Val Cost:1.061118\tVal Acc:0.621600\tTest Cost:0.668582\tTest Acc:0.750000\n",
      "Epoch 39, CIFAR-10 Batch 3:  Val Cost:1.006556\tVal Acc:0.647400\tTest Cost:0.531281\tTest Acc:0.900000\n",
      "Epoch 39, CIFAR-10 Batch 4:  Val Cost:1.088026\tVal Acc:0.614600\tTest Cost:0.696914\tTest Acc:0.775000\n",
      "Epoch 39, CIFAR-10 Batch 5:  Val Cost:1.019567\tVal Acc:0.641000\tTest Cost:0.647519\tTest Acc:0.800000\n",
      "Epoch 40, CIFAR-10 Batch 1:  Val Cost:1.063081\tVal Acc:0.623600\tTest Cost:0.675583\tTest Acc:0.725000\n",
      "Epoch 40, CIFAR-10 Batch 2:  Val Cost:1.089001\tVal Acc:0.614800\tTest Cost:0.775562\tTest Acc:0.750000\n",
      "Epoch 40, CIFAR-10 Batch 3:  Val Cost:1.001363\tVal Acc:0.649200\tTest Cost:0.500264\tTest Acc:0.900000\n",
      "Epoch 40, CIFAR-10 Batch 4:  Val Cost:1.078981\tVal Acc:0.616800\tTest Cost:0.710372\tTest Acc:0.800000\n",
      "Epoch 40, CIFAR-10 Batch 5:  Val Cost:1.053188\tVal Acc:0.633600\tTest Cost:0.669021\tTest Acc:0.700000\n",
      "Epoch 41, CIFAR-10 Batch 1:  Val Cost:1.022860\tVal Acc:0.640800\tTest Cost:0.622712\tTest Acc:0.825000\n",
      "Epoch 41, CIFAR-10 Batch 2:  Val Cost:1.062116\tVal Acc:0.619600\tTest Cost:0.665346\tTest Acc:0.775000\n",
      "Epoch 41, CIFAR-10 Batch 3:  Val Cost:1.108485\tVal Acc:0.606200\tTest Cost:0.612614\tTest Acc:0.775000\n",
      "Epoch 41, CIFAR-10 Batch 4:  Val Cost:1.092907\tVal Acc:0.618000\tTest Cost:0.684411\tTest Acc:0.775000\n",
      "Epoch 41, CIFAR-10 Batch 5:  Val Cost:1.062044\tVal Acc:0.620800\tTest Cost:0.706275\tTest Acc:0.775000\n",
      "Epoch 42, CIFAR-10 Batch 1:  Val Cost:0.994747\tVal Acc:0.649600\tTest Cost:0.586777\tTest Acc:0.850000\n",
      "Epoch 42, CIFAR-10 Batch 2:  Val Cost:1.112870\tVal Acc:0.611000\tTest Cost:0.758687\tTest Acc:0.700000\n",
      "Epoch 42, CIFAR-10 Batch 3:  Val Cost:1.035338\tVal Acc:0.634600\tTest Cost:0.552472\tTest Acc:0.875000\n",
      "Epoch 42, CIFAR-10 Batch 4:  Val Cost:1.024350\tVal Acc:0.637600\tTest Cost:0.570016\tTest Acc:0.825000\n",
      "Epoch 42, CIFAR-10 Batch 5:  Val Cost:1.020792\tVal Acc:0.638000\tTest Cost:0.609284\tTest Acc:0.850000\n",
      "Epoch 43, CIFAR-10 Batch 1:  Val Cost:1.018766\tVal Acc:0.640600\tTest Cost:0.592968\tTest Acc:0.875000\n",
      "Epoch 43, CIFAR-10 Batch 2:  Val Cost:1.096965\tVal Acc:0.612800\tTest Cost:0.707962\tTest Acc:0.700000\n",
      "Epoch 43, CIFAR-10 Batch 3:  Val Cost:1.020389\tVal Acc:0.643600\tTest Cost:0.504437\tTest Acc:0.875000\n",
      "Epoch 43, CIFAR-10 Batch 4:  Val Cost:1.092291\tVal Acc:0.614200\tTest Cost:0.674086\tTest Acc:0.800000\n",
      "Epoch 43, CIFAR-10 Batch 5:  Val Cost:1.020322\tVal Acc:0.638600\tTest Cost:0.635298\tTest Acc:0.825000\n",
      "Epoch 44, CIFAR-10 Batch 1:  Val Cost:1.006023\tVal Acc:0.648200\tTest Cost:0.587687\tTest Acc:0.825000\n",
      "Epoch 44, CIFAR-10 Batch 2:  Val Cost:1.040531\tVal Acc:0.631800\tTest Cost:0.622651\tTest Acc:0.825000\n",
      "Epoch 44, CIFAR-10 Batch 3:  Val Cost:1.024611\tVal Acc:0.642000\tTest Cost:0.504448\tTest Acc:0.875000\n",
      "Epoch 44, CIFAR-10 Batch 4:  Val Cost:1.042958\tVal Acc:0.635200\tTest Cost:0.579815\tTest Acc:0.850000\n",
      "Epoch 44, CIFAR-10 Batch 5:  Val Cost:1.015423\tVal Acc:0.646200\tTest Cost:0.637109\tTest Acc:0.800000\n",
      "Epoch 45, CIFAR-10 Batch 1:  Val Cost:1.014055\tVal Acc:0.647800\tTest Cost:0.596618\tTest Acc:0.825000\n",
      "Epoch 45, CIFAR-10 Batch 2:  Val Cost:1.063114\tVal Acc:0.631000\tTest Cost:0.625506\tTest Acc:0.800000\n",
      "Epoch 45, CIFAR-10 Batch 3:  Val Cost:1.027055\tVal Acc:0.649600\tTest Cost:0.496190\tTest Acc:0.950000\n",
      "Epoch 45, CIFAR-10 Batch 4:  Val Cost:1.071193\tVal Acc:0.624200\tTest Cost:0.684765\tTest Acc:0.775000\n",
      "Epoch 45, CIFAR-10 Batch 5:  Val Cost:1.027156\tVal Acc:0.637400\tTest Cost:0.628676\tTest Acc:0.825000\n",
      "Epoch 46, CIFAR-10 Batch 1:  Val Cost:1.004638\tVal Acc:0.650000\tTest Cost:0.598254\tTest Acc:0.800000\n",
      "Epoch 46, CIFAR-10 Batch 2:  Val Cost:1.069300\tVal Acc:0.626400\tTest Cost:0.625906\tTest Acc:0.775000\n",
      "Epoch 46, CIFAR-10 Batch 3:  Val Cost:1.007934\tVal Acc:0.644000\tTest Cost:0.499760\tTest Acc:0.850000\n",
      "Epoch 46, CIFAR-10 Batch 4:  Val Cost:1.047615\tVal Acc:0.631000\tTest Cost:0.658533\tTest Acc:0.775000\n",
      "Epoch 46, CIFAR-10 Batch 5:  Val Cost:1.047850\tVal Acc:0.632400\tTest Cost:0.640837\tTest Acc:0.825000\n",
      "Epoch 47, CIFAR-10 Batch 1:  Val Cost:0.994237\tVal Acc:0.654000\tTest Cost:0.618685\tTest Acc:0.800000\n",
      "Epoch 47, CIFAR-10 Batch 2:  Val Cost:1.048736\tVal Acc:0.628000\tTest Cost:0.644544\tTest Acc:0.775000\n",
      "Epoch 47, CIFAR-10 Batch 3:  Val Cost:1.010009\tVal Acc:0.640600\tTest Cost:0.530406\tTest Acc:0.875000\n",
      "Epoch 47, CIFAR-10 Batch 4:  Val Cost:1.097260\tVal Acc:0.615200\tTest Cost:0.740520\tTest Acc:0.750000\n",
      "Epoch 47, CIFAR-10 Batch 5:  Val Cost:1.049766\tVal Acc:0.631400\tTest Cost:0.651912\tTest Acc:0.825000\n",
      "Epoch 48, CIFAR-10 Batch 1:  Val Cost:0.983663\tVal Acc:0.653800\tTest Cost:0.535053\tTest Acc:0.875000\n",
      "Epoch 48, CIFAR-10 Batch 2:  Val Cost:1.058227\tVal Acc:0.623000\tTest Cost:0.654231\tTest Acc:0.750000\n",
      "Epoch 48, CIFAR-10 Batch 3:  Val Cost:1.017392\tVal Acc:0.647000\tTest Cost:0.526848\tTest Acc:0.875000\n",
      "Epoch 48, CIFAR-10 Batch 4:  Val Cost:1.069450\tVal Acc:0.628800\tTest Cost:0.656337\tTest Acc:0.800000\n",
      "Epoch 48, CIFAR-10 Batch 5:  Val Cost:1.009850\tVal Acc:0.640200\tTest Cost:0.573579\tTest Acc:0.850000\n",
      "Epoch 49, CIFAR-10 Batch 1:  Val Cost:0.995525\tVal Acc:0.648600\tTest Cost:0.516526\tTest Acc:0.875000\n",
      "Epoch 49, CIFAR-10 Batch 2:  Val Cost:1.092518\tVal Acc:0.613600\tTest Cost:0.674747\tTest Acc:0.750000\n",
      "Epoch 49, CIFAR-10 Batch 3:  Val Cost:1.002539\tVal Acc:0.648200\tTest Cost:0.514850\tTest Acc:0.900000\n",
      "Epoch 49, CIFAR-10 Batch 4:  Val Cost:1.018518\tVal Acc:0.638200\tTest Cost:0.557180\tTest Acc:0.850000\n",
      "Epoch 49, CIFAR-10 Batch 5:  Val Cost:1.014525\tVal Acc:0.640600\tTest Cost:0.571588\tTest Acc:0.825000\n",
      "Epoch 50, CIFAR-10 Batch 1:  Val Cost:1.000402\tVal Acc:0.648400\tTest Cost:0.559332\tTest Acc:0.900000\n",
      "Epoch 50, CIFAR-10 Batch 2:  Val Cost:1.079235\tVal Acc:0.622200\tTest Cost:0.669420\tTest Acc:0.775000\n",
      "Epoch 50, CIFAR-10 Batch 3:  Val Cost:1.038539\tVal Acc:0.641600\tTest Cost:0.515355\tTest Acc:0.900000\n",
      "Epoch 50, CIFAR-10 Batch 4:  Val Cost:1.172932\tVal Acc:0.585000\tTest Cost:0.797541\tTest Acc:0.775000\n",
      "Epoch 50, CIFAR-10 Batch 5:  Val Cost:1.025643\tVal Acc:0.642800\tTest Cost:0.603675\tTest Acc:0.850000\n"
     ]
    }
   ],
   "source": [
    "\"\"\"\n",
    "DON'T MODIFY ANYTHING IN THIS CELL\n",
    "\"\"\"\n",
    "save_model_path = './image_classification'\n",
    "\n",
    "print('Training...')\n",
    "with tf.Session() as sess:\n",
    "    # Initializing the variables\n",
    "    sess.run(tf.global_variables_initializer())\n",
    "    \n",
    "    # Training cycle\n",
    "    for epoch in range(epochs):\n",
    "        # Loop over all batches\n",
    "        n_batches = 5\n",
    "        for batch_i in range(1, n_batches + 1):\n",
    "            for batch_features, batch_labels in helper.load_preprocess_training_batch(batch_i, batch_size):\n",
    "                train_neural_network(sess, optimizer, keep_probability, batch_features, batch_labels)\n",
    "            print('Epoch {:>2}, CIFAR-10 Batch {}:  '.format(epoch + 1, batch_i), end='')\n",
    "            print_stats(sess, batch_features, batch_labels, cost, accuracy)\n",
    "            \n",
    "    # Save Model\n",
    "    saver = tf.train.Saver()\n",
    "    save_path = saver.save(sess, save_model_path)"
   ]
  },
  {
   "cell_type": "markdown",
   "metadata": {
    "deletable": true,
    "editable": true
   },
   "source": [
    "# Checkpoint\n",
    "The model has been saved to disk.\n",
    "## Test Model\n",
    "Test your model against the test dataset.  This will be your final accuracy. You should have an accuracy greater than 50%. If you don't, keep tweaking the model architecture and parameters."
   ]
  },
  {
   "cell_type": "code",
   "execution_count": 22,
   "metadata": {
    "collapsed": false,
    "deletable": true,
    "editable": true
   },
   "outputs": [
    {
     "name": "stdout",
     "output_type": "stream",
     "text": [
      "Testing Accuracy: 0.6330078125\n",
      "\n"
     ]
    },
    {
     "data": {
      "image/png": "[encoded data removed]",
      "text/plain": [
       "<matplotlib.figure.Figure at 0x7f57d8112be0>"
      ]
     },
     "metadata": {
      "image/png": {
       "height": 319,
       "width": 355
      }
     },
     "output_type": "display_data"
    }
   ],
   "source": [
    "\"\"\"\n",
    "DON'T MODIFY ANYTHING IN THIS CELL\n",
    "\"\"\"\n",
    "%matplotlib inline\n",
    "%config InlineBackend.figure_format = 'retina'\n",
    "\n",
    "import tensorflow as tf\n",
    "import pickle\n",
    "import helper\n",
    "import random\n",
    "\n",
    "# Set batch size if not already set\n",
    "try:\n",
    "    if batch_size:\n",
    "        pass\n",
    "except NameError:\n",
    "    batch_size = 64\n",
    "\n",
    "save_model_path = './image_classification'\n",
    "n_samples = 4\n",
    "top_n_predictions = 3\n",
    "\n",
    "def test_model():\n",
    "    \"\"\"\n",
    "    Test the saved model against the test dataset\n",
    "    \"\"\"\n",
    "\n",
    "    test_features, test_labels = pickle.load(open('preprocess_training.p', mode='rb'))\n",
    "    loaded_graph = tf.Graph()\n",
    "\n",
    "    with tf.Session(graph=loaded_graph) as sess:\n",
    "        # Load model\n",
    "        loader = tf.train.import_meta_graph(save_model_path + '.meta')\n",
    "        loader.restore(sess, save_model_path)\n",
    "\n",
    "        # Get Tensors from loaded model\n",
    "        loaded_x = loaded_graph.get_tensor_by_name('x:0')\n",
    "        loaded_y = loaded_graph.get_tensor_by_name('y:0')\n",
    "        loaded_keep_prob = loaded_graph.get_tensor_by_name('keep_prob:0')\n",
    "        loaded_logits = loaded_graph.get_tensor_by_name('logits:0')\n",
    "        loaded_acc = loaded_graph.get_tensor_by_name('accuracy:0')\n",
    "        \n",
    "        # Get accuracy in batches for memory limitations\n",
    "        test_batch_acc_total = 0\n",
    "        test_batch_count = 0\n",
    "        \n",
    "        for train_feature_batch, train_label_batch in helper.batch_features_labels(test_features, test_labels, batch_size):\n",
    "            test_batch_acc_total += sess.run(\n",
    "                loaded_acc,\n",
    "                feed_dict={loaded_x: train_feature_batch, loaded_y: train_label_batch, loaded_keep_prob: 1.0})\n",
    "            test_batch_count += 1\n",
    "\n",
    "        print('Testing Accuracy: {}\\n'.format(test_batch_acc_total/test_batch_count))\n",
    "\n",
    "        # Print Random Samples\n",
    "        random_test_features, random_test_labels = tuple(zip(*random.sample(list(zip(test_features, test_labels)), n_samples)))\n",
    "        random_test_predictions = sess.run(\n",
    "            tf.nn.top_k(tf.nn.softmax(loaded_logits), top_n_predictions),\n",
    "            feed_dict={loaded_x: random_test_features, loaded_y: random_test_labels, loaded_keep_prob: 1.0})\n",
    "        helper.display_image_predictions(random_test_features, random_test_labels, random_test_predictions)\n",
    "\n",
    "\n",
    "test_model()"
   ]
  },
  {
   "cell_type": "markdown",
   "metadata": {
    "deletable": true,
    "editable": true
   },
   "source": [
    "## Why 50-70% Accuracy?\n",
    "You might be wondering why you can't get an accuracy any higher. First things first, 50% isn't bad for a simple CNN.  Pure guessing would get you 10% accuracy. However, you might notice people are getting scores [well above 70%](http://rodrigob.github.io/are_we_there_yet/build/classification_datasets_results.html#43494641522d3130).  That's because we haven't taught you all there is to know about neural networks. We still need to cover a few more techniques.\n",
    "## Submitting This Project\n",
    "When submitting this project, make sure to run all the cells before saving the notebook.  Save the notebook file as \"dlnd_image_classification.ipynb\" and save it as a HTML file under \"File\" -> \"Download as\".  Include the \"helper.py\" and \"problem_unittests.py\" files in your submission."
   ]
  }
 ],
 "metadata": {
  "anaconda-cloud": {},
  "kernelspec": {
   "display_name": "Python 3",
   "language": "python",
   "name": "python3"
  },
  "language_info": {
   "codemirror_mode": {
    "name": "ipython",
    "version": 3
   },
   "file_extension": ".py",
   "mimetype": "text/x-python",
   "name": "python",
   "nbconvert_exporter": "python",
   "pygments_lexer": "ipython3",
   "version": "3.5.2"
  },
  "widgets": {
   "state": {},
   "version": "1.1.2"
  }
 },
 "nbformat": 4,
 "nbformat_minor": 0
}
