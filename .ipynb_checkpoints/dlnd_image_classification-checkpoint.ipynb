{
 "cells": [
  {
   "cell_type": "markdown",
   "metadata": {
    "collapsed": true,
    "deletable": true,
    "editable": true
   },
   "source": [
    "# Image Classification\n",
    "In this project, you'll classify images from the [CIFAR-10 dataset](https://www.cs.toronto.edu/~kriz/cifar.html).  The dataset consists of airplanes, dogs, cats, and other objects. You'll preprocess the images, then train a convolutional neural network on all the samples. The images need to be normalized and the labels need to be one-hot encoded.  You'll get to apply what you learned and build a convolutional, max pooling, dropout, and fully connected layers.  At the end, you'll get to see your neural network's predictions on the sample images.\n",
    "## Get the Data\n",
    "Run the following cell to download the [CIFAR-10 dataset for python](https://www.cs.toronto.edu/~kriz/cifar-10-python.tar.gz)."
   ]
  },
  {
   "cell_type": "code",
   "execution_count": 1,
   "metadata": {
    "collapsed": false,
    "deletable": true,
    "editable": true
   },
   "outputs": [
    {
     "name": "stdout",
     "output_type": "stream",
     "text": [
      "All files found!\n"
     ]
    }
   ],
   "source": [
    "\"\"\"\n",
    "DON'T MODIFY ANYTHING IN THIS CELL THAT IS BELOW THIS LINE\n",
    "\"\"\"\n",
    "from urllib.request import urlretrieve\n",
    "from os.path import isfile, isdir\n",
    "from tqdm import tqdm\n",
    "import problem_unittests as tests\n",
    "import tarfile\n",
    "\n",
    "cifar10_dataset_folder_path = 'cifar-10-batches-py'\n",
    "\n",
    "class DLProgress(tqdm):\n",
    "    last_block = 0\n",
    "\n",
    "    def hook(self, block_num=1, block_size=1, total_size=None):\n",
    "        self.total = total_size\n",
    "        self.update((block_num - self.last_block) * block_size)\n",
    "        self.last_block = block_num\n",
    "\n",
    "if not isfile('cifar-10-python.tar.gz'):\n",
    "    with DLProgress(unit='B', unit_scale=True, miniters=1, desc='CIFAR-10 Dataset') as pbar:\n",
    "        urlretrieve(\n",
    "            'https://www.cs.toronto.edu/~kriz/cifar-10-python.tar.gz',\n",
    "            'cifar-10-python.tar.gz',\n",
    "            pbar.hook)\n",
    "\n",
    "if not isdir(cifar10_dataset_folder_path):\n",
    "    with tarfile.open('cifar-10-python.tar.gz') as tar:\n",
    "        tar.extractall()\n",
    "        tar.close()\n",
    "\n",
    "\n",
    "tests.test_folder_path(cifar10_dataset_folder_path)"
   ]
  },
  {
   "cell_type": "markdown",
   "metadata": {
    "deletable": true,
    "editable": true
   },
   "source": [
    "## Explore the Data\n",
    "The dataset is broken into batches to prevent your machine from running out of memory.  The CIFAR-10 dataset consists of 5 batches, named `data_batch_1`, `data_batch_2`, etc.. Each batch contains the labels and images that are one of the following:\n",
    "* airplane\n",
    "* automobile\n",
    "* bird\n",
    "* cat\n",
    "* deer\n",
    "* dog\n",
    "* frog\n",
    "* horse\n",
    "* ship\n",
    "* truck\n",
    "\n",
    "Understanding a dataset is part of making predictions on the data.  Play around with the code cell below by changing the `batch_id` and `sample_id`. The `batch_id` is the id for a batch (1-5). The `sample_id` is the id for a image and label pair in the batch.\n",
    "\n",
    "Ask yourself \"What are all possible labels?\", \"What is the range of values for the image data?\", \"Are the labels in order or random?\".  Answers to questions like these will help you preprocess the data and end up with better predictions."
   ]
  },
  {
   "cell_type": "code",
   "execution_count": 2,
   "metadata": {
    "collapsed": false,
    "deletable": true,
    "editable": true
   },
   "outputs": [
    {
     "name": "stdout",
     "output_type": "stream",
     "text": [
      "\n",
      "Stats of batch 3:\n",
      "Samples: 10000\n",
      "Label Counts: {0: 994, 1: 1042, 2: 965, 3: 997, 4: 990, 5: 1029, 6: 978, 7: 1015, 8: 961, 9: 1029}\n",
      "First 20 Labels: [8, 5, 0, 6, 9, 2, 8, 3, 6, 2, 7, 4, 6, 9, 0, 0, 7, 3, 7, 2]\n",
      "\n",
      "Example of Image 42:\n",
      "Image - Min Value: 11 Max Value: 254\n",
      "Image - Shape: (32, 32, 3)\n",
      "Label - Label Id: 1 Name: automobile\n"
     ]
    },
    {
     "data": {
      "image/png": "[encoded data removed]",
      "text/plain": [
       "<matplotlib.figure.Figure at 0x7f1a5bb4acc0>"
      ]
     },
     "metadata": {
      "image/png": {
       "height": 250,
       "width": 253
      }
     },
     "output_type": "display_data"
    }
   ],
   "source": [
    "%matplotlib inline\n",
    "%config InlineBackend.figure_format = 'retina'\n",
    "\n",
    "import helper\n",
    "import numpy as np\n",
    "\n",
    "# Explore the dataset\n",
    "batch_id = 3\n",
    "sample_id = 42\n",
    "helper.display_stats(cifar10_dataset_folder_path, batch_id, sample_id)"
   ]
  },
  {
   "cell_type": "markdown",
   "metadata": {
    "deletable": true,
    "editable": true
   },
   "source": [
    "## Implement Preprocess Functions\n",
    "### Normalize\n",
    "In the cell below, implement the `normalize` function to take in image data, `x`, and return it as a normalized Numpy array. The values should be in the range of 0 to 1, inclusive.  The return object should be the same shape as `x`."
   ]
  },
  {
   "cell_type": "code",
   "execution_count": 3,
   "metadata": {
    "collapsed": false,
    "deletable": true,
    "editable": true
   },
   "outputs": [
    {
     "name": "stdout",
     "output_type": "stream",
     "text": [
      "Tests Passed\n"
     ]
    }
   ],
   "source": [
    "def normalize(x):\n",
    "    \"\"\"\n",
    "    Normalize a list of sample image data in the range of 0 to 1\n",
    "    : x: List of image data.  The image shape is (32, 32, 3)\n",
    "    : return: Numpy array of normalize data\n",
    "    \"\"\"\n",
    "    # Perform an elementwise division by 255.0 (the maximum possible value for each pixel)\n",
    "    return np.array(x) / 255. \n",
    "\n",
    "\n",
    "\"\"\"\n",
    "DON'T MODIFY ANYTHING IN THIS CELL THAT IS BELOW THIS LINE\n",
    "\"\"\"\n",
    "tests.test_normalize(normalize)"
   ]
  },
  {
   "cell_type": "markdown",
   "metadata": {
    "deletable": true,
    "editable": true
   },
   "source": [
    "### One-hot encode\n",
    "Just like the previous code cell, you'll be implementing a function for preprocessing.  This time, you'll implement the `one_hot_encode` function. The input, `x`, are a list of labels.  Implement the function to return the list of labels as One-Hot encoded Numpy array.  The possible values for labels are 0 to 9. The one-hot encoding function should return the same encoding for each value between each call to `one_hot_encode`.  Make sure to save the map of encodings outside the function.\n",
    "\n",
    "Hint: Don't reinvent the wheel."
   ]
  },
  {
   "cell_type": "code",
   "execution_count": 4,
   "metadata": {
    "collapsed": false,
    "deletable": true,
    "editable": true
   },
   "outputs": [
    {
     "name": "stdout",
     "output_type": "stream",
     "text": [
      "Tests Passed\n"
     ]
    }
   ],
   "source": [
    "from sklearn.preprocessing import LabelBinarizer\n",
    "\n",
    "one_hot_map = None\n",
    "def one_hot_encode(x):\n",
    "    \"\"\"\n",
    "    One hot encode a list of sample labels. Return a one-hot encoded vector for each label.\n",
    "    : x: List of sample Labels\n",
    "    : return: Numpy array of one-hot encoded labels\n",
    "    \"\"\"\n",
    "    global one_hot_map\n",
    "    if one_hot_map is None:\n",
    "        one_hot_map = LabelBinarizer()\n",
    "        one_hot_map.fit(x)\n",
    "    \n",
    "    return one_hot_map.transform(x)\n",
    "\n",
    "\n",
    "\"\"\"\n",
    "DON'T MODIFY ANYTHING IN THIS CELL THAT IS BELOW THIS LINE\n",
    "\"\"\"\n",
    "tests.test_one_hot_encode(one_hot_encode)"
   ]
  },
  {
   "cell_type": "markdown",
   "metadata": {
    "deletable": true,
    "editable": true
   },
   "source": [
    "### Randomize Data\n",
    "As you saw from exploring the data above, the order of the samples are randomized.  It doesn't hurt to randomize it again, but you don't need to for this dataset."
   ]
  },
  {
   "cell_type": "markdown",
   "metadata": {
    "deletable": true,
    "editable": true
   },
   "source": [
    "## Preprocess all the data and save it\n",
    "Running the code cell below will preprocess all the CIFAR-10 data and save it to file. The code below also uses 10% of the training data for validation."
   ]
  },
  {
   "cell_type": "code",
   "execution_count": 5,
   "metadata": {
    "collapsed": false,
    "deletable": true,
    "editable": true
   },
   "outputs": [],
   "source": [
    "\"\"\"\n",
    "DON'T MODIFY ANYTHING IN THIS CELL\n",
    "\"\"\"\n",
    "# Preprocess Training, Validation, and Testing Data\n",
    "helper.preprocess_and_save_data(cifar10_dataset_folder_path, normalize, one_hot_encode)"
   ]
  },
  {
   "cell_type": "markdown",
   "metadata": {
    "deletable": true,
    "editable": true
   },
   "source": [
    "# Check Point\n",
    "This is your first checkpoint.  If you ever decide to come back to this notebook or have to restart the notebook, you can start from here.  The preprocessed data has been saved to disk."
   ]
  },
  {
   "cell_type": "code",
   "execution_count": 6,
   "metadata": {
    "collapsed": true,
    "deletable": true,
    "editable": true
   },
   "outputs": [],
   "source": [
    "\"\"\"\n",
    "DON'T MODIFY ANYTHING IN THIS CELL\n",
    "\"\"\"\n",
    "import pickle\n",
    "import problem_unittests as tests\n",
    "import helper\n",
    "\n",
    "# Load the Preprocessed Validation data\n",
    "valid_features, valid_labels = pickle.load(open('preprocess_validation.p', mode='rb'))"
   ]
  },
  {
   "cell_type": "markdown",
   "metadata": {
    "deletable": true,
    "editable": true
   },
   "source": [
    "## Build the network\n",
    "For the neural network, you'll build each layer into a function.  Most of the code you've seen has been outside of functions. To test your code more thoroughly, we require that you put each layer in a function.  This allows us to give you better feedback and test for simple mistakes using our unittests before you submit your project.\n",
    "\n",
    ">**Note:** If you're finding it hard to dedicate enough time for this course each week, we've provided a small shortcut to this part of the project. In the next couple of problems, you'll have the option to use classes from the [TensorFlow Layers](https://www.tensorflow.org/api_docs/python/tf/layers) or [TensorFlow Layers (contrib)](https://www.tensorflow.org/api_guides/python/contrib.layers) packages to build each layer, except the layers you build in the \"Convolutional and Max Pooling Layer\" section.  TF Layers is similar to Keras's and TFLearn's abstraction to layers, so it's easy to pickup.\n",
    "\n",
    ">However, if you would like to get the most out of this course, try to solve all the problems _without_ using anything from the TF Layers packages. You **can** still use classes from other packages that happen to have the same name as ones you find in TF Layers! For example, instead of using the TF Layers version of the `conv2d` class, [tf.layers.conv2d](https://www.tensorflow.org/api_docs/python/tf/layers/conv2d), you would want to use the TF Neural Network version of `conv2d`, [tf.nn.conv2d](https://www.tensorflow.org/api_docs/python/tf/nn/conv2d). \n",
    "\n",
    "Let's begin!\n",
    "\n",
    "### Input\n",
    "The neural network needs to read the image data, one-hot encoded labels, and dropout keep probability. Implement the following functions\n",
    "* Implement `neural_net_image_input`\n",
    " * Return a [TF Placeholder](https://www.tensorflow.org/api_docs/python/tf/placeholder)\n",
    " * Set the shape using `image_shape` with batch size set to `None`.\n",
    " * Name the TensorFlow placeholder \"x\" using the TensorFlow `name` parameter in the [TF Placeholder](https://www.tensorflow.org/api_docs/python/tf/placeholder).\n",
    "* Implement `neural_net_label_input`\n",
    " * Return a [TF Placeholder](https://www.tensorflow.org/api_docs/python/tf/placeholder)\n",
    " * Set the shape using `n_classes` with batch size set to `None`.\n",
    " * Name the TensorFlow placeholder \"y\" using the TensorFlow `name` parameter in the [TF Placeholder](https://www.tensorflow.org/api_docs/python/tf/placeholder).\n",
    "* Implement `neural_net_keep_prob_input`\n",
    " * Return a [TF Placeholder](https://www.tensorflow.org/api_docs/python/tf/placeholder) for dropout keep probability.\n",
    " * Name the TensorFlow placeholder \"keep_prob\" using the TensorFlow `name` parameter in the [TF Placeholder](https://www.tensorflow.org/api_docs/python/tf/placeholder).\n",
    "\n",
    "These names will be used at the end of the project to load your saved model.\n",
    "\n",
    "Note: `None` for shapes in TensorFlow allow for a dynamic size."
   ]
  },
  {
   "cell_type": "code",
   "execution_count": 7,
   "metadata": {
    "collapsed": false,
    "deletable": true,
    "editable": true
   },
   "outputs": [
    {
     "name": "stdout",
     "output_type": "stream",
     "text": [
      "Image Input Tests Passed.\n",
      "Label Input Tests Passed.\n",
      "Keep Prob Tests Passed.\n"
     ]
    }
   ],
   "source": [
    "import tensorflow as tf\n",
    "\n",
    "def neural_net_image_input(image_shape):\n",
    "    \"\"\"\n",
    "    Return a Tensor for a bach of image input\n",
    "    : image_shape: Shape of the images\n",
    "    : return: Tensor for image input.\n",
    "    \"\"\"\n",
    "    return tf.placeholder(tf.float32, shape=([None] + list(image_shape)), name=\"x\")\n",
    "\n",
    "\n",
    "def neural_net_label_input(n_classes):\n",
    "    \"\"\"\n",
    "    Return a Tensor for a batch of label input\n",
    "    : n_classes: Number of classes\n",
    "    : return: Tensor for label input.\n",
    "    \"\"\"\n",
    "    return tf.placeholder(tf.float32, shape=[None, n_classes], name=\"y\")\n",
    "\n",
    "\n",
    "def neural_net_keep_prob_input():\n",
    "    \"\"\"\n",
    "    Return a Tensor for keep probability\n",
    "    : return: Tensor for keep probability.\n",
    "    \"\"\"\n",
    "    return tf.placeholder(tf.float32, name=\"keep_prob\")\n",
    "\n",
    "\n",
    "\"\"\"\n",
    "DON'T MODIFY ANYTHING IN THIS CELL THAT IS BELOW THIS LINE\n",
    "\"\"\"\n",
    "tf.reset_default_graph()\n",
    "tests.test_nn_image_inputs(neural_net_image_input)\n",
    "tests.test_nn_label_inputs(neural_net_label_input)\n",
    "tests.test_nn_keep_prob_inputs(neural_net_keep_prob_input)"
   ]
  },
  {
   "cell_type": "markdown",
   "metadata": {
    "deletable": true,
    "editable": true
   },
   "source": [
    "### Convolution and Max Pooling Layer\n",
    "Convolution layers have a lot of success with images. For this code cell, you should implement the function `conv2d_maxpool` to apply convolution then max pooling:\n",
    "* Create the weight and bias using `conv_ksize`, `conv_num_outputs` and the shape of `x_tensor`.\n",
    "* Apply a convolution to `x_tensor` using weight and `conv_strides`.\n",
    " * We recommend you use same padding, but you're welcome to use any padding.\n",
    "* Add bias\n",
    "* Add a nonlinear activation to the convolution.\n",
    "* Apply Max Pooling using `pool_ksize` and `pool_strides`.\n",
    " * We recommend you use same padding, but you're welcome to use any padding.\n",
    "\n",
    "**Note:** You **can't** use [TensorFlow Layers](https://www.tensorflow.org/api_docs/python/tf/layers) or [TensorFlow Layers (contrib)](https://www.tensorflow.org/api_guides/python/contrib.layers) for **this** layer, but you can still use TensorFlow's [Neural Network](https://www.tensorflow.org/api_docs/python/tf/nn) package. You may still use the shortcut option for all the **other** layers."
   ]
  },
  {
   "cell_type": "code",
   "execution_count": 8,
   "metadata": {
    "collapsed": false,
    "deletable": true,
    "editable": true
   },
   "outputs": [
    {
     "name": "stdout",
     "output_type": "stream",
     "text": [
      "Tests Passed\n"
     ]
    }
   ],
   "source": [
    "def conv2d_maxpool(x_tensor, conv_num_outputs, conv_ksize, conv_strides, pool_ksize, pool_strides):\n",
    "    \"\"\"\n",
    "    Apply convolution then max pooling to x_tensor\n",
    "    :param x_tensor: TensorFlow Tensor\n",
    "    :param conv_num_outputs: Number of outputs for the convolutional layer\n",
    "    :param conv_ksize: kernal size 2-D Tuple for the convolutional layer\n",
    "    :param conv_strides: Stride 2-D Tuple for convolution\n",
    "    :param pool_ksize: kernal size 2-D Tuple for pool\n",
    "    :param pool_strides: Stride 2-D Tuple for pool\n",
    "    : return: A tensor that represents convolution and max pooling of x_tensor\n",
    "    \"\"\"\n",
    "    # Create weights and biases\n",
    "    input_depth = x_tensor.shape.as_list()[3]\n",
    "    weights = tf.Variable(tf.truncated_normal([conv_ksize[0],\n",
    "                                            conv_ksize[1],\n",
    "                                            input_depth,\n",
    "                                            conv_num_outputs], stddev=0.1))\n",
    "    biases = tf.Variable(tf.truncated_normal([conv_num_outputs], stddev=0.01))\n",
    "\n",
    "    # Add convolution, bias and nonlinear activation (relu) steps\n",
    "    net = tf.nn.conv2d(x_tensor, weights, strides=[1, conv_strides[0], conv_strides[1], 1], padding=\"SAME\")\n",
    "    net = tf.nn.bias_add(net, biases)\n",
    "    net = tf.nn.relu(net)\n",
    "    \n",
    "    # maxpool\n",
    "    net = tf.nn.max_pool(net, \n",
    "                         ksize=[1, pool_ksize[0], pool_ksize[1], 1], \n",
    "                         strides=[1, pool_strides[0], pool_strides[1], 1], \n",
    "                         padding=\"SAME\")\n",
    "    \n",
    "    return net\n",
    "\n",
    "\n",
    "\"\"\"\n",
    "DON'T MODIFY ANYTHING IN THIS CELL THAT IS BELOW THIS LINE\n",
    "\"\"\"\n",
    "tests.test_con_pool(conv2d_maxpool)"
   ]
  },
  {
   "cell_type": "markdown",
   "metadata": {
    "deletable": true,
    "editable": true
   },
   "source": [
    "### Flatten Layer\n",
    "Implement the `flatten` function to change the dimension of `x_tensor` from a 4-D tensor to a 2-D tensor.  The output should be the shape (*Batch Size*, *Flattened Image Size*). Shortcut option: you can use classes from the [TensorFlow Layers](https://www.tensorflow.org/api_docs/python/tf/layers) or [TensorFlow Layers (contrib)](https://www.tensorflow.org/api_guides/python/contrib.layers) packages for this layer. For more of a challenge, only use other TensorFlow packages."
   ]
  },
  {
   "cell_type": "code",
   "execution_count": 9,
   "metadata": {
    "collapsed": false,
    "deletable": true,
    "editable": true
   },
   "outputs": [
    {
     "name": "stdout",
     "output_type": "stream",
     "text": [
      "Tests Passed\n"
     ]
    }
   ],
   "source": [
    "def flatten(x_tensor):\n",
    "    \"\"\"\n",
    "    Flatten x_tensor to (Batch Size, Flattened Image Size)\n",
    "    : x_tensor: A tensor of size (Batch Size, ...), where ... are the image dimensions.\n",
    "    : return: A tensor of size (Batch Size, Flattened Image Size).\n",
    "    \"\"\"\n",
    "    \n",
    "    # on the test this would be [None, 10, 30, 6]\n",
    "    batch_size, rows, cols, depts = x_tensor.shape.as_list() \n",
    "    \n",
    "    # now simply pass -1 to keep first dim and multiply all other dims to get one big array (None, 1800)\n",
    "    return tf.reshape(x_tensor, [-1, rows*cols*depts]) \n",
    "\n",
    "\n",
    "\"\"\"\n",
    "DON'T MODIFY ANYTHING IN THIS CELL THAT IS BELOW THIS LINE\n",
    "\"\"\"\n",
    "tests.test_flatten(flatten)"
   ]
  },
  {
   "cell_type": "markdown",
   "metadata": {
    "deletable": true,
    "editable": true
   },
   "source": [
    "### Fully-Connected Layer\n",
    "Implement the `fully_conn` function to apply a fully connected layer to `x_tensor` with the shape (*Batch Size*, *num_outputs*). Shortcut option: you can use classes from the [TensorFlow Layers](https://www.tensorflow.org/api_docs/python/tf/layers) or [TensorFlow Layers (contrib)](https://www.tensorflow.org/api_guides/python/contrib.layers) packages for this layer. For more of a challenge, only use other TensorFlow packages."
   ]
  },
  {
   "cell_type": "code",
   "execution_count": 10,
   "metadata": {
    "collapsed": false,
    "deletable": true,
    "editable": true
   },
   "outputs": [
    {
     "name": "stdout",
     "output_type": "stream",
     "text": [
      "Tests Passed\n"
     ]
    }
   ],
   "source": [
    "def fully_conn(x_tensor, num_outputs):\n",
    "    \"\"\"\n",
    "    Apply a fully connected layer to x_tensor using weight and bias\n",
    "    : x_tensor: A 2-D tensor where the first dimension is batch size.\n",
    "    : num_outputs: The number of output that the new tensor should be.\n",
    "    : return: A 2-D tensor where the second dimension is num_outputs.\n",
    "    \"\"\"\n",
    "    \n",
    "    # create weights and biases\n",
    "    num_inpts = x_tensor.shape.as_list()[1]    \n",
    "    weight = tf.Variable(tf.truncated_normal([num_inpts, num_outputs], stddev=0.1))\n",
    "    bias = tf.Variable(tf.truncated_normal([num_outputs], stddev=0.01))\n",
    "    \n",
    "    # make the graph\n",
    "    net = tf.matmul(x_tensor, weight)\n",
    "    net = tf.add(net, bias)\n",
    "    \n",
    "    net = tf.nn.relu(net)\n",
    "    return net\n",
    "    \n",
    "\n",
    "\n",
    "\"\"\"\n",
    "DON'T MODIFY ANYTHING IN THIS CELL THAT IS BELOW THIS LINE\n",
    "\"\"\"\n",
    "tests.test_fully_conn(fully_conn)"
   ]
  },
  {
   "cell_type": "markdown",
   "metadata": {
    "deletable": true,
    "editable": true
   },
   "source": [
    "### Output Layer\n",
    "Implement the `output` function to apply a fully connected layer to `x_tensor` with the shape (*Batch Size*, *num_outputs*). Shortcut option: you can use classes from the [TensorFlow Layers](https://www.tensorflow.org/api_docs/python/tf/layers) or [TensorFlow Layers (contrib)](https://www.tensorflow.org/api_guides/python/contrib.layers) packages for this layer. For more of a challenge, only use other TensorFlow packages.\n",
    "\n",
    "**Note:** Activation, softmax, or cross entropy should **not** be applied to this."
   ]
  },
  {
   "cell_type": "code",
   "execution_count": 11,
   "metadata": {
    "collapsed": false,
    "deletable": true,
    "editable": true
   },
   "outputs": [
    {
     "name": "stdout",
     "output_type": "stream",
     "text": [
      "Tests Passed\n"
     ]
    }
   ],
   "source": [
    "def output(x_tensor, num_outputs):\n",
    "    \"\"\"\n",
    "    Apply a output layer to x_tensor using weight and bias\n",
    "    : x_tensor: A 2-D tensor where the first dimension is batch size.\n",
    "    : num_outputs: The number of output that the new tensor should be.\n",
    "    : return: A 2-D tensor where the second dimension is num_outputs.\n",
    "    \"\"\"\n",
    "    # create weight and bias\n",
    "    num_inputs = x_tensor.shape.as_list()[1]\n",
    "    weight = tf.Variable(tf.truncated_normal([num_inputs, num_outputs], stddev=0.1))\n",
    "    bias = tf.Variable(tf.truncated_normal([num_outputs], stddev=0.01))\n",
    "    \n",
    "    # create graph\n",
    "    net = tf.matmul(x_tensor, weight)\n",
    "    net = tf.add(net, bias)\n",
    "    return net\n",
    "\n",
    "\n",
    "\"\"\"\n",
    "DON'T MODIFY ANYTHING IN THIS CELL THAT IS BELOW THIS LINE\n",
    "\"\"\"\n",
    "tests.test_output(output)"
   ]
  },
  {
   "cell_type": "markdown",
   "metadata": {
    "deletable": true,
    "editable": true
   },
   "source": [
    "### Create Convolutional Model\n",
    "Implement the function `conv_net` to create a convolutional neural network model. The function takes in a batch of images, `x`, and outputs logits.  Use the layers you created above to create this model:\n",
    "\n",
    "* Apply 1, 2, or 3 Convolution and Max Pool layers\n",
    "* Apply a Flatten Layer\n",
    "* Apply 1, 2, or 3 Fully Connected Layers\n",
    "* Apply an Output Layer\n",
    "* Return the output\n",
    "* Apply [TensorFlow's Dropout](https://www.tensorflow.org/api_docs/python/tf/nn/dropout) to one or more layers in the model using `keep_prob`. \n",
    "\n",
    "I'll be basing the design of this network on the [LeNet-5](http://yann.lecun.com/exdb/publis/pdf/lecun-01a.pdf).\n",
    "<img src=\"http://eblearn.sourceforge.net/lib/exe/lenet5.png\" />"
   ]
  },
  {
   "cell_type": "code",
   "execution_count": 12,
   "metadata": {
    "collapsed": false,
    "deletable": true,
    "editable": true
   },
   "outputs": [
    {
     "name": "stdout",
     "output_type": "stream",
     "text": [
      "Neural Network Built!\n"
     ]
    }
   ],
   "source": [
    "def conv_net(x, keep_prob):\n",
    "    \"\"\"\n",
    "    Create a convolutional neural network model\n",
    "    : x: Placeholder tensor that holds image data.\n",
    "    : keep_prob: Placeholder tensor that hold dropout keep probability.\n",
    "    : return: Tensor that represents logits\n",
    "    \"\"\"\n",
    "    # conv2d_maxpool(x_tensor, conv_num_outputs, conv_ksize, conv_strides, pool_ksize, pool_strides)\n",
    "    graph = conv2d_maxpool(x, 6, (5, 5), (1, 1), (2, 2), (2, 2))\n",
    "    graph = tf.nn.dropout(graph, keep_prob)\n",
    "    graph = conv2d_maxpool(graph, 16, (5, 5), (1, 1), (2, 2), (2, 2))\n",
    "    graph = conv2d_maxpool(graph, 35, (5, 5), (1, 1), (2, 2), (2, 2))\n",
    "\n",
    "\n",
    "    # flatten(x_tensor)\n",
    "    graph = flatten(graph)\n",
    "\n",
    "    # fully_conn(x_tensor, num_outputs)\n",
    "    graph = fully_conn(graph, 120)\n",
    "    graph = tf.nn.dropout(graph, keep_prob)\n",
    "    graph = fully_conn(graph, 84)\n",
    "\n",
    "    # output(x_tensor, num_outputs)\n",
    "    logits = output(graph, 10)\n",
    "    \n",
    "    return logits\n",
    "\n",
    "\n",
    "\"\"\"\n",
    "DON'T MODIFY ANYTHING IN THIS CELL THAT IS BELOW THIS LINE\n",
    "\"\"\"\n",
    "\n",
    "##############################\n",
    "## Build the Neural Network ##\n",
    "##############################\n",
    "\n",
    "# Remove previous weights, bias, inputs, etc..\n",
    "tf.reset_default_graph()\n",
    "\n",
    "# Inputs\n",
    "x = neural_net_image_input((32, 32, 3))\n",
    "y = neural_net_label_input(10)\n",
    "keep_prob = neural_net_keep_prob_input()\n",
    "\n",
    "# Model\n",
    "logits = conv_net(x, keep_prob)\n",
    "\n",
    "# Name logits Tensor, so that is can be loaded from disk after training\n",
    "logits = tf.identity(logits, name='logits')\n",
    "\n",
    "# Loss and Optimizer\n",
    "cost = tf.reduce_mean(tf.nn.softmax_cross_entropy_with_logits(logits=logits, labels=y))\n",
    "optimizer = tf.train.AdamOptimizer().minimize(cost)\n",
    "\n",
    "# Accuracy\n",
    "correct_pred = tf.equal(tf.argmax(logits, 1), tf.argmax(y, 1))\n",
    "accuracy = tf.reduce_mean(tf.cast(correct_pred, tf.float32), name='accuracy')\n",
    "\n",
    "tests.test_conv_net(conv_net)"
   ]
  },
  {
   "cell_type": "markdown",
   "metadata": {
    "deletable": true,
    "editable": true
   },
   "source": [
    "## Train the Neural Network\n",
    "### Single Optimization\n",
    "Implement the function `train_neural_network` to do a single optimization.  The optimization should use `optimizer` to optimize in `session` with a `feed_dict` of the following:\n",
    "* `x` for image input\n",
    "* `y` for labels\n",
    "* `keep_prob` for keep probability for dropout\n",
    "\n",
    "This function will be called for each batch, so `tf.global_variables_initializer()` has already been called.\n",
    "\n",
    "Note: Nothing needs to be returned. This function is only optimizing the neural network."
   ]
  },
  {
   "cell_type": "code",
   "execution_count": 13,
   "metadata": {
    "collapsed": false,
    "deletable": true,
    "editable": true
   },
   "outputs": [
    {
     "name": "stdout",
     "output_type": "stream",
     "text": [
      "Tests Passed\n"
     ]
    }
   ],
   "source": [
    "def train_neural_network(session, optimizer, keep_probability, feature_batch, label_batch):\n",
    "    \"\"\"\n",
    "    Optimize the session on a batch of images and labels\n",
    "    : session: Current TensorFlow session\n",
    "    : optimizer: TensorFlow optimizer function\n",
    "    : keep_probability: keep probability\n",
    "    : feature_batch: Batch of Numpy image data\n",
    "    : label_batch: Batch of Numpy label data\n",
    "    \"\"\"\n",
    "    feed_dict = {'x:0': feature_batch,\n",
    "                 'y:0': label_batch,\n",
    "                 'keep_prob:0': keep_probability}\n",
    "    \n",
    "    # I'm using the optimizer that is defined above:\n",
    "    #    -> tf.reduce_mean(tf.nn.softmax_cross_entropy_with_logits(logits=logits, labels=y))\n",
    "    #    -> optimizer = tf.train.AdamOptimizer().minimize(cost)\n",
    "    session.run(optimizer, feed_dict=feed_dict)\n",
    "\n",
    "    \n",
    "\"\"\"\n",
    "DON'T MODIFY ANYTHING IN THIS CELL THAT IS BELOW THIS LINE\n",
    "\"\"\"\n",
    "tests.test_train_nn(train_neural_network)"
   ]
  },
  {
   "cell_type": "markdown",
   "metadata": {
    "deletable": true,
    "editable": true
   },
   "source": [
    "### Show Stats\n",
    "Implement the function `print_stats` to print loss and validation accuracy.  Use the global variables `valid_features` and `valid_labels` to calculate validation accuracy.  Use a keep probability of `1.0` to calculate the loss and validation accuracy."
   ]
  },
  {
   "cell_type": "code",
   "execution_count": 14,
   "metadata": {
    "collapsed": false,
    "deletable": true,
    "editable": true
   },
   "outputs": [],
   "source": [
    "def print_stats(session, feature_batch, label_batch, cost, accuracy):\n",
    "    \"\"\"\n",
    "    Print information about loss and validation accuracy\n",
    "    : session: Current TensorFlow session\n",
    "    : feature_batch: Batch of Numpy image data\n",
    "    : label_batch: Batch of Numpy label data\n",
    "    : cost: TensorFlow cost function\n",
    "    : accuracy: TensorFlow accuracy function\n",
    "    \"\"\"\n",
    "    feed_dict = {'x:0': valid_features,\n",
    "                 'y:0': valid_labels,\n",
    "                 'keep_prob:0': 1.0}\n",
    "    vcost, vacc = session.run([cost, accuracy], feed_dict=feed_dict)\n",
    "    \n",
    "    feed_dict['x:0'] = feature_batch\n",
    "    feed_dict['y:0'] = label_batch\n",
    "    tcost, tacc = session.run([cost, accuracy], feed_dict=feed_dict)\n",
    "    \n",
    "    print(\"Val Cost:{:.6f}\\tVal Acc:{:.6f}\\tTest Cost:{:.6f}\\tTest Acc:{:.6f}\".format(vcost, vacc, tcost, tacc))"
   ]
  },
  {
   "cell_type": "markdown",
   "metadata": {
    "deletable": true,
    "editable": true
   },
   "source": [
    "### Hyperparameters\n",
    "Tune the following parameters:\n",
    "* Set `epochs` to the number of iterations until the network stops learning or start overfitting\n",
    "* Set `batch_size` to the highest number that your machine has memory for.  Most people set them to common sizes of memory:\n",
    " * 64\n",
    " * 128\n",
    " * 256\n",
    " * ...\n",
    "* Set `keep_probability` to the probability of keeping a node using dropout"
   ]
  },
  {
   "cell_type": "code",
   "execution_count": 22,
   "metadata": {
    "collapsed": true,
    "deletable": true,
    "editable": true
   },
   "outputs": [],
   "source": [
    "epochs = 55\n",
    "batch_size = 256\n",
    "keep_probability = 0.51"
   ]
  },
  {
   "cell_type": "markdown",
   "metadata": {
    "deletable": true,
    "editable": true
   },
   "source": [
    "### Train on a Single CIFAR-10 Batch\n",
    "Instead of training the neural network on all the CIFAR-10 batches of data, let's use a single batch. This should save time while you iterate on the model to get a better accuracy.  Once the final validation accuracy is 50% or greater, run the model on all the data in the next section."
   ]
  },
  {
   "cell_type": "code",
   "execution_count": 23,
   "metadata": {
    "collapsed": false,
    "deletable": true,
    "editable": true,
    "scrolled": false
   },
   "outputs": [
    {
     "name": "stdout",
     "output_type": "stream",
     "text": [
      "Checking the Training on a Single Batch...\n",
      "Epoch  1, CIFAR-10 Batch 1:  Val Cost:2.249002\tVal Acc:0.218600\tTest Cost:2.267009\tTest Acc:0.175000\n",
      "Epoch  2, CIFAR-10 Batch 1:  Val Cost:2.146569\tVal Acc:0.239800\tTest Cost:2.258861\tTest Acc:0.175000\n",
      "Epoch  3, CIFAR-10 Batch 1:  Val Cost:2.038606\tVal Acc:0.281000\tTest Cost:2.181384\tTest Acc:0.225000\n",
      "Epoch  4, CIFAR-10 Batch 1:  Val Cost:1.990226\tVal Acc:0.290400\tTest Cost:2.149996\tTest Acc:0.300000\n",
      "Epoch  5, CIFAR-10 Batch 1:  Val Cost:1.897283\tVal Acc:0.336800\tTest Cost:2.085865\tTest Acc:0.275000\n",
      "Epoch  6, CIFAR-10 Batch 1:  Val Cost:1.854066\tVal Acc:0.339600\tTest Cost:2.001676\tTest Acc:0.350000\n",
      "Epoch  7, CIFAR-10 Batch 1:  Val Cost:1.762627\tVal Acc:0.375600\tTest Cost:1.857359\tTest Acc:0.400000\n",
      "Epoch  8, CIFAR-10 Batch 1:  Val Cost:1.753610\tVal Acc:0.364800\tTest Cost:1.817632\tTest Acc:0.375000\n",
      "Epoch  9, CIFAR-10 Batch 1:  Val Cost:1.743017\tVal Acc:0.375000\tTest Cost:1.804621\tTest Acc:0.300000\n",
      "Epoch 10, CIFAR-10 Batch 1:  Val Cost:1.786454\tVal Acc:0.363800\tTest Cost:1.783101\tTest Acc:0.300000\n",
      "Epoch 11, CIFAR-10 Batch 1:  Val Cost:1.688893\tVal Acc:0.397600\tTest Cost:1.685198\tTest Acc:0.325000\n",
      "Epoch 12, CIFAR-10 Batch 1:  Val Cost:1.737064\tVal Acc:0.382600\tTest Cost:1.719912\tTest Acc:0.325000\n",
      "Epoch 13, CIFAR-10 Batch 1:  Val Cost:1.632816\tVal Acc:0.419800\tTest Cost:1.557292\tTest Acc:0.500000\n",
      "Epoch 14, CIFAR-10 Batch 1:  Val Cost:1.678632\tVal Acc:0.411400\tTest Cost:1.619455\tTest Acc:0.450000\n",
      "Epoch 15, CIFAR-10 Batch 1:  Val Cost:1.652855\tVal Acc:0.418400\tTest Cost:1.565560\tTest Acc:0.475000\n",
      "Epoch 16, CIFAR-10 Batch 1:  Val Cost:1.571233\tVal Acc:0.444800\tTest Cost:1.441550\tTest Acc:0.425000\n",
      "Epoch 17, CIFAR-10 Batch 1:  Val Cost:1.497287\tVal Acc:0.465200\tTest Cost:1.310238\tTest Acc:0.500000\n",
      "Epoch 18, CIFAR-10 Batch 1:  Val Cost:1.498592\tVal Acc:0.463600\tTest Cost:1.306389\tTest Acc:0.500000\n",
      "Epoch 19, CIFAR-10 Batch 1:  Val Cost:1.512855\tVal Acc:0.460600\tTest Cost:1.293309\tTest Acc:0.500000\n",
      "Epoch 20, CIFAR-10 Batch 1:  Val Cost:1.555129\tVal Acc:0.447200\tTest Cost:1.344677\tTest Acc:0.475000\n",
      "Epoch 21, CIFAR-10 Batch 1:  Val Cost:1.444920\tVal Acc:0.473600\tTest Cost:1.180624\tTest Acc:0.550000\n",
      "Epoch 22, CIFAR-10 Batch 1:  Val Cost:1.445745\tVal Acc:0.477400\tTest Cost:1.212673\tTest Acc:0.500000\n",
      "Epoch 23, CIFAR-10 Batch 1:  Val Cost:1.436057\tVal Acc:0.484200\tTest Cost:1.160429\tTest Acc:0.525000\n",
      "Epoch 24, CIFAR-10 Batch 1:  Val Cost:1.462647\tVal Acc:0.474400\tTest Cost:1.144199\tTest Acc:0.550000\n",
      "Epoch 25, CIFAR-10 Batch 1:  Val Cost:1.430704\tVal Acc:0.487000\tTest Cost:1.077702\tTest Acc:0.575000\n",
      "Epoch 26, CIFAR-10 Batch 1:  Val Cost:1.395699\tVal Acc:0.504400\tTest Cost:1.029137\tTest Acc:0.625000\n",
      "Epoch 27, CIFAR-10 Batch 1:  Val Cost:1.443271\tVal Acc:0.486200\tTest Cost:1.087315\tTest Acc:0.575000\n",
      "Epoch 28, CIFAR-10 Batch 1:  Val Cost:1.377294\tVal Acc:0.508400\tTest Cost:0.963725\tTest Acc:0.650000\n",
      "Epoch 29, CIFAR-10 Batch 1:  Val Cost:1.376314\tVal Acc:0.505400\tTest Cost:0.910454\tTest Acc:0.650000\n",
      "Epoch 30, CIFAR-10 Batch 1:  Val Cost:1.373855\tVal Acc:0.502600\tTest Cost:0.891677\tTest Acc:0.700000\n",
      "Epoch 31, CIFAR-10 Batch 1:  Val Cost:1.414963\tVal Acc:0.497800\tTest Cost:0.965791\tTest Acc:0.600000\n",
      "Epoch 32, CIFAR-10 Batch 1:  Val Cost:1.372473\tVal Acc:0.509000\tTest Cost:0.860863\tTest Acc:0.675000\n",
      "Epoch 33, CIFAR-10 Batch 1:  Val Cost:1.352839\tVal Acc:0.510000\tTest Cost:0.874522\tTest Acc:0.725000\n",
      "Epoch 34, CIFAR-10 Batch 1:  Val Cost:1.331190\tVal Acc:0.522600\tTest Cost:0.807289\tTest Acc:0.725000\n",
      "Epoch 35, CIFAR-10 Batch 1:  Val Cost:1.358608\tVal Acc:0.509200\tTest Cost:0.835219\tTest Acc:0.700000\n",
      "Epoch 36, CIFAR-10 Batch 1:  Val Cost:1.345230\tVal Acc:0.523600\tTest Cost:0.778483\tTest Acc:0.775000\n",
      "Epoch 37, CIFAR-10 Batch 1:  Val Cost:1.318068\tVal Acc:0.517800\tTest Cost:0.731022\tTest Acc:0.775000\n",
      "Epoch 38, CIFAR-10 Batch 1:  Val Cost:1.332371\tVal Acc:0.519600\tTest Cost:0.764541\tTest Acc:0.725000\n",
      "Epoch 39, CIFAR-10 Batch 1:  Val Cost:1.349802\tVal Acc:0.505000\tTest Cost:0.784745\tTest Acc:0.675000\n",
      "Epoch 40, CIFAR-10 Batch 1:  Val Cost:1.305484\tVal Acc:0.523200\tTest Cost:0.728915\tTest Acc:0.725000\n",
      "Epoch 41, CIFAR-10 Batch 1:  Val Cost:1.363377\tVal Acc:0.506800\tTest Cost:0.749709\tTest Acc:0.750000\n",
      "Epoch 42, CIFAR-10 Batch 1:  Val Cost:1.310555\tVal Acc:0.522600\tTest Cost:0.659733\tTest Acc:0.775000\n",
      "Epoch 43, CIFAR-10 Batch 1:  Val Cost:1.322724\tVal Acc:0.515600\tTest Cost:0.641130\tTest Acc:0.775000\n",
      "Epoch 44, CIFAR-10 Batch 1:  Val Cost:1.298770\tVal Acc:0.531600\tTest Cost:0.612169\tTest Acc:0.750000\n",
      "Epoch 45, CIFAR-10 Batch 1:  Val Cost:1.342915\tVal Acc:0.513600\tTest Cost:0.647278\tTest Acc:0.775000\n",
      "Epoch 46, CIFAR-10 Batch 1:  Val Cost:1.353715\tVal Acc:0.512000\tTest Cost:0.626911\tTest Acc:0.775000\n",
      "Epoch 47, CIFAR-10 Batch 1:  Val Cost:1.317045\tVal Acc:0.520200\tTest Cost:0.604176\tTest Acc:0.800000\n",
      "Epoch 48, CIFAR-10 Batch 1:  Val Cost:1.271067\tVal Acc:0.536400\tTest Cost:0.521794\tTest Acc:0.850000\n",
      "Epoch 49, CIFAR-10 Batch 1:  Val Cost:1.276976\tVal Acc:0.537600\tTest Cost:0.516094\tTest Acc:0.850000\n",
      "Epoch 50, CIFAR-10 Batch 1:  Val Cost:1.277057\tVal Acc:0.541400\tTest Cost:0.515283\tTest Acc:0.900000\n",
      "Epoch 51, CIFAR-10 Batch 1:  Val Cost:1.301896\tVal Acc:0.534000\tTest Cost:0.519475\tTest Acc:0.850000\n",
      "Epoch 52, CIFAR-10 Batch 1:  Val Cost:1.263530\tVal Acc:0.535200\tTest Cost:0.474015\tTest Acc:0.850000\n",
      "Epoch 53, CIFAR-10 Batch 1:  Val Cost:1.266683\tVal Acc:0.541200\tTest Cost:0.472644\tTest Acc:0.875000\n",
      "Epoch 54, CIFAR-10 Batch 1:  Val Cost:1.270341\tVal Acc:0.533600\tTest Cost:0.467365\tTest Acc:0.925000\n",
      "Epoch 55, CIFAR-10 Batch 1:  Val Cost:1.255138\tVal Acc:0.543400\tTest Cost:0.440067\tTest Acc:0.925000\n"
     ]
    }
   ],
   "source": [
    "\"\"\"\n",
    "DON'T MODIFY ANYTHING IN THIS CELL\n",
    "\"\"\"\n",
    "print('Checking the Training on a Single Batch...')\n",
    "with tf.Session() as sess:\n",
    "    # Initializing the variables\n",
    "    sess.run(tf.global_variables_initializer())\n",
    "    \n",
    "    # Training cycle\n",
    "    for epoch in range(epochs):\n",
    "        batch_i = 1\n",
    "        for batch_features, batch_labels in helper.load_preprocess_training_batch(batch_i, batch_size):\n",
    "            train_neural_network(sess, optimizer, keep_probability, batch_features, batch_labels)\n",
    "        print('Epoch {:>2}, CIFAR-10 Batch {}:  '.format(epoch + 1, batch_i), end='')\n",
    "        print_stats(sess, batch_features, batch_labels, cost, accuracy)"
   ]
  },
  {
   "cell_type": "markdown",
   "metadata": {
    "deletable": true,
    "editable": true
   },
   "source": [
    "### Fully Train the Model\n",
    "Now that you got a good accuracy with a single CIFAR-10 batch, try it with all five batches."
   ]
  },
  {
   "cell_type": "code",
   "execution_count": 24,
   "metadata": {
    "collapsed": false,
    "deletable": true,
    "editable": true,
    "scrolled": false
   },
   "outputs": [
    {
     "name": "stdout",
     "output_type": "stream",
     "text": [
      "Training...\n",
      "Epoch  1, CIFAR-10 Batch 1:  Val Cost:2.261050\tVal Acc:0.164600\tTest Cost:2.278634\tTest Acc:0.125000\n",
      "Epoch  1, CIFAR-10 Batch 2:  Val Cost:2.047892\tVal Acc:0.239200\tTest Cost:2.100815\tTest Acc:0.250000\n",
      "Epoch  1, CIFAR-10 Batch 3:  Val Cost:1.939999\tVal Acc:0.275600\tTest Cost:1.867677\tTest Acc:0.250000\n",
      "Epoch  1, CIFAR-10 Batch 4:  Val Cost:1.810055\tVal Acc:0.361000\tTest Cost:1.859840\tTest Acc:0.275000\n",
      "Epoch  1, CIFAR-10 Batch 5:  Val Cost:1.756504\tVal Acc:0.371000\tTest Cost:1.797722\tTest Acc:0.325000\n",
      "Epoch  2, CIFAR-10 Batch 1:  Val Cost:1.704777\tVal Acc:0.383400\tTest Cost:1.936307\tTest Acc:0.375000\n",
      "Epoch  2, CIFAR-10 Batch 2:  Val Cost:1.681136\tVal Acc:0.386000\tTest Cost:1.852623\tTest Acc:0.350000\n",
      "Epoch  2, CIFAR-10 Batch 3:  Val Cost:1.684475\tVal Acc:0.384000\tTest Cost:1.617445\tTest Acc:0.375000\n",
      "Epoch  2, CIFAR-10 Batch 4:  Val Cost:1.613348\tVal Acc:0.422000\tTest Cost:1.701656\tTest Acc:0.350000\n",
      "Epoch  2, CIFAR-10 Batch 5:  Val Cost:1.633166\tVal Acc:0.409200\tTest Cost:1.703011\tTest Acc:0.325000\n",
      "Epoch  3, CIFAR-10 Batch 1:  Val Cost:1.589676\tVal Acc:0.414600\tTest Cost:1.824400\tTest Acc:0.400000\n",
      "Epoch  3, CIFAR-10 Batch 2:  Val Cost:1.549374\tVal Acc:0.437200\tTest Cost:1.756881\tTest Acc:0.400000\n",
      "Epoch  3, CIFAR-10 Batch 3:  Val Cost:1.565493\tVal Acc:0.424400\tTest Cost:1.488747\tTest Acc:0.375000\n",
      "Epoch  3, CIFAR-10 Batch 4:  Val Cost:1.558630\tVal Acc:0.438200\tTest Cost:1.690717\tTest Acc:0.350000\n",
      "Epoch  3, CIFAR-10 Batch 5:  Val Cost:1.581832\tVal Acc:0.432400\tTest Cost:1.630373\tTest Acc:0.400000\n",
      "Epoch  4, CIFAR-10 Batch 1:  Val Cost:1.495608\tVal Acc:0.444800\tTest Cost:1.786188\tTest Acc:0.425000\n",
      "Epoch  4, CIFAR-10 Batch 2:  Val Cost:1.503032\tVal Acc:0.448400\tTest Cost:1.646752\tTest Acc:0.400000\n",
      "Epoch  4, CIFAR-10 Batch 3:  Val Cost:1.518551\tVal Acc:0.430400\tTest Cost:1.389847\tTest Acc:0.375000\n",
      "Epoch  4, CIFAR-10 Batch 4:  Val Cost:1.467092\tVal Acc:0.477000\tTest Cost:1.576489\tTest Acc:0.425000\n",
      "Epoch  4, CIFAR-10 Batch 5:  Val Cost:1.499943\tVal Acc:0.458000\tTest Cost:1.512333\tTest Acc:0.525000\n",
      "Epoch  5, CIFAR-10 Batch 1:  Val Cost:1.444726\tVal Acc:0.466600\tTest Cost:1.646030\tTest Acc:0.450000\n",
      "Epoch  5, CIFAR-10 Batch 2:  Val Cost:1.471733\tVal Acc:0.459800\tTest Cost:1.638978\tTest Acc:0.375000\n",
      "Epoch  5, CIFAR-10 Batch 3:  Val Cost:1.453815\tVal Acc:0.456000\tTest Cost:1.301544\tTest Acc:0.500000\n",
      "Epoch  5, CIFAR-10 Batch 4:  Val Cost:1.431074\tVal Acc:0.478800\tTest Cost:1.534809\tTest Acc:0.400000\n",
      "Epoch  5, CIFAR-10 Batch 5:  Val Cost:1.467698\tVal Acc:0.468000\tTest Cost:1.482729\tTest Acc:0.600000\n",
      "Epoch  6, CIFAR-10 Batch 1:  Val Cost:1.412806\tVal Acc:0.471600\tTest Cost:1.637201\tTest Acc:0.425000\n",
      "Epoch  6, CIFAR-10 Batch 2:  Val Cost:1.420976\tVal Acc:0.478000\tTest Cost:1.515547\tTest Acc:0.450000\n",
      "Epoch  6, CIFAR-10 Batch 3:  Val Cost:1.416400\tVal Acc:0.481400\tTest Cost:1.276499\tTest Acc:0.500000\n",
      "Epoch  6, CIFAR-10 Batch 4:  Val Cost:1.406211\tVal Acc:0.488600\tTest Cost:1.492482\tTest Acc:0.450000\n",
      "Epoch  6, CIFAR-10 Batch 5:  Val Cost:1.412705\tVal Acc:0.479400\tTest Cost:1.410936\tTest Acc:0.525000\n",
      "Epoch  7, CIFAR-10 Batch 1:  Val Cost:1.397121\tVal Acc:0.480800\tTest Cost:1.538882\tTest Acc:0.475000\n",
      "Epoch  7, CIFAR-10 Batch 2:  Val Cost:1.367530\tVal Acc:0.501000\tTest Cost:1.458393\tTest Acc:0.500000\n",
      "Epoch  7, CIFAR-10 Batch 3:  Val Cost:1.432369\tVal Acc:0.470800\tTest Cost:1.246843\tTest Acc:0.500000\n",
      "Epoch  7, CIFAR-10 Batch 4:  Val Cost:1.375856\tVal Acc:0.497600\tTest Cost:1.430696\tTest Acc:0.500000\n",
      "Epoch  7, CIFAR-10 Batch 5:  Val Cost:1.437207\tVal Acc:0.478800\tTest Cost:1.357323\tTest Acc:0.475000\n",
      "Epoch  8, CIFAR-10 Batch 1:  Val Cost:1.367403\tVal Acc:0.490000\tTest Cost:1.530506\tTest Acc:0.500000\n",
      "Epoch  8, CIFAR-10 Batch 2:  Val Cost:1.391841\tVal Acc:0.494400\tTest Cost:1.434852\tTest Acc:0.500000\n",
      "Epoch  8, CIFAR-10 Batch 3:  Val Cost:1.403175\tVal Acc:0.483200\tTest Cost:1.169462\tTest Acc:0.550000\n",
      "Epoch  8, CIFAR-10 Batch 4:  Val Cost:1.325625\tVal Acc:0.517000\tTest Cost:1.338546\tTest Acc:0.550000\n",
      "Epoch  8, CIFAR-10 Batch 5:  Val Cost:1.445239\tVal Acc:0.482400\tTest Cost:1.337333\tTest Acc:0.475000\n",
      "Epoch  9, CIFAR-10 Batch 1:  Val Cost:1.342041\tVal Acc:0.499800\tTest Cost:1.460058\tTest Acc:0.450000\n",
      "Epoch  9, CIFAR-10 Batch 2:  Val Cost:1.364504\tVal Acc:0.497000\tTest Cost:1.395370\tTest Acc:0.500000\n",
      "Epoch  9, CIFAR-10 Batch 3:  Val Cost:1.384801\tVal Acc:0.485400\tTest Cost:1.178924\tTest Acc:0.550000\n",
      "Epoch  9, CIFAR-10 Batch 4:  Val Cost:1.328051\tVal Acc:0.518000\tTest Cost:1.315445\tTest Acc:0.525000\n",
      "Epoch  9, CIFAR-10 Batch 5:  Val Cost:1.366709\tVal Acc:0.509200\tTest Cost:1.247643\tTest Acc:0.600000\n",
      "Epoch 10, CIFAR-10 Batch 1:  Val Cost:1.305478\tVal Acc:0.516400\tTest Cost:1.428373\tTest Acc:0.525000\n",
      "Epoch 10, CIFAR-10 Batch 2:  Val Cost:1.313511\tVal Acc:0.519800\tTest Cost:1.301178\tTest Acc:0.550000\n",
      "Epoch 10, CIFAR-10 Batch 3:  Val Cost:1.339133\tVal Acc:0.510200\tTest Cost:1.097522\tTest Acc:0.550000\n",
      "Epoch 10, CIFAR-10 Batch 4:  Val Cost:1.290646\tVal Acc:0.528400\tTest Cost:1.308190\tTest Acc:0.525000\n",
      "Epoch 10, CIFAR-10 Batch 5:  Val Cost:1.351099\tVal Acc:0.518200\tTest Cost:1.232059\tTest Acc:0.625000\n",
      "Epoch 11, CIFAR-10 Batch 1:  Val Cost:1.293690\tVal Acc:0.523000\tTest Cost:1.387509\tTest Acc:0.525000\n",
      "Epoch 11, CIFAR-10 Batch 2:  Val Cost:1.294424\tVal Acc:0.531600\tTest Cost:1.245234\tTest Acc:0.575000\n",
      "Epoch 11, CIFAR-10 Batch 3:  Val Cost:1.368628\tVal Acc:0.503800\tTest Cost:1.112056\tTest Acc:0.600000\n",
      "Epoch 11, CIFAR-10 Batch 4:  Val Cost:1.267057\tVal Acc:0.535000\tTest Cost:1.229488\tTest Acc:0.550000\n",
      "Epoch 11, CIFAR-10 Batch 5:  Val Cost:1.380645\tVal Acc:0.509000\tTest Cost:1.254841\tTest Acc:0.575000\n",
      "Epoch 12, CIFAR-10 Batch 1:  Val Cost:1.274722\tVal Acc:0.535000\tTest Cost:1.311560\tTest Acc:0.525000\n",
      "Epoch 12, CIFAR-10 Batch 2:  Val Cost:1.311645\tVal Acc:0.526800\tTest Cost:1.277710\tTest Acc:0.625000\n",
      "Epoch 12, CIFAR-10 Batch 3:  Val Cost:1.348022\tVal Acc:0.515800\tTest Cost:1.062621\tTest Acc:0.500000\n",
      "Epoch 12, CIFAR-10 Batch 4:  Val Cost:1.243108\tVal Acc:0.547400\tTest Cost:1.152263\tTest Acc:0.575000\n",
      "Epoch 12, CIFAR-10 Batch 5:  Val Cost:1.276314\tVal Acc:0.544200\tTest Cost:1.118325\tTest Acc:0.650000\n",
      "Epoch 13, CIFAR-10 Batch 1:  Val Cost:1.253133\tVal Acc:0.541200\tTest Cost:1.243196\tTest Acc:0.550000\n",
      "Epoch 13, CIFAR-10 Batch 2:  Val Cost:1.352436\tVal Acc:0.513200\tTest Cost:1.282757\tTest Acc:0.600000\n",
      "Epoch 13, CIFAR-10 Batch 3:  Val Cost:1.346338\tVal Acc:0.509800\tTest Cost:1.014216\tTest Acc:0.575000\n",
      "Epoch 13, CIFAR-10 Batch 4:  Val Cost:1.239540\tVal Acc:0.549800\tTest Cost:1.124490\tTest Acc:0.600000\n",
      "Epoch 13, CIFAR-10 Batch 5:  Val Cost:1.275326\tVal Acc:0.547600\tTest Cost:1.087793\tTest Acc:0.675000\n",
      "Epoch 14, CIFAR-10 Batch 1:  Val Cost:1.262766\tVal Acc:0.539600\tTest Cost:1.222736\tTest Acc:0.600000\n",
      "Epoch 14, CIFAR-10 Batch 2:  Val Cost:1.319443\tVal Acc:0.521400\tTest Cost:1.276441\tTest Acc:0.550000\n",
      "Epoch 14, CIFAR-10 Batch 3:  Val Cost:1.268083\tVal Acc:0.548200\tTest Cost:0.986557\tTest Acc:0.625000\n",
      "Epoch 14, CIFAR-10 Batch 4:  Val Cost:1.230756\tVal Acc:0.551400\tTest Cost:1.130390\tTest Acc:0.600000\n",
      "Epoch 14, CIFAR-10 Batch 5:  Val Cost:1.310690\tVal Acc:0.540000\tTest Cost:1.086791\tTest Acc:0.625000\n",
      "Epoch 15, CIFAR-10 Batch 1:  Val Cost:1.249029\tVal Acc:0.552200\tTest Cost:1.220355\tTest Acc:0.600000\n",
      "Epoch 15, CIFAR-10 Batch 2:  Val Cost:1.303545\tVal Acc:0.532800\tTest Cost:1.218156\tTest Acc:0.650000\n",
      "Epoch 15, CIFAR-10 Batch 3:  Val Cost:1.268523\tVal Acc:0.543000\tTest Cost:1.009173\tTest Acc:0.625000\n",
      "Epoch 15, CIFAR-10 Batch 4:  Val Cost:1.245527\tVal Acc:0.556200\tTest Cost:1.096854\tTest Acc:0.575000\n",
      "Epoch 15, CIFAR-10 Batch 5:  Val Cost:1.297516\tVal Acc:0.538400\tTest Cost:1.056813\tTest Acc:0.675000\n",
      "Epoch 16, CIFAR-10 Batch 1:  Val Cost:1.262500\tVal Acc:0.554800\tTest Cost:1.245095\tTest Acc:0.625000\n",
      "Epoch 16, CIFAR-10 Batch 2:  Val Cost:1.358163\tVal Acc:0.531000\tTest Cost:1.222181\tTest Acc:0.550000\n",
      "Epoch 16, CIFAR-10 Batch 3:  Val Cost:1.239632\tVal Acc:0.553800\tTest Cost:0.944311\tTest Acc:0.675000\n",
      "Epoch 16, CIFAR-10 Batch 4:  Val Cost:1.247099\tVal Acc:0.556600\tTest Cost:1.106231\tTest Acc:0.575000\n",
      "Epoch 16, CIFAR-10 Batch 5:  Val Cost:1.277286\tVal Acc:0.548800\tTest Cost:0.982868\tTest Acc:0.675000\n",
      "Epoch 17, CIFAR-10 Batch 1:  Val Cost:1.179814\tVal Acc:0.571400\tTest Cost:1.110839\tTest Acc:0.675000\n",
      "Epoch 17, CIFAR-10 Batch 2:  Val Cost:1.241710\tVal Acc:0.558200\tTest Cost:1.088266\tTest Acc:0.700000\n",
      "Epoch 17, CIFAR-10 Batch 3:  Val Cost:1.289774\tVal Acc:0.542000\tTest Cost:0.976511\tTest Acc:0.700000\n",
      "Epoch 17, CIFAR-10 Batch 4:  Val Cost:1.192696\tVal Acc:0.569800\tTest Cost:1.059624\tTest Acc:0.625000\n",
      "Epoch 17, CIFAR-10 Batch 5:  Val Cost:1.247448\tVal Acc:0.554600\tTest Cost:0.979644\tTest Acc:0.675000\n",
      "Epoch 18, CIFAR-10 Batch 1:  Val Cost:1.185821\tVal Acc:0.572800\tTest Cost:1.155016\tTest Acc:0.600000\n",
      "Epoch 18, CIFAR-10 Batch 2:  Val Cost:1.245880\tVal Acc:0.556000\tTest Cost:1.085974\tTest Acc:0.600000\n",
      "Epoch 18, CIFAR-10 Batch 3:  Val Cost:1.228795\tVal Acc:0.554800\tTest Cost:0.904862\tTest Acc:0.725000\n",
      "Epoch 18, CIFAR-10 Batch 4:  Val Cost:1.172351\tVal Acc:0.577200\tTest Cost:0.980858\tTest Acc:0.675000\n",
      "Epoch 18, CIFAR-10 Batch 5:  Val Cost:1.321212\tVal Acc:0.546200\tTest Cost:1.069246\tTest Acc:0.650000\n",
      "Epoch 19, CIFAR-10 Batch 1:  Val Cost:1.177354\tVal Acc:0.574800\tTest Cost:1.073949\tTest Acc:0.600000\n",
      "Epoch 19, CIFAR-10 Batch 2:  Val Cost:1.182930\tVal Acc:0.575400\tTest Cost:1.007115\tTest Acc:0.700000\n",
      "Epoch 19, CIFAR-10 Batch 3:  Val Cost:1.216561\tVal Acc:0.563600\tTest Cost:0.894073\tTest Acc:0.600000\n",
      "Epoch 19, CIFAR-10 Batch 4:  Val Cost:1.136585\tVal Acc:0.592600\tTest Cost:0.920049\tTest Acc:0.650000\n",
      "Epoch 19, CIFAR-10 Batch 5:  Val Cost:1.223693\tVal Acc:0.567600\tTest Cost:0.952614\tTest Acc:0.700000\n",
      "Epoch 20, CIFAR-10 Batch 1:  Val Cost:1.135146\tVal Acc:0.597400\tTest Cost:1.063758\tTest Acc:0.625000\n",
      "Epoch 20, CIFAR-10 Batch 2:  Val Cost:1.238253\tVal Acc:0.567000\tTest Cost:1.009889\tTest Acc:0.700000\n",
      "Epoch 20, CIFAR-10 Batch 3:  Val Cost:1.177311\tVal Acc:0.582200\tTest Cost:0.854860\tTest Acc:0.700000\n",
      "Epoch 20, CIFAR-10 Batch 4:  Val Cost:1.135897\tVal Acc:0.591000\tTest Cost:0.883431\tTest Acc:0.700000\n",
      "Epoch 20, CIFAR-10 Batch 5:  Val Cost:1.206568\tVal Acc:0.576400\tTest Cost:0.934608\tTest Acc:0.700000\n",
      "Epoch 21, CIFAR-10 Batch 1:  Val Cost:1.153772\tVal Acc:0.581400\tTest Cost:1.004906\tTest Acc:0.650000\n",
      "Epoch 21, CIFAR-10 Batch 2:  Val Cost:1.225896\tVal Acc:0.564400\tTest Cost:1.031590\tTest Acc:0.725000\n",
      "Epoch 21, CIFAR-10 Batch 3:  Val Cost:1.221026\tVal Acc:0.571200\tTest Cost:0.849854\tTest Acc:0.650000\n",
      "Epoch 21, CIFAR-10 Batch 4:  Val Cost:1.153510\tVal Acc:0.589800\tTest Cost:0.820884\tTest Acc:0.750000\n",
      "Epoch 21, CIFAR-10 Batch 5:  Val Cost:1.200776\tVal Acc:0.567800\tTest Cost:0.915709\tTest Acc:0.675000\n",
      "Epoch 22, CIFAR-10 Batch 1:  Val Cost:1.244388\tVal Acc:0.563000\tTest Cost:1.059442\tTest Acc:0.575000\n",
      "Epoch 22, CIFAR-10 Batch 2:  Val Cost:1.210045\tVal Acc:0.575800\tTest Cost:0.958390\tTest Acc:0.700000\n",
      "Epoch 22, CIFAR-10 Batch 3:  Val Cost:1.164183\tVal Acc:0.585400\tTest Cost:0.816435\tTest Acc:0.700000\n",
      "Epoch 22, CIFAR-10 Batch 4:  Val Cost:1.142093\tVal Acc:0.591200\tTest Cost:0.820084\tTest Acc:0.775000\n",
      "Epoch 22, CIFAR-10 Batch 5:  Val Cost:1.190001\tVal Acc:0.578400\tTest Cost:0.851671\tTest Acc:0.700000\n",
      "Epoch 23, CIFAR-10 Batch 1:  Val Cost:1.149141\tVal Acc:0.588000\tTest Cost:0.990483\tTest Acc:0.675000\n",
      "Epoch 23, CIFAR-10 Batch 2:  Val Cost:1.198392\tVal Acc:0.583800\tTest Cost:0.846267\tTest Acc:0.725000\n",
      "Epoch 23, CIFAR-10 Batch 3:  Val Cost:1.226072\tVal Acc:0.569600\tTest Cost:0.806416\tTest Acc:0.700000\n",
      "Epoch 23, CIFAR-10 Batch 4:  Val Cost:1.090249\tVal Acc:0.609800\tTest Cost:0.794349\tTest Acc:0.800000\n",
      "Epoch 23, CIFAR-10 Batch 5:  Val Cost:1.143493\tVal Acc:0.590800\tTest Cost:0.814957\tTest Acc:0.675000\n",
      "Epoch 24, CIFAR-10 Batch 1:  Val Cost:1.171622\tVal Acc:0.580000\tTest Cost:0.952306\tTest Acc:0.600000\n",
      "Epoch 24, CIFAR-10 Batch 2:  Val Cost:1.195164\tVal Acc:0.581000\tTest Cost:0.950924\tTest Acc:0.725000\n",
      "Epoch 24, CIFAR-10 Batch 3:  Val Cost:1.143937\tVal Acc:0.594600\tTest Cost:0.739506\tTest Acc:0.750000\n",
      "Epoch 24, CIFAR-10 Batch 4:  Val Cost:1.143120\tVal Acc:0.593000\tTest Cost:0.815964\tTest Acc:0.750000\n",
      "Epoch 24, CIFAR-10 Batch 5:  Val Cost:1.204260\tVal Acc:0.578200\tTest Cost:0.855880\tTest Acc:0.625000\n",
      "Epoch 25, CIFAR-10 Batch 1:  Val Cost:1.160883\tVal Acc:0.590800\tTest Cost:0.914936\tTest Acc:0.625000\n",
      "Epoch 25, CIFAR-10 Batch 2:  Val Cost:1.143940\tVal Acc:0.588600\tTest Cost:0.824610\tTest Acc:0.700000\n",
      "Epoch 25, CIFAR-10 Batch 3:  Val Cost:1.153777\tVal Acc:0.586200\tTest Cost:0.702061\tTest Acc:0.775000\n",
      "Epoch 25, CIFAR-10 Batch 4:  Val Cost:1.088264\tVal Acc:0.604000\tTest Cost:0.772100\tTest Acc:0.750000\n",
      "Epoch 25, CIFAR-10 Batch 5:  Val Cost:1.186137\tVal Acc:0.580200\tTest Cost:0.798424\tTest Acc:0.700000\n",
      "Epoch 26, CIFAR-10 Batch 1:  Val Cost:1.113927\tVal Acc:0.597600\tTest Cost:0.892601\tTest Acc:0.675000\n",
      "Epoch 26, CIFAR-10 Batch 2:  Val Cost:1.176049\tVal Acc:0.583200\tTest Cost:0.879136\tTest Acc:0.675000\n",
      "Epoch 26, CIFAR-10 Batch 3:  Val Cost:1.135820\tVal Acc:0.594000\tTest Cost:0.715446\tTest Acc:0.750000\n",
      "Epoch 26, CIFAR-10 Batch 4:  Val Cost:1.086588\tVal Acc:0.606800\tTest Cost:0.718923\tTest Acc:0.775000\n",
      "Epoch 26, CIFAR-10 Batch 5:  Val Cost:1.232782\tVal Acc:0.566400\tTest Cost:0.855066\tTest Acc:0.725000\n",
      "Epoch 27, CIFAR-10 Batch 1:  Val Cost:1.122245\tVal Acc:0.593000\tTest Cost:0.903922\tTest Acc:0.675000\n",
      "Epoch 27, CIFAR-10 Batch 2:  Val Cost:1.094128\tVal Acc:0.608600\tTest Cost:0.823682\tTest Acc:0.725000\n",
      "Epoch 27, CIFAR-10 Batch 3:  Val Cost:1.181300\tVal Acc:0.586000\tTest Cost:0.711474\tTest Acc:0.750000\n",
      "Epoch 27, CIFAR-10 Batch 4:  Val Cost:1.083521\tVal Acc:0.611400\tTest Cost:0.742655\tTest Acc:0.775000\n",
      "Epoch 27, CIFAR-10 Batch 5:  Val Cost:1.146442\tVal Acc:0.595400\tTest Cost:0.755221\tTest Acc:0.750000\n",
      "Epoch 28, CIFAR-10 Batch 1:  Val Cost:1.099175\tVal Acc:0.601800\tTest Cost:0.842824\tTest Acc:0.700000\n",
      "Epoch 28, CIFAR-10 Batch 2:  Val Cost:1.119665\tVal Acc:0.602400\tTest Cost:0.873999\tTest Acc:0.750000\n",
      "Epoch 28, CIFAR-10 Batch 3:  Val Cost:1.124805\tVal Acc:0.600400\tTest Cost:0.701472\tTest Acc:0.775000\n",
      "Epoch 28, CIFAR-10 Batch 4:  Val Cost:1.084421\tVal Acc:0.612000\tTest Cost:0.716439\tTest Acc:0.800000\n",
      "Epoch 28, CIFAR-10 Batch 5:  Val Cost:1.196588\tVal Acc:0.575800\tTest Cost:0.790706\tTest Acc:0.750000\n",
      "Epoch 29, CIFAR-10 Batch 1:  Val Cost:1.072564\tVal Acc:0.614200\tTest Cost:0.826242\tTest Acc:0.750000\n",
      "Epoch 29, CIFAR-10 Batch 2:  Val Cost:1.125819\tVal Acc:0.603000\tTest Cost:0.866849\tTest Acc:0.700000\n",
      "Epoch 29, CIFAR-10 Batch 3:  Val Cost:1.135799\tVal Acc:0.596400\tTest Cost:0.735506\tTest Acc:0.725000\n",
      "Epoch 29, CIFAR-10 Batch 4:  Val Cost:1.068012\tVal Acc:0.615800\tTest Cost:0.677479\tTest Acc:0.775000\n",
      "Epoch 29, CIFAR-10 Batch 5:  Val Cost:1.174747\tVal Acc:0.581400\tTest Cost:0.764088\tTest Acc:0.750000\n",
      "Epoch 30, CIFAR-10 Batch 1:  Val Cost:1.078869\tVal Acc:0.605600\tTest Cost:0.806366\tTest Acc:0.750000\n",
      "Epoch 30, CIFAR-10 Batch 2:  Val Cost:1.132762\tVal Acc:0.599200\tTest Cost:0.866505\tTest Acc:0.700000\n",
      "Epoch 30, CIFAR-10 Batch 3:  Val Cost:1.082225\tVal Acc:0.613600\tTest Cost:0.619846\tTest Acc:0.825000\n",
      "Epoch 30, CIFAR-10 Batch 4:  Val Cost:1.064856\tVal Acc:0.616000\tTest Cost:0.709696\tTest Acc:0.725000\n",
      "Epoch 30, CIFAR-10 Batch 5:  Val Cost:1.124188\tVal Acc:0.600200\tTest Cost:0.728187\tTest Acc:0.750000\n",
      "Epoch 31, CIFAR-10 Batch 1:  Val Cost:1.075319\tVal Acc:0.612200\tTest Cost:0.791733\tTest Acc:0.725000\n",
      "Epoch 31, CIFAR-10 Batch 2:  Val Cost:1.180308\tVal Acc:0.587000\tTest Cost:0.866172\tTest Acc:0.675000\n",
      "Epoch 31, CIFAR-10 Batch 3:  Val Cost:1.098883\tVal Acc:0.606200\tTest Cost:0.606430\tTest Acc:0.775000\n",
      "Epoch 31, CIFAR-10 Batch 4:  Val Cost:1.082662\tVal Acc:0.606800\tTest Cost:0.733374\tTest Acc:0.750000\n",
      "Epoch 31, CIFAR-10 Batch 5:  Val Cost:1.105816\tVal Acc:0.602000\tTest Cost:0.682589\tTest Acc:0.825000\n",
      "Epoch 32, CIFAR-10 Batch 1:  Val Cost:1.037741\tVal Acc:0.624400\tTest Cost:0.715688\tTest Acc:0.800000\n",
      "Epoch 32, CIFAR-10 Batch 2:  Val Cost:1.139105\tVal Acc:0.597600\tTest Cost:0.813068\tTest Acc:0.725000\n",
      "Epoch 32, CIFAR-10 Batch 3:  Val Cost:1.064946\tVal Acc:0.623200\tTest Cost:0.584998\tTest Acc:0.825000\n",
      "Epoch 32, CIFAR-10 Batch 4:  Val Cost:1.070167\tVal Acc:0.615400\tTest Cost:0.681302\tTest Acc:0.800000\n",
      "Epoch 32, CIFAR-10 Batch 5:  Val Cost:1.075595\tVal Acc:0.614200\tTest Cost:0.650598\tTest Acc:0.825000\n",
      "Epoch 33, CIFAR-10 Batch 1:  Val Cost:1.074583\tVal Acc:0.615400\tTest Cost:0.707762\tTest Acc:0.775000\n",
      "Epoch 33, CIFAR-10 Batch 2:  Val Cost:1.083693\tVal Acc:0.617200\tTest Cost:0.770941\tTest Acc:0.725000\n",
      "Epoch 33, CIFAR-10 Batch 3:  Val Cost:1.095148\tVal Acc:0.604000\tTest Cost:0.603656\tTest Acc:0.825000\n",
      "Epoch 33, CIFAR-10 Batch 4:  Val Cost:1.081715\tVal Acc:0.622000\tTest Cost:0.592709\tTest Acc:0.775000\n",
      "Epoch 33, CIFAR-10 Batch 5:  Val Cost:1.167225\tVal Acc:0.590400\tTest Cost:0.659886\tTest Acc:0.800000\n",
      "Epoch 34, CIFAR-10 Batch 1:  Val Cost:1.044017\tVal Acc:0.626800\tTest Cost:0.744887\tTest Acc:0.750000\n",
      "Epoch 34, CIFAR-10 Batch 2:  Val Cost:1.085030\tVal Acc:0.615600\tTest Cost:0.794949\tTest Acc:0.725000\n",
      "Epoch 34, CIFAR-10 Batch 3:  Val Cost:1.073225\tVal Acc:0.616800\tTest Cost:0.582893\tTest Acc:0.825000\n",
      "Epoch 34, CIFAR-10 Batch 4:  Val Cost:1.032157\tVal Acc:0.634400\tTest Cost:0.532403\tTest Acc:0.850000\n",
      "Epoch 34, CIFAR-10 Batch 5:  Val Cost:1.127211\tVal Acc:0.599200\tTest Cost:0.658260\tTest Acc:0.725000\n",
      "Epoch 35, CIFAR-10 Batch 1:  Val Cost:1.037143\tVal Acc:0.628800\tTest Cost:0.680709\tTest Acc:0.800000\n",
      "Epoch 35, CIFAR-10 Batch 2:  Val Cost:1.082517\tVal Acc:0.622600\tTest Cost:0.768873\tTest Acc:0.775000\n",
      "Epoch 35, CIFAR-10 Batch 3:  Val Cost:1.077911\tVal Acc:0.625800\tTest Cost:0.575732\tTest Acc:0.800000\n",
      "Epoch 35, CIFAR-10 Batch 4:  Val Cost:1.022518\tVal Acc:0.640400\tTest Cost:0.568833\tTest Acc:0.875000\n",
      "Epoch 35, CIFAR-10 Batch 5:  Val Cost:1.118853\tVal Acc:0.598200\tTest Cost:0.622566\tTest Acc:0.850000\n",
      "Epoch 36, CIFAR-10 Batch 1:  Val Cost:1.058107\tVal Acc:0.621200\tTest Cost:0.736116\tTest Acc:0.750000\n",
      "Epoch 36, CIFAR-10 Batch 2:  Val Cost:1.035471\tVal Acc:0.632000\tTest Cost:0.730769\tTest Acc:0.775000\n",
      "Epoch 36, CIFAR-10 Batch 3:  Val Cost:1.074033\tVal Acc:0.621400\tTest Cost:0.570227\tTest Acc:0.800000\n",
      "Epoch 36, CIFAR-10 Batch 4:  Val Cost:1.045980\tVal Acc:0.624400\tTest Cost:0.630165\tTest Acc:0.825000\n",
      "Epoch 36, CIFAR-10 Batch 5:  Val Cost:1.139488\tVal Acc:0.597200\tTest Cost:0.663069\tTest Acc:0.825000\n",
      "Epoch 37, CIFAR-10 Batch 1:  Val Cost:1.037228\tVal Acc:0.627000\tTest Cost:0.684837\tTest Acc:0.825000\n",
      "Epoch 37, CIFAR-10 Batch 2:  Val Cost:1.076448\tVal Acc:0.624800\tTest Cost:0.672767\tTest Acc:0.775000\n",
      "Epoch 37, CIFAR-10 Batch 3:  Val Cost:1.013052\tVal Acc:0.643600\tTest Cost:0.470771\tTest Acc:0.900000\n",
      "Epoch 37, CIFAR-10 Batch 4:  Val Cost:1.039489\tVal Acc:0.634200\tTest Cost:0.599507\tTest Acc:0.800000\n",
      "Epoch 37, CIFAR-10 Batch 5:  Val Cost:1.041244\tVal Acc:0.633200\tTest Cost:0.607997\tTest Acc:0.875000\n",
      "Epoch 38, CIFAR-10 Batch 1:  Val Cost:1.043337\tVal Acc:0.620400\tTest Cost:0.682229\tTest Acc:0.775000\n",
      "Epoch 38, CIFAR-10 Batch 2:  Val Cost:1.074412\tVal Acc:0.622400\tTest Cost:0.766102\tTest Acc:0.750000\n",
      "Epoch 38, CIFAR-10 Batch 3:  Val Cost:1.052434\tVal Acc:0.631000\tTest Cost:0.517512\tTest Acc:0.825000\n",
      "Epoch 38, CIFAR-10 Batch 4:  Val Cost:1.049962\tVal Acc:0.624200\tTest Cost:0.617130\tTest Acc:0.800000\n",
      "Epoch 38, CIFAR-10 Batch 5:  Val Cost:1.100949\tVal Acc:0.608200\tTest Cost:0.600931\tTest Acc:0.850000\n",
      "Epoch 39, CIFAR-10 Batch 1:  Val Cost:1.016675\tVal Acc:0.640600\tTest Cost:0.614297\tTest Acc:0.900000\n",
      "Epoch 39, CIFAR-10 Batch 2:  Val Cost:1.089973\tVal Acc:0.617400\tTest Cost:0.740045\tTest Acc:0.775000\n",
      "Epoch 39, CIFAR-10 Batch 3:  Val Cost:1.026477\tVal Acc:0.636000\tTest Cost:0.479936\tTest Acc:0.875000\n",
      "Epoch 39, CIFAR-10 Batch 4:  Val Cost:1.043462\tVal Acc:0.630400\tTest Cost:0.604331\tTest Acc:0.825000\n",
      "Epoch 39, CIFAR-10 Batch 5:  Val Cost:1.057500\tVal Acc:0.620800\tTest Cost:0.550014\tTest Acc:0.900000\n",
      "Epoch 40, CIFAR-10 Batch 1:  Val Cost:1.015968\tVal Acc:0.634800\tTest Cost:0.675348\tTest Acc:0.775000\n",
      "Epoch 40, CIFAR-10 Batch 2:  Val Cost:1.046455\tVal Acc:0.631000\tTest Cost:0.698442\tTest Acc:0.750000\n",
      "Epoch 40, CIFAR-10 Batch 3:  Val Cost:1.045015\tVal Acc:0.627200\tTest Cost:0.510588\tTest Acc:0.875000\n",
      "Epoch 40, CIFAR-10 Batch 4:  Val Cost:1.035896\tVal Acc:0.626800\tTest Cost:0.636855\tTest Acc:0.800000\n",
      "Epoch 40, CIFAR-10 Batch 5:  Val Cost:1.102384\tVal Acc:0.611400\tTest Cost:0.558655\tTest Acc:0.875000\n",
      "Epoch 41, CIFAR-10 Batch 1:  Val Cost:1.096802\tVal Acc:0.613200\tTest Cost:0.631204\tTest Acc:0.800000\n",
      "Epoch 41, CIFAR-10 Batch 2:  Val Cost:1.021808\tVal Acc:0.636600\tTest Cost:0.758328\tTest Acc:0.725000\n",
      "Epoch 41, CIFAR-10 Batch 3:  Val Cost:1.018845\tVal Acc:0.637800\tTest Cost:0.514119\tTest Acc:0.825000\n",
      "Epoch 41, CIFAR-10 Batch 4:  Val Cost:1.024431\tVal Acc:0.633800\tTest Cost:0.602546\tTest Acc:0.800000\n",
      "Epoch 41, CIFAR-10 Batch 5:  Val Cost:1.097948\tVal Acc:0.618000\tTest Cost:0.570071\tTest Acc:0.825000\n",
      "Epoch 42, CIFAR-10 Batch 1:  Val Cost:1.028969\tVal Acc:0.637400\tTest Cost:0.622905\tTest Acc:0.825000\n",
      "Epoch 42, CIFAR-10 Batch 2:  Val Cost:1.074486\tVal Acc:0.623600\tTest Cost:0.817789\tTest Acc:0.750000\n",
      "Epoch 42, CIFAR-10 Batch 3:  Val Cost:1.013761\tVal Acc:0.641200\tTest Cost:0.475546\tTest Acc:0.900000\n",
      "Epoch 42, CIFAR-10 Batch 4:  Val Cost:1.049569\tVal Acc:0.629400\tTest Cost:0.563671\tTest Acc:0.800000\n",
      "Epoch 42, CIFAR-10 Batch 5:  Val Cost:1.047536\tVal Acc:0.630600\tTest Cost:0.521623\tTest Acc:0.900000\n",
      "Epoch 43, CIFAR-10 Batch 1:  Val Cost:1.043849\tVal Acc:0.631800\tTest Cost:0.594776\tTest Acc:0.850000\n",
      "Epoch 43, CIFAR-10 Batch 2:  Val Cost:1.051986\tVal Acc:0.639200\tTest Cost:0.664624\tTest Acc:0.800000\n",
      "Epoch 43, CIFAR-10 Batch 3:  Val Cost:1.040505\tVal Acc:0.634200\tTest Cost:0.482679\tTest Acc:0.875000\n",
      "Epoch 43, CIFAR-10 Batch 4:  Val Cost:1.034764\tVal Acc:0.637400\tTest Cost:0.598502\tTest Acc:0.800000\n",
      "Epoch 43, CIFAR-10 Batch 5:  Val Cost:1.156769\tVal Acc:0.596000\tTest Cost:0.593742\tTest Acc:0.800000\n",
      "Epoch 44, CIFAR-10 Batch 1:  Val Cost:1.062618\tVal Acc:0.626600\tTest Cost:0.629635\tTest Acc:0.875000\n",
      "Epoch 44, CIFAR-10 Batch 2:  Val Cost:1.097167\tVal Acc:0.619000\tTest Cost:0.725391\tTest Acc:0.775000\n",
      "Epoch 44, CIFAR-10 Batch 3:  Val Cost:1.029147\tVal Acc:0.643200\tTest Cost:0.466097\tTest Acc:0.875000\n",
      "Epoch 44, CIFAR-10 Batch 4:  Val Cost:1.013130\tVal Acc:0.643800\tTest Cost:0.520541\tTest Acc:0.800000\n",
      "Epoch 44, CIFAR-10 Batch 5:  Val Cost:1.112280\tVal Acc:0.612200\tTest Cost:0.559286\tTest Acc:0.850000\n",
      "Epoch 45, CIFAR-10 Batch 1:  Val Cost:1.038913\tVal Acc:0.628800\tTest Cost:0.618221\tTest Acc:0.825000\n",
      "Epoch 45, CIFAR-10 Batch 2:  Val Cost:1.011241\tVal Acc:0.645600\tTest Cost:0.655938\tTest Acc:0.850000\n",
      "Epoch 45, CIFAR-10 Batch 3:  Val Cost:1.035735\tVal Acc:0.638200\tTest Cost:0.435645\tTest Acc:0.900000\n",
      "Epoch 45, CIFAR-10 Batch 4:  Val Cost:1.063620\tVal Acc:0.628200\tTest Cost:0.585489\tTest Acc:0.800000\n",
      "Epoch 45, CIFAR-10 Batch 5:  Val Cost:1.028985\tVal Acc:0.635800\tTest Cost:0.474310\tTest Acc:0.875000\n",
      "Epoch 46, CIFAR-10 Batch 1:  Val Cost:1.083040\tVal Acc:0.619000\tTest Cost:0.639582\tTest Acc:0.800000\n",
      "Epoch 46, CIFAR-10 Batch 2:  Val Cost:1.073956\tVal Acc:0.628400\tTest Cost:0.680032\tTest Acc:0.750000\n",
      "Epoch 46, CIFAR-10 Batch 3:  Val Cost:1.016383\tVal Acc:0.640800\tTest Cost:0.502590\tTest Acc:0.850000\n",
      "Epoch 46, CIFAR-10 Batch 4:  Val Cost:1.080495\tVal Acc:0.625200\tTest Cost:0.616304\tTest Acc:0.750000\n",
      "Epoch 46, CIFAR-10 Batch 5:  Val Cost:1.132425\tVal Acc:0.605800\tTest Cost:0.570362\tTest Acc:0.800000\n",
      "Epoch 47, CIFAR-10 Batch 1:  Val Cost:1.015880\tVal Acc:0.639600\tTest Cost:0.660416\tTest Acc:0.875000\n",
      "Epoch 47, CIFAR-10 Batch 2:  Val Cost:1.027332\tVal Acc:0.639800\tTest Cost:0.665942\tTest Acc:0.775000\n",
      "Epoch 47, CIFAR-10 Batch 3:  Val Cost:1.004701\tVal Acc:0.649400\tTest Cost:0.441294\tTest Acc:0.875000\n",
      "Epoch 47, CIFAR-10 Batch 4:  Val Cost:1.013044\tVal Acc:0.645600\tTest Cost:0.521827\tTest Acc:0.825000\n",
      "Epoch 47, CIFAR-10 Batch 5:  Val Cost:1.142479\tVal Acc:0.603600\tTest Cost:0.545021\tTest Acc:0.850000\n",
      "Epoch 48, CIFAR-10 Batch 1:  Val Cost:1.084084\tVal Acc:0.623800\tTest Cost:0.645587\tTest Acc:0.850000\n",
      "Epoch 48, CIFAR-10 Batch 2:  Val Cost:1.101141\tVal Acc:0.618000\tTest Cost:0.693284\tTest Acc:0.750000\n",
      "Epoch 48, CIFAR-10 Batch 3:  Val Cost:1.108434\tVal Acc:0.622800\tTest Cost:0.502685\tTest Acc:0.875000\n",
      "Epoch 48, CIFAR-10 Batch 4:  Val Cost:0.988308\tVal Acc:0.654000\tTest Cost:0.438962\tTest Acc:0.925000\n",
      "Epoch 48, CIFAR-10 Batch 5:  Val Cost:1.099925\tVal Acc:0.613800\tTest Cost:0.501382\tTest Acc:0.875000\n",
      "Epoch 49, CIFAR-10 Batch 1:  Val Cost:1.040758\tVal Acc:0.636800\tTest Cost:0.636879\tTest Acc:0.800000\n",
      "Epoch 49, CIFAR-10 Batch 2:  Val Cost:1.022845\tVal Acc:0.644400\tTest Cost:0.566404\tTest Acc:0.825000\n",
      "Epoch 49, CIFAR-10 Batch 3:  Val Cost:1.043038\tVal Acc:0.633400\tTest Cost:0.470364\tTest Acc:0.850000\n",
      "Epoch 49, CIFAR-10 Batch 4:  Val Cost:0.979863\tVal Acc:0.656200\tTest Cost:0.487854\tTest Acc:0.825000\n",
      "Epoch 49, CIFAR-10 Batch 5:  Val Cost:1.033480\tVal Acc:0.639800\tTest Cost:0.452583\tTest Acc:0.900000\n",
      "Epoch 50, CIFAR-10 Batch 1:  Val Cost:1.064036\tVal Acc:0.624400\tTest Cost:0.611377\tTest Acc:0.775000\n",
      "Epoch 50, CIFAR-10 Batch 2:  Val Cost:1.065984\tVal Acc:0.630200\tTest Cost:0.597660\tTest Acc:0.850000\n",
      "Epoch 50, CIFAR-10 Batch 3:  Val Cost:1.054085\tVal Acc:0.634200\tTest Cost:0.476540\tTest Acc:0.875000\n",
      "Epoch 50, CIFAR-10 Batch 4:  Val Cost:0.997213\tVal Acc:0.652800\tTest Cost:0.530797\tTest Acc:0.800000\n",
      "Epoch 50, CIFAR-10 Batch 5:  Val Cost:1.086830\tVal Acc:0.624200\tTest Cost:0.529781\tTest Acc:0.875000\n",
      "Epoch 51, CIFAR-10 Batch 1:  Val Cost:1.030703\tVal Acc:0.641800\tTest Cost:0.598592\tTest Acc:0.825000\n",
      "Epoch 51, CIFAR-10 Batch 2:  Val Cost:1.023695\tVal Acc:0.639200\tTest Cost:0.617420\tTest Acc:0.850000\n",
      "Epoch 51, CIFAR-10 Batch 3:  Val Cost:1.006536\tVal Acc:0.650800\tTest Cost:0.443107\tTest Acc:0.900000\n",
      "Epoch 51, CIFAR-10 Batch 4:  Val Cost:1.057332\tVal Acc:0.634000\tTest Cost:0.631244\tTest Acc:0.775000\n",
      "Epoch 51, CIFAR-10 Batch 5:  Val Cost:1.075734\tVal Acc:0.628200\tTest Cost:0.483700\tTest Acc:0.850000\n",
      "Epoch 52, CIFAR-10 Batch 1:  Val Cost:0.963165\tVal Acc:0.658400\tTest Cost:0.521742\tTest Acc:0.875000\n",
      "Epoch 52, CIFAR-10 Batch 2:  Val Cost:1.020012\tVal Acc:0.645000\tTest Cost:0.573462\tTest Acc:0.850000\n",
      "Epoch 52, CIFAR-10 Batch 3:  Val Cost:1.134386\tVal Acc:0.614800\tTest Cost:0.514014\tTest Acc:0.825000\n",
      "Epoch 52, CIFAR-10 Batch 4:  Val Cost:1.006495\tVal Acc:0.640600\tTest Cost:0.535373\tTest Acc:0.825000\n",
      "Epoch 52, CIFAR-10 Batch 5:  Val Cost:1.098410\tVal Acc:0.619800\tTest Cost:0.510952\tTest Acc:0.900000\n",
      "Epoch 53, CIFAR-10 Batch 1:  Val Cost:0.997601\tVal Acc:0.650800\tTest Cost:0.575228\tTest Acc:0.875000\n",
      "Epoch 53, CIFAR-10 Batch 2:  Val Cost:1.059887\tVal Acc:0.628000\tTest Cost:0.601681\tTest Acc:0.825000\n",
      "Epoch 53, CIFAR-10 Batch 3:  Val Cost:1.038124\tVal Acc:0.639800\tTest Cost:0.471692\tTest Acc:0.900000\n",
      "Epoch 53, CIFAR-10 Batch 4:  Val Cost:1.014030\tVal Acc:0.638200\tTest Cost:0.562802\tTest Acc:0.825000\n",
      "Epoch 53, CIFAR-10 Batch 5:  Val Cost:1.074377\tVal Acc:0.623400\tTest Cost:0.526731\tTest Acc:0.875000\n",
      "Epoch 54, CIFAR-10 Batch 1:  Val Cost:0.979020\tVal Acc:0.655200\tTest Cost:0.510305\tTest Acc:0.850000\n",
      "Epoch 54, CIFAR-10 Batch 2:  Val Cost:1.033498\tVal Acc:0.640600\tTest Cost:0.548295\tTest Acc:0.850000\n",
      "Epoch 54, CIFAR-10 Batch 3:  Val Cost:1.054874\tVal Acc:0.637200\tTest Cost:0.508851\tTest Acc:0.875000\n",
      "Epoch 54, CIFAR-10 Batch 4:  Val Cost:0.993958\tVal Acc:0.649200\tTest Cost:0.543320\tTest Acc:0.850000\n",
      "Epoch 54, CIFAR-10 Batch 5:  Val Cost:1.028493\tVal Acc:0.632600\tTest Cost:0.422966\tTest Acc:0.875000\n",
      "Epoch 55, CIFAR-10 Batch 1:  Val Cost:1.008183\tVal Acc:0.640000\tTest Cost:0.570298\tTest Acc:0.850000\n",
      "Epoch 55, CIFAR-10 Batch 2:  Val Cost:1.041227\tVal Acc:0.636200\tTest Cost:0.661966\tTest Acc:0.825000\n",
      "Epoch 55, CIFAR-10 Batch 3:  Val Cost:1.010243\tVal Acc:0.642400\tTest Cost:0.439222\tTest Acc:0.925000\n",
      "Epoch 55, CIFAR-10 Batch 4:  Val Cost:1.021672\tVal Acc:0.641400\tTest Cost:0.593161\tTest Acc:0.800000\n",
      "Epoch 55, CIFAR-10 Batch 5:  Val Cost:1.097442\tVal Acc:0.613800\tTest Cost:0.484437\tTest Acc:0.925000\n"
     ]
    }
   ],
   "source": [
    "\"\"\"\n",
    "DON'T MODIFY ANYTHING IN THIS CELL\n",
    "\"\"\"\n",
    "save_model_path = './image_classification'\n",
    "\n",
    "print('Training...')\n",
    "with tf.Session() as sess:\n",
    "    # Initializing the variables\n",
    "    sess.run(tf.global_variables_initializer())\n",
    "    \n",
    "    # Training cycle\n",
    "    for epoch in range(epochs):\n",
    "        # Loop over all batches\n",
    "        n_batches = 5\n",
    "        for batch_i in range(1, n_batches + 1):\n",
    "            for batch_features, batch_labels in helper.load_preprocess_training_batch(batch_i, batch_size):\n",
    "                train_neural_network(sess, optimizer, keep_probability, batch_features, batch_labels)\n",
    "            print('Epoch {:>2}, CIFAR-10 Batch {}:  '.format(epoch + 1, batch_i), end='')\n",
    "            print_stats(sess, batch_features, batch_labels, cost, accuracy)\n",
    "            \n",
    "    # Save Model\n",
    "    saver = tf.train.Saver()\n",
    "    save_path = saver.save(sess, save_model_path)"
   ]
  },
  {
   "cell_type": "markdown",
   "metadata": {
    "deletable": true,
    "editable": true
   },
   "source": [
    "# Checkpoint\n",
    "The model has been saved to disk.\n",
    "## Test Model\n",
    "Test your model against the test dataset.  This will be your final accuracy. You should have an accuracy greater than 50%. If you don't, keep tweaking the model architecture and parameters."
   ]
  },
  {
   "cell_type": "code",
   "execution_count": 31,
   "metadata": {
    "collapsed": false,
    "deletable": true,
    "editable": true
   },
   "outputs": [
    {
     "name": "stdout",
     "output_type": "stream",
     "text": [
      "Testing Accuracy: 0.6140625\n",
      "\n"
     ]
    },
    {
     "data": {
      "image/png": "[encoded data removed]",
      "text/plain": [
       "<matplotlib.figure.Figure at 0x7f19ce73e198>"
      ]
     },
     "metadata": {
      "image/png": {
       "height": 319,
       "width": 355
      }
     },
     "output_type": "display_data"
    }
   ],
   "source": [
    "\"\"\"\n",
    "DON'T MODIFY ANYTHING IN THIS CELL\n",
    "\"\"\"\n",
    "%matplotlib inline\n",
    "%config InlineBackend.figure_format = 'retina'\n",
    "\n",
    "import tensorflow as tf\n",
    "import pickle\n",
    "import helper\n",
    "import random\n",
    "\n",
    "# Set batch size if not already set\n",
    "try:\n",
    "    if batch_size:\n",
    "        pass\n",
    "except NameError:\n",
    "    batch_size = 64\n",
    "\n",
    "save_model_path = './image_classification'\n",
    "n_samples = 4\n",
    "top_n_predictions = 3\n",
    "\n",
    "def test_model():\n",
    "    \"\"\"\n",
    "    Test the saved model against the test dataset\n",
    "    \"\"\"\n",
    "\n",
    "    test_features, test_labels = pickle.load(open('preprocess_training.p', mode='rb'))\n",
    "    loaded_graph = tf.Graph()\n",
    "\n",
    "    with tf.Session(graph=loaded_graph) as sess:\n",
    "        # Load model\n",
    "        loader = tf.train.import_meta_graph(save_model_path + '.meta')\n",
    "        loader.restore(sess, save_model_path)\n",
    "\n",
    "        # Get Tensors from loaded model\n",
    "        loaded_x = loaded_graph.get_tensor_by_name('x:0')\n",
    "        loaded_y = loaded_graph.get_tensor_by_name('y:0')\n",
    "        loaded_keep_prob = loaded_graph.get_tensor_by_name('keep_prob:0')\n",
    "        loaded_logits = loaded_graph.get_tensor_by_name('logits:0')\n",
    "        loaded_acc = loaded_graph.get_tensor_by_name('accuracy:0')\n",
    "        \n",
    "        # Get accuracy in batches for memory limitations\n",
    "        test_batch_acc_total = 0\n",
    "        test_batch_count = 0\n",
    "        \n",
    "        for train_feature_batch, train_label_batch in helper.batch_features_labels(test_features, test_labels, batch_size):\n",
    "            test_batch_acc_total += sess.run(\n",
    "                loaded_acc,\n",
    "                feed_dict={loaded_x: train_feature_batch, loaded_y: train_label_batch, loaded_keep_prob: 1.0})\n",
    "            test_batch_count += 1\n",
    "\n",
    "        print('Testing Accuracy: {}\\n'.format(test_batch_acc_total/test_batch_count))\n",
    "\n",
    "        # Print Random Samples\n",
    "        random_test_features, random_test_labels = tuple(zip(*random.sample(list(zip(test_features, test_labels)), n_samples)))\n",
    "        random_test_predictions = sess.run(\n",
    "            tf.nn.top_k(tf.nn.softmax(loaded_logits), top_n_predictions),\n",
    "            feed_dict={loaded_x: random_test_features, loaded_y: random_test_labels, loaded_keep_prob: 1.0})\n",
    "        helper.display_image_predictions(random_test_features, random_test_labels, random_test_predictions)\n",
    "\n",
    "\n",
    "test_model()"
   ]
  },
  {
   "cell_type": "markdown",
   "metadata": {
    "deletable": true,
    "editable": true
   },
   "source": [
    "## Why 50-70% Accuracy?\n",
    "You might be wondering why you can't get an accuracy any higher. First things first, 50% isn't bad for a simple CNN.  Pure guessing would get you 10% accuracy. However, you might notice people are getting scores [well above 70%](http://rodrigob.github.io/are_we_there_yet/build/classification_datasets_results.html#43494641522d3130).  That's because we haven't taught you all there is to know about neural networks. We still need to cover a few more techniques.\n",
    "## Submitting This Project\n",
    "When submitting this project, make sure to run all the cells before saving the notebook.  Save the notebook file as \"dlnd_image_classification.ipynb\" and save it as a HTML file under \"File\" -> \"Download as\".  Include the \"helper.py\" and \"problem_unittests.py\" files in your submission."
   ]
  }
 ],
 "metadata": {
  "anaconda-cloud": {},
  "kernelspec": {
   "display_name": "Python 3",
   "language": "python",
   "name": "python3"
  },
  "language_info": {
   "codemirror_mode": {
    "name": "ipython",
    "version": 3
   },
   "file_extension": ".py",
   "mimetype": "text/x-python",
   "name": "python",
   "nbconvert_exporter": "python",
   "pygments_lexer": "ipython3",
   "version": "3.5.2"
  },
  "widgets": {
   "state": {},
   "version": "1.1.2"
  }
 },
 "nbformat": 4,
 "nbformat_minor": 0
}
