{
 "cells": [
  {
   "cell_type": "markdown",
   "metadata": {
    "collapsed": true,
    "deletable": true,
    "editable": true
   },
   "source": [
    "# Image Classification\n",
    "In this project, you'll classify images from the [CIFAR-10 dataset](https://www.cs.toronto.edu/~kriz/cifar.html).  The dataset consists of airplanes, dogs, cats, and other objects. You'll preprocess the images, then train a convolutional neural network on all the samples. The images need to be normalized and the labels need to be one-hot encoded.  You'll get to apply what you learned and build a convolutional, max pooling, dropout, and fully connected layers.  At the end, you'll get to see your neural network's predictions on the sample images.\n",
    "## Get the Data\n",
    "Run the following cell to download the [CIFAR-10 dataset for python](https://www.cs.toronto.edu/~kriz/cifar-10-python.tar.gz)."
   ]
  },
  {
   "cell_type": "code",
   "execution_count": 1,
   "metadata": {
    "collapsed": false,
    "deletable": true,
    "editable": true
   },
   "outputs": [
    {
     "name": "stdout",
     "output_type": "stream",
     "text": [
      "All files found!\n"
     ]
    }
   ],
   "source": [
    "\"\"\"\n",
    "DON'T MODIFY ANYTHING IN THIS CELL THAT IS BELOW THIS LINE\n",
    "\"\"\"\n",
    "from urllib.request import urlretrieve\n",
    "from os.path import isfile, isdir\n",
    "from tqdm import tqdm\n",
    "import problem_unittests as tests\n",
    "import tarfile\n",
    "\n",
    "cifar10_dataset_folder_path = 'cifar-10-batches-py'\n",
    "\n",
    "class DLProgress(tqdm):\n",
    "    last_block = 0\n",
    "\n",
    "    def hook(self, block_num=1, block_size=1, total_size=None):\n",
    "        self.total = total_size\n",
    "        self.update((block_num - self.last_block) * block_size)\n",
    "        self.last_block = block_num\n",
    "\n",
    "if not isfile('cifar-10-python.tar.gz'):\n",
    "    with DLProgress(unit='B', unit_scale=True, miniters=1, desc='CIFAR-10 Dataset') as pbar:\n",
    "        urlretrieve(\n",
    "            'https://www.cs.toronto.edu/~kriz/cifar-10-python.tar.gz',\n",
    "            'cifar-10-python.tar.gz',\n",
    "            pbar.hook)\n",
    "\n",
    "if not isdir(cifar10_dataset_folder_path):\n",
    "    with tarfile.open('cifar-10-python.tar.gz') as tar:\n",
    "        tar.extractall()\n",
    "        tar.close()\n",
    "\n",
    "\n",
    "tests.test_folder_path(cifar10_dataset_folder_path)"
   ]
  },
  {
   "cell_type": "markdown",
   "metadata": {
    "deletable": true,
    "editable": true
   },
   "source": [
    "## Explore the Data\n",
    "The dataset is broken into batches to prevent your machine from running out of memory.  The CIFAR-10 dataset consists of 5 batches, named `data_batch_1`, `data_batch_2`, etc.. Each batch contains the labels and images that are one of the following:\n",
    "* airplane\n",
    "* automobile\n",
    "* bird\n",
    "* cat\n",
    "* deer\n",
    "* dog\n",
    "* frog\n",
    "* horse\n",
    "* ship\n",
    "* truck\n",
    "\n",
    "Understanding a dataset is part of making predictions on the data.  Play around with the code cell below by changing the `batch_id` and `sample_id`. The `batch_id` is the id for a batch (1-5). The `sample_id` is the id for a image and label pair in the batch.\n",
    "\n",
    "Ask yourself \"What are all possible labels?\", \"What is the range of values for the image data?\", \"Are the labels in order or random?\".  Answers to questions like these will help you preprocess the data and end up with better predictions."
   ]
  },
  {
   "cell_type": "code",
   "execution_count": 2,
   "metadata": {
    "collapsed": false,
    "deletable": true,
    "editable": true
   },
   "outputs": [
    {
     "name": "stdout",
     "output_type": "stream",
     "text": [
      "\n",
      "Stats of batch 3:\n",
      "Samples: 10000\n",
      "Label Counts: {0: 994, 1: 1042, 2: 965, 3: 997, 4: 990, 5: 1029, 6: 978, 7: 1015, 8: 961, 9: 1029}\n",
      "First 20 Labels: [8, 5, 0, 6, 9, 2, 8, 3, 6, 2, 7, 4, 6, 9, 0, 0, 7, 3, 7, 2]\n",
      "\n",
      "Example of Image 42:\n",
      "Image - Min Value: 11 Max Value: 254\n",
      "Image - Shape: (32, 32, 3)\n",
      "Label - Label Id: 1 Name: automobile\n"
     ]
    },
    {
     "data": {
      "image/png": "[encoded data removed]",
      "text/plain": [
       "<matplotlib.figure.Figure at 0x10ef804eeb8>"
      ]
     },
     "metadata": {
      "image/png": {
       "height": 250,
       "width": 253
      }
     },
     "output_type": "display_data"
    }
   ],
   "source": [
    "%matplotlib inline\n",
    "%config InlineBackend.figure_format = 'retina'\n",
    "\n",
    "import helper\n",
    "import numpy as np\n",
    "\n",
    "# Explore the dataset\n",
    "batch_id = 3\n",
    "sample_id = 42\n",
    "helper.display_stats(cifar10_dataset_folder_path, batch_id, sample_id)"
   ]
  },
  {
   "cell_type": "markdown",
   "metadata": {
    "deletable": true,
    "editable": true
   },
   "source": [
    "## Implement Preprocess Functions\n",
    "### Normalize\n",
    "In the cell below, implement the `normalize` function to take in image data, `x`, and return it as a normalized Numpy array. The values should be in the range of 0 to 1, inclusive.  The return object should be the same shape as `x`."
   ]
  },
  {
   "cell_type": "code",
   "execution_count": 3,
   "metadata": {
    "collapsed": false,
    "deletable": true,
    "editable": true
   },
   "outputs": [
    {
     "name": "stdout",
     "output_type": "stream",
     "text": [
      "Tests Passed\n"
     ]
    }
   ],
   "source": [
    "def normalize(x):\n",
    "    \"\"\"\n",
    "    Normalize a list of sample image data in the range of 0 to 1\n",
    "    : x: List of image data.  The image shape is (32, 32, 3)\n",
    "    : return: Numpy array of normalize data\n",
    "    \"\"\"\n",
    "    # Perform an elementwise division by 255.0 (the maximum possible value for each pixel)\n",
    "    return np.array(x) / 255. \n",
    "\n",
    "\n",
    "\"\"\"\n",
    "DON'T MODIFY ANYTHING IN THIS CELL THAT IS BELOW THIS LINE\n",
    "\"\"\"\n",
    "tests.test_normalize(normalize)"
   ]
  },
  {
   "cell_type": "markdown",
   "metadata": {
    "deletable": true,
    "editable": true
   },
   "source": [
    "### One-hot encode\n",
    "Just like the previous code cell, you'll be implementing a function for preprocessing.  This time, you'll implement the `one_hot_encode` function. The input, `x`, are a list of labels.  Implement the function to return the list of labels as One-Hot encoded Numpy array.  The possible values for labels are 0 to 9. The one-hot encoding function should return the same encoding for each value between each call to `one_hot_encode`.  Make sure to save the map of encodings outside the function.\n",
    "\n",
    "Hint: Don't reinvent the wheel."
   ]
  },
  {
   "cell_type": "code",
   "execution_count": 4,
   "metadata": {
    "collapsed": false,
    "deletable": true,
    "editable": true
   },
   "outputs": [
    {
     "name": "stdout",
     "output_type": "stream",
     "text": [
      "Tests Passed\n"
     ]
    }
   ],
   "source": [
    "from sklearn.preprocessing import LabelBinarizer\n",
    "\n",
    "one_hot_map = None\n",
    "def one_hot_encode(x):\n",
    "    \"\"\"\n",
    "    One hot encode a list of sample labels. Return a one-hot encoded vector for each label.\n",
    "    : x: List of sample Labels\n",
    "    : return: Numpy array of one-hot encoded labels\n",
    "    \"\"\"\n",
    "    global one_hot_map\n",
    "    if one_hot_map is None:\n",
    "        one_hot_map = LabelBinarizer()\n",
    "        one_hot_map.fit(x)\n",
    "    \n",
    "    return one_hot_map.transform(x)\n",
    "\n",
    "\n",
    "\"\"\"\n",
    "DON'T MODIFY ANYTHING IN THIS CELL THAT IS BELOW THIS LINE\n",
    "\"\"\"\n",
    "tests.test_one_hot_encode(one_hot_encode)"
   ]
  },
  {
   "cell_type": "markdown",
   "metadata": {
    "deletable": true,
    "editable": true
   },
   "source": [
    "### Randomize Data\n",
    "As you saw from exploring the data above, the order of the samples are randomized.  It doesn't hurt to randomize it again, but you don't need to for this dataset."
   ]
  },
  {
   "cell_type": "markdown",
   "metadata": {
    "deletable": true,
    "editable": true
   },
   "source": [
    "## Preprocess all the data and save it\n",
    "Running the code cell below will preprocess all the CIFAR-10 data and save it to file. The code below also uses 10% of the training data for validation."
   ]
  },
  {
   "cell_type": "code",
   "execution_count": 5,
   "metadata": {
    "collapsed": false,
    "deletable": true,
    "editable": true
   },
   "outputs": [],
   "source": [
    "\"\"\"\n",
    "DON'T MODIFY ANYTHING IN THIS CELL\n",
    "\"\"\"\n",
    "# Preprocess Training, Validation, and Testing Data\n",
    "helper.preprocess_and_save_data(cifar10_dataset_folder_path, normalize, one_hot_encode)"
   ]
  },
  {
   "cell_type": "markdown",
   "metadata": {
    "deletable": true,
    "editable": true
   },
   "source": [
    "# Check Point\n",
    "This is your first checkpoint.  If you ever decide to come back to this notebook or have to restart the notebook, you can start from here.  The preprocessed data has been saved to disk."
   ]
  },
  {
   "cell_type": "code",
   "execution_count": 6,
   "metadata": {
    "collapsed": true,
    "deletable": true,
    "editable": true
   },
   "outputs": [],
   "source": [
    "\"\"\"\n",
    "DON'T MODIFY ANYTHING IN THIS CELL\n",
    "\"\"\"\n",
    "import pickle\n",
    "import problem_unittests as tests\n",
    "import helper\n",
    "\n",
    "# Load the Preprocessed Validation data\n",
    "valid_features, valid_labels = pickle.load(open('preprocess_validation.p', mode='rb'))"
   ]
  },
  {
   "cell_type": "markdown",
   "metadata": {
    "deletable": true,
    "editable": true
   },
   "source": [
    "## Build the network\n",
    "For the neural network, you'll build each layer into a function.  Most of the code you've seen has been outside of functions. To test your code more thoroughly, we require that you put each layer in a function.  This allows us to give you better feedback and test for simple mistakes using our unittests before you submit your project.\n",
    "\n",
    ">**Note:** If you're finding it hard to dedicate enough time for this course each week, we've provided a small shortcut to this part of the project. In the next couple of problems, you'll have the option to use classes from the [TensorFlow Layers](https://www.tensorflow.org/api_docs/python/tf/layers) or [TensorFlow Layers (contrib)](https://www.tensorflow.org/api_guides/python/contrib.layers) packages to build each layer, except the layers you build in the \"Convolutional and Max Pooling Layer\" section.  TF Layers is similar to Keras's and TFLearn's abstraction to layers, so it's easy to pickup.\n",
    "\n",
    ">However, if you would like to get the most out of this course, try to solve all the problems _without_ using anything from the TF Layers packages. You **can** still use classes from other packages that happen to have the same name as ones you find in TF Layers! For example, instead of using the TF Layers version of the `conv2d` class, [tf.layers.conv2d](https://www.tensorflow.org/api_docs/python/tf/layers/conv2d), you would want to use the TF Neural Network version of `conv2d`, [tf.nn.conv2d](https://www.tensorflow.org/api_docs/python/tf/nn/conv2d). \n",
    "\n",
    "Let's begin!\n",
    "\n",
    "### Input\n",
    "The neural network needs to read the image data, one-hot encoded labels, and dropout keep probability. Implement the following functions\n",
    "* Implement `neural_net_image_input`\n",
    " * Return a [TF Placeholder](https://www.tensorflow.org/api_docs/python/tf/placeholder)\n",
    " * Set the shape using `image_shape` with batch size set to `None`.\n",
    " * Name the TensorFlow placeholder \"x\" using the TensorFlow `name` parameter in the [TF Placeholder](https://www.tensorflow.org/api_docs/python/tf/placeholder).\n",
    "* Implement `neural_net_label_input`\n",
    " * Return a [TF Placeholder](https://www.tensorflow.org/api_docs/python/tf/placeholder)\n",
    " * Set the shape using `n_classes` with batch size set to `None`.\n",
    " * Name the TensorFlow placeholder \"y\" using the TensorFlow `name` parameter in the [TF Placeholder](https://www.tensorflow.org/api_docs/python/tf/placeholder).\n",
    "* Implement `neural_net_keep_prob_input`\n",
    " * Return a [TF Placeholder](https://www.tensorflow.org/api_docs/python/tf/placeholder) for dropout keep probability.\n",
    " * Name the TensorFlow placeholder \"keep_prob\" using the TensorFlow `name` parameter in the [TF Placeholder](https://www.tensorflow.org/api_docs/python/tf/placeholder).\n",
    "\n",
    "These names will be used at the end of the project to load your saved model.\n",
    "\n",
    "Note: `None` for shapes in TensorFlow allow for a dynamic size."
   ]
  },
  {
   "cell_type": "code",
   "execution_count": 7,
   "metadata": {
    "collapsed": false,
    "deletable": true,
    "editable": true
   },
   "outputs": [
    {
     "name": "stdout",
     "output_type": "stream",
     "text": [
      "Image Input Tests Passed.\n",
      "Label Input Tests Passed.\n",
      "Keep Prob Tests Passed.\n"
     ]
    }
   ],
   "source": [
    "import tensorflow as tf\n",
    "\n",
    "def neural_net_image_input(image_shape):\n",
    "    \"\"\"\n",
    "    Return a Tensor for a bach of image input\n",
    "    : image_shape: Shape of the images\n",
    "    : return: Tensor for image input.\n",
    "    \"\"\"\n",
    "    return tf.placeholder(tf.float32, shape=([None] + list(image_shape)), name=\"x\")\n",
    "\n",
    "\n",
    "def neural_net_label_input(n_classes):\n",
    "    \"\"\"\n",
    "    Return a Tensor for a batch of label input\n",
    "    : n_classes: Number of classes\n",
    "    : return: Tensor for label input.\n",
    "    \"\"\"\n",
    "    return tf.placeholder(tf.float32, shape=[None, n_classes], name=\"y\")\n",
    "\n",
    "\n",
    "def neural_net_keep_prob_input():\n",
    "    \"\"\"\n",
    "    Return a Tensor for keep probability\n",
    "    : return: Tensor for keep probability.\n",
    "    \"\"\"\n",
    "    return tf.placeholder(tf.float32, name=\"keep_prob\")\n",
    "\n",
    "\n",
    "\"\"\"\n",
    "DON'T MODIFY ANYTHING IN THIS CELL THAT IS BELOW THIS LINE\n",
    "\"\"\"\n",
    "tf.reset_default_graph()\n",
    "tests.test_nn_image_inputs(neural_net_image_input)\n",
    "tests.test_nn_label_inputs(neural_net_label_input)\n",
    "tests.test_nn_keep_prob_inputs(neural_net_keep_prob_input)"
   ]
  },
  {
   "cell_type": "markdown",
   "metadata": {
    "deletable": true,
    "editable": true
   },
   "source": [
    "### Convolution and Max Pooling Layer\n",
    "Convolution layers have a lot of success with images. For this code cell, you should implement the function `conv2d_maxpool` to apply convolution then max pooling:\n",
    "* Create the weight and bias using `conv_ksize`, `conv_num_outputs` and the shape of `x_tensor`.\n",
    "* Apply a convolution to `x_tensor` using weight and `conv_strides`.\n",
    " * We recommend you use same padding, but you're welcome to use any padding.\n",
    "* Add bias\n",
    "* Add a nonlinear activation to the convolution.\n",
    "* Apply Max Pooling using `pool_ksize` and `pool_strides`.\n",
    " * We recommend you use same padding, but you're welcome to use any padding.\n",
    "\n",
    "**Note:** You **can't** use [TensorFlow Layers](https://www.tensorflow.org/api_docs/python/tf/layers) or [TensorFlow Layers (contrib)](https://www.tensorflow.org/api_guides/python/contrib.layers) for **this** layer, but you can still use TensorFlow's [Neural Network](https://www.tensorflow.org/api_docs/python/tf/nn) package. You may still use the shortcut option for all the **other** layers."
   ]
  },
  {
   "cell_type": "code",
   "execution_count": 8,
   "metadata": {
    "collapsed": false,
    "deletable": true,
    "editable": true
   },
   "outputs": [
    {
     "name": "stdout",
     "output_type": "stream",
     "text": [
      "Tests Passed\n"
     ]
    }
   ],
   "source": [
    "def conv2d_maxpool(x_tensor, conv_num_outputs, conv_ksize, conv_strides, pool_ksize, pool_strides):\n",
    "    \"\"\"\n",
    "    Apply convolution then max pooling to x_tensor\n",
    "    :param x_tensor: TensorFlow Tensor\n",
    "    :param conv_num_outputs: Number of outputs for the convolutional layer\n",
    "    :param conv_ksize: kernal size 2-D Tuple for the convolutional layer\n",
    "    :param conv_strides: Stride 2-D Tuple for convolution\n",
    "    :param pool_ksize: kernal size 2-D Tuple for pool\n",
    "    :param pool_strides: Stride 2-D Tuple for pool\n",
    "    : return: A tensor that represents convolution and max pooling of x_tensor\n",
    "    \"\"\"\n",
    "    # Create weights and biases\n",
    "    input_depth = x_tensor.shape.as_list()[3]\n",
    "    weights = tf.Variable(tf.truncated_normal([conv_ksize[0],\n",
    "                                            conv_ksize[1],\n",
    "                                            input_depth,\n",
    "                                            conv_num_outputs], stddev=0.1))\n",
    "    biases = tf.Variable(tf.truncated_normal([conv_num_outputs], stddev=0.1))\n",
    "\n",
    "    # Add convolution, bias and nonlinear activation (relu) steps\n",
    "    net = tf.nn.conv2d(x_tensor, weights, strides=[1, conv_strides[0], conv_strides[1], 1], padding=\"SAME\")\n",
    "    net = tf.nn.bias_add(net, biases)\n",
    "    net = tf.nn.relu(net)\n",
    "    \n",
    "    # maxpool\n",
    "    net = tf.nn.max_pool(net, \n",
    "                         ksize=[1, pool_ksize[0], pool_ksize[1], 1], \n",
    "                         strides=[1, pool_strides[0], pool_strides[1], 1], \n",
    "                         padding=\"SAME\")\n",
    "    \n",
    "    return net\n",
    "\n",
    "\n",
    "\"\"\"\n",
    "DON'T MODIFY ANYTHING IN THIS CELL THAT IS BELOW THIS LINE\n",
    "\"\"\"\n",
    "tests.test_con_pool(conv2d_maxpool)"
   ]
  },
  {
   "cell_type": "markdown",
   "metadata": {
    "deletable": true,
    "editable": true
   },
   "source": [
    "### Flatten Layer\n",
    "Implement the `flatten` function to change the dimension of `x_tensor` from a 4-D tensor to a 2-D tensor.  The output should be the shape (*Batch Size*, *Flattened Image Size*). Shortcut option: you can use classes from the [TensorFlow Layers](https://www.tensorflow.org/api_docs/python/tf/layers) or [TensorFlow Layers (contrib)](https://www.tensorflow.org/api_guides/python/contrib.layers) packages for this layer. For more of a challenge, only use other TensorFlow packages."
   ]
  },
  {
   "cell_type": "code",
   "execution_count": 9,
   "metadata": {
    "collapsed": false,
    "deletable": true,
    "editable": true
   },
   "outputs": [
    {
     "name": "stdout",
     "output_type": "stream",
     "text": [
      "Tests Passed\n"
     ]
    }
   ],
   "source": [
    "def flatten(x_tensor):\n",
    "    \"\"\"\n",
    "    Flatten x_tensor to (Batch Size, Flattened Image Size)\n",
    "    : x_tensor: A tensor of size (Batch Size, ...), where ... are the image dimensions.\n",
    "    : return: A tensor of size (Batch Size, Flattened Image Size).\n",
    "    \"\"\"\n",
    "    \n",
    "    # on the test this would be [None, 10, 30, 6]\n",
    "    batch_size, rows, cols, depts = x_tensor.shape.as_list() \n",
    "    \n",
    "    # now simply pass -1 to keep first dim and multiply all other dims to get one big array (None, 1800)\n",
    "    return tf.reshape(x_tensor, [-1, rows*cols*depts]) \n",
    "\n",
    "\n",
    "\"\"\"\n",
    "DON'T MODIFY ANYTHING IN THIS CELL THAT IS BELOW THIS LINE\n",
    "\"\"\"\n",
    "tests.test_flatten(flatten)"
   ]
  },
  {
   "cell_type": "markdown",
   "metadata": {
    "deletable": true,
    "editable": true
   },
   "source": [
    "### Fully-Connected Layer\n",
    "Implement the `fully_conn` function to apply a fully connected layer to `x_tensor` with the shape (*Batch Size*, *num_outputs*). Shortcut option: you can use classes from the [TensorFlow Layers](https://www.tensorflow.org/api_docs/python/tf/layers) or [TensorFlow Layers (contrib)](https://www.tensorflow.org/api_guides/python/contrib.layers) packages for this layer. For more of a challenge, only use other TensorFlow packages."
   ]
  },
  {
   "cell_type": "code",
   "execution_count": 10,
   "metadata": {
    "collapsed": false,
    "deletable": true,
    "editable": true
   },
   "outputs": [
    {
     "name": "stdout",
     "output_type": "stream",
     "text": [
      "Tests Passed\n"
     ]
    }
   ],
   "source": [
    "def fully_conn(x_tensor, num_outputs):\n",
    "    \"\"\"\n",
    "    Apply a fully connected layer to x_tensor using weight and bias\n",
    "    : x_tensor: A 2-D tensor where the first dimension is batch size.\n",
    "    : num_outputs: The number of output that the new tensor should be.\n",
    "    : return: A 2-D tensor where the second dimension is num_outputs.\n",
    "    \"\"\"\n",
    "    \n",
    "    # create weights and biases\n",
    "    num_inpts = x_tensor.shape.as_list()[1]    \n",
    "    weight = tf.Variable(tf.truncated_normal([num_inpts, num_outputs], stddev=0.1))\n",
    "    bias = tf.Variable(tf.truncated_normal([num_outputs], stddev=0.1))\n",
    "    \n",
    "    # make the graph\n",
    "    net = tf.matmul(x_tensor, weight)\n",
    "    net = tf.add(net, bias)\n",
    "    \n",
    "    net = tf.nn.relu(net)\n",
    "    return net\n",
    "    \n",
    "\n",
    "\n",
    "\"\"\"\n",
    "DON'T MODIFY ANYTHING IN THIS CELL THAT IS BELOW THIS LINE\n",
    "\"\"\"\n",
    "tests.test_fully_conn(fully_conn)"
   ]
  },
  {
   "cell_type": "markdown",
   "metadata": {
    "deletable": true,
    "editable": true
   },
   "source": [
    "### Output Layer\n",
    "Implement the `output` function to apply a fully connected layer to `x_tensor` with the shape (*Batch Size*, *num_outputs*). Shortcut option: you can use classes from the [TensorFlow Layers](https://www.tensorflow.org/api_docs/python/tf/layers) or [TensorFlow Layers (contrib)](https://www.tensorflow.org/api_guides/python/contrib.layers) packages for this layer. For more of a challenge, only use other TensorFlow packages.\n",
    "\n",
    "**Note:** Activation, softmax, or cross entropy should **not** be applied to this."
   ]
  },
  {
   "cell_type": "code",
   "execution_count": 11,
   "metadata": {
    "collapsed": false,
    "deletable": true,
    "editable": true
   },
   "outputs": [
    {
     "name": "stdout",
     "output_type": "stream",
     "text": [
      "Tests Passed\n"
     ]
    }
   ],
   "source": [
    "def output(x_tensor, num_outputs):\n",
    "    \"\"\"\n",
    "    Apply a output layer to x_tensor using weight and bias\n",
    "    : x_tensor: A 2-D tensor where the first dimension is batch size.\n",
    "    : num_outputs: The number of output that the new tensor should be.\n",
    "    : return: A 2-D tensor where the second dimension is num_outputs.\n",
    "    \"\"\"\n",
    "    # create weight and bias\n",
    "    num_inputs = x_tensor.shape.as_list()[1]\n",
    "    weight = tf.Variable(tf.truncated_normal([num_inputs, num_outputs], stddev=0.1))\n",
    "    bias = tf.Variable(tf.truncated_normal([num_outputs], stddev=0.1))\n",
    "    \n",
    "    # create graph\n",
    "    net = tf.matmul(x_tensor, weight)\n",
    "    net = tf.add(net, bias)\n",
    "    return net\n",
    "\n",
    "\n",
    "\"\"\"\n",
    "DON'T MODIFY ANYTHING IN THIS CELL THAT IS BELOW THIS LINE\n",
    "\"\"\"\n",
    "tests.test_output(output)"
   ]
  },
  {
   "cell_type": "markdown",
   "metadata": {
    "deletable": true,
    "editable": true
   },
   "source": [
    "### Create Convolutional Model\n",
    "Implement the function `conv_net` to create a convolutional neural network model. The function takes in a batch of images, `x`, and outputs logits.  Use the layers you created above to create this model:\n",
    "\n",
    "* Apply 1, 2, or 3 Convolution and Max Pool layers\n",
    "* Apply a Flatten Layer\n",
    "* Apply 1, 2, or 3 Fully Connected Layers\n",
    "* Apply an Output Layer\n",
    "* Return the output\n",
    "* Apply [TensorFlow's Dropout](https://www.tensorflow.org/api_docs/python/tf/nn/dropout) to one or more layers in the model using `keep_prob`. \n",
    "\n",
    "I'll be basing the design of this network on the [LeNet-5](http://yann.lecun.com/exdb/publis/pdf/lecun-01a.pdf).\n",
    "<img src=\"http://eblearn.sourceforge.net/lib/exe/lenet5.png\" />"
   ]
  },
  {
   "cell_type": "code",
   "execution_count": 12,
   "metadata": {
    "collapsed": false,
    "deletable": true,
    "editable": true
   },
   "outputs": [
    {
     "name": "stdout",
     "output_type": "stream",
     "text": [
      "Neural Network Built!\n"
     ]
    }
   ],
   "source": [
    "def conv_net(x, keep_prob):\n",
    "    \"\"\"\n",
    "    Create a convolutional neural network model\n",
    "    : x: Placeholder tensor that holds image data.\n",
    "    : keep_prob: Placeholder tensor that hold dropout keep probability.\n",
    "    : return: Tensor that represents logits\n",
    "    \"\"\"\n",
    "    # conv2d_maxpool(x_tensor, conv_num_outputs, conv_ksize, conv_strides, pool_ksize, pool_strides)\n",
    "    graph = conv2d_maxpool(x, 6, (5, 5), (1, 1), (2, 2), (2, 2))\n",
    "    graph = tf.nn.dropout(graph, keep_prob)\n",
    "    graph = conv2d_maxpool(graph, 16, (5, 5), (1, 1), (2, 2), (2, 2))\n",
    "    graph = conv2d_maxpool(graph, 35, (5, 5), (1, 1), (2, 2), (2, 2))\n",
    "\n",
    "\n",
    "    # flatten(x_tensor)\n",
    "    graph = flatten(graph)\n",
    "\n",
    "    # fully_conn(x_tensor, num_outputs)\n",
    "    graph = fully_conn(graph, 120)\n",
    "    graph = tf.nn.dropout(graph, keep_prob)\n",
    "    graph = fully_conn(graph, 84)\n",
    "\n",
    "    # output(x_tensor, num_outputs)\n",
    "    logits = output(graph, 10)\n",
    "    \n",
    "    return logits\n",
    "\n",
    "\n",
    "\"\"\"\n",
    "DON'T MODIFY ANYTHING IN THIS CELL THAT IS BELOW THIS LINE\n",
    "\"\"\"\n",
    "\n",
    "##############################\n",
    "## Build the Neural Network ##\n",
    "##############################\n",
    "\n",
    "# Remove previous weights, bias, inputs, etc..\n",
    "tf.reset_default_graph()\n",
    "\n",
    "# Inputs\n",
    "x = neural_net_image_input((32, 32, 3))\n",
    "y = neural_net_label_input(10)\n",
    "keep_prob = neural_net_keep_prob_input()\n",
    "\n",
    "# Model\n",
    "logits = conv_net(x, keep_prob)\n",
    "\n",
    "# Name logits Tensor, so that is can be loaded from disk after training\n",
    "logits = tf.identity(logits, name='logits')\n",
    "\n",
    "# Loss and Optimizer\n",
    "cost = tf.reduce_mean(tf.nn.softmax_cross_entropy_with_logits(logits=logits, labels=y))\n",
    "optimizer = tf.train.AdamOptimizer().minimize(cost)\n",
    "\n",
    "# Accuracy\n",
    "correct_pred = tf.equal(tf.argmax(logits, 1), tf.argmax(y, 1))\n",
    "accuracy = tf.reduce_mean(tf.cast(correct_pred, tf.float32), name='accuracy')\n",
    "\n",
    "tests.test_conv_net(conv_net)"
   ]
  },
  {
   "cell_type": "markdown",
   "metadata": {
    "deletable": true,
    "editable": true
   },
   "source": [
    "## Train the Neural Network\n",
    "### Single Optimization\n",
    "Implement the function `train_neural_network` to do a single optimization.  The optimization should use `optimizer` to optimize in `session` with a `feed_dict` of the following:\n",
    "* `x` for image input\n",
    "* `y` for labels\n",
    "* `keep_prob` for keep probability for dropout\n",
    "\n",
    "This function will be called for each batch, so `tf.global_variables_initializer()` has already been called.\n",
    "\n",
    "Note: Nothing needs to be returned. This function is only optimizing the neural network."
   ]
  },
  {
   "cell_type": "code",
   "execution_count": 13,
   "metadata": {
    "collapsed": false,
    "deletable": true,
    "editable": true
   },
   "outputs": [
    {
     "name": "stdout",
     "output_type": "stream",
     "text": [
      "Tests Passed\n"
     ]
    }
   ],
   "source": [
    "def train_neural_network(session, optimizer, keep_probability, feature_batch, label_batch):\n",
    "    \"\"\"\n",
    "    Optimize the session on a batch of images and labels\n",
    "    : session: Current TensorFlow session\n",
    "    : optimizer: TensorFlow optimizer function\n",
    "    : keep_probability: keep probability\n",
    "    : feature_batch: Batch of Numpy image data\n",
    "    : label_batch: Batch of Numpy label data\n",
    "    \"\"\"\n",
    "    feed_dict = {'x:0': feature_batch,\n",
    "                 'y:0': label_batch,\n",
    "                 'keep_prob:0': keep_probability}\n",
    "    \n",
    "    # I'm using the optimizer that is defined above:\n",
    "    #    -> tf.reduce_mean(tf.nn.softmax_cross_entropy_with_logits(logits=logits, labels=y))\n",
    "    #    -> optimizer = tf.train.AdamOptimizer().minimize(cost)\n",
    "    session.run(optimizer, feed_dict=feed_dict)\n",
    "\n",
    "    \n",
    "\"\"\"\n",
    "DON'T MODIFY ANYTHING IN THIS CELL THAT IS BELOW THIS LINE\n",
    "\"\"\"\n",
    "tests.test_train_nn(train_neural_network)"
   ]
  },
  {
   "cell_type": "markdown",
   "metadata": {
    "deletable": true,
    "editable": true
   },
   "source": [
    "### Show Stats\n",
    "Implement the function `print_stats` to print loss and validation accuracy.  Use the global variables `valid_features` and `valid_labels` to calculate validation accuracy.  Use a keep probability of `1.0` to calculate the loss and validation accuracy."
   ]
  },
  {
   "cell_type": "code",
   "execution_count": 14,
   "metadata": {
    "collapsed": false,
    "deletable": true,
    "editable": true
   },
   "outputs": [],
   "source": [
    "def print_stats(session, feature_batch, label_batch, cost, accuracy):\n",
    "    \"\"\"\n",
    "    Print information about loss and validation accuracy\n",
    "    : session: Current TensorFlow session\n",
    "    : feature_batch: Batch of Numpy image data\n",
    "    : label_batch: Batch of Numpy label data\n",
    "    : cost: TensorFlow cost function\n",
    "    : accuracy: TensorFlow accuracy function\n",
    "    \"\"\"\n",
    "    feed_dict = {'x:0': valid_features,\n",
    "                 'y:0': valid_labels,\n",
    "                 'keep_prob:0': 1.0}\n",
    "    vcost, vacc = session.run([cost, accuracy], feed_dict=feed_dict)\n",
    "    \n",
    "    feed_dict['x:0'] = feature_batch\n",
    "    feed_dict['y:0'] = label_batch\n",
    "    tcost, tacc = session.run([cost, accuracy], feed_dict=feed_dict)\n",
    "    \n",
    "    print(\"Val Cost:\", vcost, \"\\tVal Acc:\", vacc, \"\\tTest Cost:\", tcost, \"\\tTest Acc:\", tacc)"
   ]
  },
  {
   "cell_type": "markdown",
   "metadata": {
    "deletable": true,
    "editable": true
   },
   "source": [
    "### Hyperparameters\n",
    "Tune the following parameters:\n",
    "* Set `epochs` to the number of iterations until the network stops learning or start overfitting\n",
    "* Set `batch_size` to the highest number that your machine has memory for.  Most people set them to common sizes of memory:\n",
    " * 64\n",
    " * 128\n",
    " * 256\n",
    " * ...\n",
    "* Set `keep_probability` to the probability of keeping a node using dropout"
   ]
  },
  {
   "cell_type": "code",
   "execution_count": 15,
   "metadata": {
    "collapsed": true,
    "deletable": true,
    "editable": true
   },
   "outputs": [],
   "source": [
    "epochs = 68\n",
    "batch_size = 25\n",
    "keep_probability = 0.57"
   ]
  },
  {
   "cell_type": "markdown",
   "metadata": {
    "deletable": true,
    "editable": true
   },
   "source": [
    "### Train on a Single CIFAR-10 Batch\n",
    "Instead of training the neural network on all the CIFAR-10 batches of data, let's use a single batch. This should save time while you iterate on the model to get a better accuracy.  Once the final validation accuracy is 50% or greater, run the model on all the data in the next section."
   ]
  },
  {
   "cell_type": "code",
   "execution_count": 16,
   "metadata": {
    "collapsed": false,
    "deletable": true,
    "editable": true,
    "scrolled": false
   },
   "outputs": [
    {
     "name": "stdout",
     "output_type": "stream",
     "text": [
      "Checking the Training on a Single Batch...\n",
      "Epoch  1, CIFAR-10 Batch 1:  Val Cost: 2.02543 \tVal Acc: 0.2342 \tTest Cost: 2.04673 \tTest Acc: 0.28\n",
      "Epoch  2, CIFAR-10 Batch 1:  Val Cost: 1.85429 \tVal Acc: 0.3034 \tTest Cost: 1.84558 \tTest Acc: 0.44\n",
      "Epoch  3, CIFAR-10 Batch 1:  Val Cost: 1.79456 \tVal Acc: 0.335 \tTest Cost: 1.73471 \tTest Acc: 0.4\n",
      "Epoch  4, CIFAR-10 Batch 1:  Val Cost: 1.75752 \tVal Acc: 0.3466 \tTest Cost: 1.66979 \tTest Acc: 0.4\n",
      "Epoch  5, CIFAR-10 Batch 1:  Val Cost: 1.65997 \tVal Acc: 0.3894 \tTest Cost: 1.67599 \tTest Acc: 0.44\n",
      "Epoch  6, CIFAR-10 Batch 1:  Val Cost: 1.59684 \tVal Acc: 0.415 \tTest Cost: 1.52024 \tTest Acc: 0.52\n",
      "Epoch  7, CIFAR-10 Batch 1:  Val Cost: 1.68601 \tVal Acc: 0.387 \tTest Cost: 1.64597 \tTest Acc: 0.48\n",
      "Epoch  8, CIFAR-10 Batch 1:  Val Cost: 1.57354 \tVal Acc: 0.4212 \tTest Cost: 1.42292 \tTest Acc: 0.48\n",
      "Epoch  9, CIFAR-10 Batch 1:  Val Cost: 1.55538 \tVal Acc: 0.436 \tTest Cost: 1.41932 \tTest Acc: 0.56\n",
      "Epoch 10, CIFAR-10 Batch 1:  Val Cost: 1.56034 \tVal Acc: 0.4286 \tTest Cost: 1.37375 \tTest Acc: 0.56\n",
      "Epoch 11, CIFAR-10 Batch 1:  Val Cost: 1.55276 \tVal Acc: 0.4314 \tTest Cost: 1.34201 \tTest Acc: 0.56\n",
      "Epoch 12, CIFAR-10 Batch 1:  Val Cost: 1.50378 \tVal Acc: 0.45 \tTest Cost: 1.22286 \tTest Acc: 0.6\n",
      "Epoch 13, CIFAR-10 Batch 1:  Val Cost: 1.54329 \tVal Acc: 0.4384 \tTest Cost: 1.26887 \tTest Acc: 0.6\n",
      "Epoch 14, CIFAR-10 Batch 1:  Val Cost: 1.50046 \tVal Acc: 0.4542 \tTest Cost: 1.25101 \tTest Acc: 0.56\n",
      "Epoch 15, CIFAR-10 Batch 1:  Val Cost: 1.53183 \tVal Acc: 0.4526 \tTest Cost: 1.25988 \tTest Acc: 0.64\n",
      "Epoch 16, CIFAR-10 Batch 1:  Val Cost: 1.54682 \tVal Acc: 0.4452 \tTest Cost: 1.23124 \tTest Acc: 0.6\n",
      "Epoch 17, CIFAR-10 Batch 1:  Val Cost: 1.5435 \tVal Acc: 0.45 \tTest Cost: 1.23796 \tTest Acc: 0.56\n",
      "Epoch 18, CIFAR-10 Batch 1:  Val Cost: 1.56404 \tVal Acc: 0.451 \tTest Cost: 1.13091 \tTest Acc: 0.56\n",
      "Epoch 19, CIFAR-10 Batch 1:  Val Cost: 1.48736 \tVal Acc: 0.4756 \tTest Cost: 1.14686 \tTest Acc: 0.64\n",
      "Epoch 20, CIFAR-10 Batch 1:  Val Cost: 1.43356 \tVal Acc: 0.4808 \tTest Cost: 1.03367 \tTest Acc: 0.68\n",
      "Epoch 21, CIFAR-10 Batch 1:  Val Cost: 1.43388 \tVal Acc: 0.4814 \tTest Cost: 1.01786 \tTest Acc: 0.64\n",
      "Epoch 22, CIFAR-10 Batch 1:  Val Cost: 1.48104 \tVal Acc: 0.4752 \tTest Cost: 1.08388 \tTest Acc: 0.56\n",
      "Epoch 23, CIFAR-10 Batch 1:  Val Cost: 1.39832 \tVal Acc: 0.5004 \tTest Cost: 0.917441 \tTest Acc: 0.68\n",
      "Epoch 24, CIFAR-10 Batch 1:  Val Cost: 1.40855 \tVal Acc: 0.4992 \tTest Cost: 0.896587 \tTest Acc: 0.64\n",
      "Epoch 25, CIFAR-10 Batch 1:  Val Cost: 1.4174 \tVal Acc: 0.496 \tTest Cost: 0.938423 \tTest Acc: 0.64\n",
      "Epoch 26, CIFAR-10 Batch 1:  Val Cost: 1.48982 \tVal Acc: 0.4826 \tTest Cost: 1.02237 \tTest Acc: 0.64\n",
      "Epoch 27, CIFAR-10 Batch 1:  Val Cost: 1.42359 \tVal Acc: 0.4952 \tTest Cost: 0.929373 \tTest Acc: 0.68\n",
      "Epoch 28, CIFAR-10 Batch 1:  Val Cost: 1.49966 \tVal Acc: 0.4782 \tTest Cost: 0.883721 \tTest Acc: 0.68\n",
      "Epoch 29, CIFAR-10 Batch 1:  Val Cost: 1.53269 \tVal Acc: 0.4708 \tTest Cost: 1.129 \tTest Acc: 0.6\n",
      "Epoch 30, CIFAR-10 Batch 1:  Val Cost: 1.36081 \tVal Acc: 0.5144 \tTest Cost: 0.786924 \tTest Acc: 0.76\n",
      "Epoch 31, CIFAR-10 Batch 1:  Val Cost: 1.37381 \tVal Acc: 0.5146 \tTest Cost: 0.918025 \tTest Acc: 0.68\n",
      "Epoch 32, CIFAR-10 Batch 1:  Val Cost: 1.39135 \tVal Acc: 0.4974 \tTest Cost: 0.856917 \tTest Acc: 0.64\n",
      "Epoch 33, CIFAR-10 Batch 1:  Val Cost: 1.47264 \tVal Acc: 0.493 \tTest Cost: 1.02049 \tTest Acc: 0.68\n",
      "Epoch 34, CIFAR-10 Batch 1:  Val Cost: 1.3709 \tVal Acc: 0.5208 \tTest Cost: 0.796876 \tTest Acc: 0.76\n",
      "Epoch 35, CIFAR-10 Batch 1:  Val Cost: 1.37699 \tVal Acc: 0.5126 \tTest Cost: 0.901714 \tTest Acc: 0.72\n",
      "Epoch 36, CIFAR-10 Batch 1:  Val Cost: 1.32105 \tVal Acc: 0.5266 \tTest Cost: 0.712503 \tTest Acc: 0.8\n",
      "Epoch 37, CIFAR-10 Batch 1:  Val Cost: 1.30035 \tVal Acc: 0.5366 \tTest Cost: 0.679402 \tTest Acc: 0.84\n",
      "Epoch 38, CIFAR-10 Batch 1:  Val Cost: 1.36716 \tVal Acc: 0.5172 \tTest Cost: 0.709488 \tTest Acc: 0.76\n",
      "Epoch 39, CIFAR-10 Batch 1:  Val Cost: 1.36527 \tVal Acc: 0.5222 \tTest Cost: 0.737562 \tTest Acc: 0.72\n",
      "Epoch 40, CIFAR-10 Batch 1:  Val Cost: 1.35064 \tVal Acc: 0.5252 \tTest Cost: 0.749129 \tTest Acc: 0.72\n",
      "Epoch 41, CIFAR-10 Batch 1:  Val Cost: 1.32933 \tVal Acc: 0.5258 \tTest Cost: 0.757218 \tTest Acc: 0.76\n",
      "Epoch 42, CIFAR-10 Batch 1:  Val Cost: 1.33894 \tVal Acc: 0.525 \tTest Cost: 0.715001 \tTest Acc: 0.76\n",
      "Epoch 43, CIFAR-10 Batch 1:  Val Cost: 1.3321 \tVal Acc: 0.5212 \tTest Cost: 0.790565 \tTest Acc: 0.76\n",
      "Epoch 44, CIFAR-10 Batch 1:  Val Cost: 1.34879 \tVal Acc: 0.5324 \tTest Cost: 0.768739 \tTest Acc: 0.68\n",
      "Epoch 45, CIFAR-10 Batch 1:  Val Cost: 1.33653 \tVal Acc: 0.5354 \tTest Cost: 0.698771 \tTest Acc: 0.72\n",
      "Epoch 46, CIFAR-10 Batch 1:  Val Cost: 1.32355 \tVal Acc: 0.533 \tTest Cost: 0.78736 \tTest Acc: 0.68\n",
      "Epoch 47, CIFAR-10 Batch 1:  Val Cost: 1.35049 \tVal Acc: 0.5234 \tTest Cost: 0.806155 \tTest Acc: 0.72\n",
      "Epoch 48, CIFAR-10 Batch 1:  Val Cost: 1.36785 \tVal Acc: 0.5288 \tTest Cost: 0.75749 \tTest Acc: 0.76\n",
      "Epoch 49, CIFAR-10 Batch 1:  Val Cost: 1.35661 \tVal Acc: 0.5256 \tTest Cost: 0.743063 \tTest Acc: 0.72\n",
      "Epoch 50, CIFAR-10 Batch 1:  Val Cost: 1.39331 \tVal Acc: 0.5222 \tTest Cost: 0.817021 \tTest Acc: 0.72\n",
      "Epoch 51, CIFAR-10 Batch 1:  Val Cost: 1.35747 \tVal Acc: 0.5326 \tTest Cost: 0.724816 \tTest Acc: 0.72\n",
      "Epoch 52, CIFAR-10 Batch 1:  Val Cost: 1.33317 \tVal Acc: 0.5376 \tTest Cost: 0.717531 \tTest Acc: 0.76\n",
      "Epoch 53, CIFAR-10 Batch 1:  Val Cost: 1.35291 \tVal Acc: 0.5354 \tTest Cost: 0.551992 \tTest Acc: 0.84\n",
      "Epoch 54, CIFAR-10 Batch 1:  Val Cost: 1.43196 \tVal Acc: 0.5186 \tTest Cost: 0.715746 \tTest Acc: 0.72\n",
      "Epoch 55, CIFAR-10 Batch 1:  Val Cost: 1.3855 \tVal Acc: 0.5292 \tTest Cost: 0.683423 \tTest Acc: 0.72\n",
      "Epoch 56, CIFAR-10 Batch 1:  Val Cost: 1.34329 \tVal Acc: 0.5452 \tTest Cost: 0.617748 \tTest Acc: 0.72\n",
      "Epoch 57, CIFAR-10 Batch 1:  Val Cost: 1.4187 \tVal Acc: 0.5192 \tTest Cost: 0.731294 \tTest Acc: 0.72\n",
      "Epoch 58, CIFAR-10 Batch 1:  Val Cost: 1.36861 \tVal Acc: 0.529 \tTest Cost: 0.69878 \tTest Acc: 0.76\n",
      "Epoch 59, CIFAR-10 Batch 1:  Val Cost: 1.40054 \tVal Acc: 0.5194 \tTest Cost: 0.688411 \tTest Acc: 0.8\n",
      "Epoch 60, CIFAR-10 Batch 1:  Val Cost: 1.39801 \tVal Acc: 0.5244 \tTest Cost: 0.716632 \tTest Acc: 0.8\n",
      "Epoch 61, CIFAR-10 Batch 1:  Val Cost: 1.37448 \tVal Acc: 0.541 \tTest Cost: 0.618913 \tTest Acc: 0.8\n",
      "Epoch 62, CIFAR-10 Batch 1:  Val Cost: 1.37326 \tVal Acc: 0.5366 \tTest Cost: 0.652576 \tTest Acc: 0.76\n",
      "Epoch 63, CIFAR-10 Batch 1:  Val Cost: 1.37785 \tVal Acc: 0.5266 \tTest Cost: 0.611276 \tTest Acc: 0.76\n",
      "Epoch 64, CIFAR-10 Batch 1:  Val Cost: 1.38773 \tVal Acc: 0.5446 \tTest Cost: 0.653974 \tTest Acc: 0.72\n",
      "Epoch 65, CIFAR-10 Batch 1:  Val Cost: 1.48746 \tVal Acc: 0.518 \tTest Cost: 0.794801 \tTest Acc: 0.72\n",
      "Epoch 66, CIFAR-10 Batch 1:  Val Cost: 1.36257 \tVal Acc: 0.5476 \tTest Cost: 0.596184 \tTest Acc: 0.76\n",
      "Epoch 67, CIFAR-10 Batch 1:  Val Cost: 1.406 \tVal Acc: 0.523 \tTest Cost: 0.685937 \tTest Acc: 0.8\n",
      "Epoch 68, CIFAR-10 Batch 1:  Val Cost: 1.39782 \tVal Acc: 0.5444 \tTest Cost: 0.686064 \tTest Acc: 0.76\n"
     ]
    }
   ],
   "source": [
    "\"\"\"\n",
    "DON'T MODIFY ANYTHING IN THIS CELL\n",
    "\"\"\"\n",
    "print('Checking the Training on a Single Batch...')\n",
    "with tf.Session() as sess:\n",
    "    # Initializing the variables\n",
    "    sess.run(tf.global_variables_initializer())\n",
    "    \n",
    "    # Training cycle\n",
    "    for epoch in range(epochs):\n",
    "        batch_i = 1\n",
    "        for batch_features, batch_labels in helper.load_preprocess_training_batch(batch_i, batch_size):\n",
    "            train_neural_network(sess, optimizer, keep_probability, batch_features, batch_labels)\n",
    "        print('Epoch {:>2}, CIFAR-10 Batch {}:  '.format(epoch + 1, batch_i), end='')\n",
    "        print_stats(sess, batch_features, batch_labels, cost, accuracy)"
   ]
  },
  {
   "cell_type": "markdown",
   "metadata": {
    "deletable": true,
    "editable": true
   },
   "source": [
    "### Fully Train the Model\n",
    "Now that you got a good accuracy with a single CIFAR-10 batch, try it with all five batches."
   ]
  },
  {
   "cell_type": "code",
   "execution_count": 17,
   "metadata": {
    "collapsed": false,
    "deletable": true,
    "editable": true
   },
   "outputs": [
    {
     "name": "stdout",
     "output_type": "stream",
     "text": [
      "Training...\n",
      "Epoch  1, CIFAR-10 Batch 1:  Val Cost: 2.0813 \tVal Acc: 0.228 \tTest Cost: 2.02165 \tTest Acc: 0.36\n",
      "Epoch  1, CIFAR-10 Batch 2:  Val Cost: 2.18137 \tVal Acc: 0.2204 \tTest Cost: 2.23676 \tTest Acc: 0.16\n",
      "Epoch  1, CIFAR-10 Batch 3:  Val Cost: 1.68602 \tVal Acc: 0.3624 \tTest Cost: 1.52545 \tTest Acc: 0.36\n",
      "Epoch  1, CIFAR-10 Batch 4:  Val Cost: 1.65891 \tVal Acc: 0.3818 \tTest Cost: 1.85157 \tTest Acc: 0.32\n",
      "Epoch  1, CIFAR-10 Batch 5:  Val Cost: 1.71163 \tVal Acc: 0.3876 \tTest Cost: 1.96604 \tTest Acc: 0.32\n",
      "Epoch  2, CIFAR-10 Batch 1:  Val Cost: 1.5762 \tVal Acc: 0.407 \tTest Cost: 1.34659 \tTest Acc: 0.56\n",
      "Epoch  2, CIFAR-10 Batch 2:  Val Cost: 1.55439 \tVal Acc: 0.426 \tTest Cost: 1.73868 \tTest Acc: 0.44\n",
      "Epoch  2, CIFAR-10 Batch 3:  Val Cost: 1.49145 \tVal Acc: 0.4402 \tTest Cost: 1.39364 \tTest Acc: 0.52\n",
      "Epoch  2, CIFAR-10 Batch 4:  Val Cost: 1.45358 \tVal Acc: 0.47 \tTest Cost: 1.68575 \tTest Acc: 0.36\n",
      "Epoch  2, CIFAR-10 Batch 5:  Val Cost: 1.51192 \tVal Acc: 0.4568 \tTest Cost: 1.70161 \tTest Acc: 0.44\n",
      "Epoch  3, CIFAR-10 Batch 1:  Val Cost: 1.50271 \tVal Acc: 0.4518 \tTest Cost: 1.20991 \tTest Acc: 0.64\n",
      "Epoch  3, CIFAR-10 Batch 2:  Val Cost: 1.51171 \tVal Acc: 0.4548 \tTest Cost: 1.5693 \tTest Acc: 0.48\n",
      "Epoch  3, CIFAR-10 Batch 3:  Val Cost: 1.48793 \tVal Acc: 0.4528 \tTest Cost: 1.25131 \tTest Acc: 0.52\n",
      "Epoch  3, CIFAR-10 Batch 4:  Val Cost: 1.37297 \tVal Acc: 0.5028 \tTest Cost: 1.47024 \tTest Acc: 0.4\n",
      "Epoch  3, CIFAR-10 Batch 5:  Val Cost: 1.49103 \tVal Acc: 0.463 \tTest Cost: 1.69842 \tTest Acc: 0.32\n",
      "Epoch  4, CIFAR-10 Batch 1:  Val Cost: 1.40207 \tVal Acc: 0.4842 \tTest Cost: 1.09252 \tTest Acc: 0.72\n",
      "Epoch  4, CIFAR-10 Batch 2:  Val Cost: 1.3527 \tVal Acc: 0.505 \tTest Cost: 1.58069 \tTest Acc: 0.44\n",
      "Epoch  4, CIFAR-10 Batch 3:  Val Cost: 1.35435 \tVal Acc: 0.5062 \tTest Cost: 1.13295 \tTest Acc: 0.6\n",
      "Epoch  4, CIFAR-10 Batch 4:  Val Cost: 1.3427 \tVal Acc: 0.5136 \tTest Cost: 1.46043 \tTest Acc: 0.52\n",
      "Epoch  4, CIFAR-10 Batch 5:  Val Cost: 1.39816 \tVal Acc: 0.4872 \tTest Cost: 1.56919 \tTest Acc: 0.4\n",
      "Epoch  5, CIFAR-10 Batch 1:  Val Cost: 1.338 \tVal Acc: 0.512 \tTest Cost: 1.15992 \tTest Acc: 0.72\n",
      "Epoch  5, CIFAR-10 Batch 2:  Val Cost: 1.28876 \tVal Acc: 0.5372 \tTest Cost: 1.38186 \tTest Acc: 0.44\n",
      "Epoch  5, CIFAR-10 Batch 3:  Val Cost: 1.34794 \tVal Acc: 0.5184 \tTest Cost: 1.08114 \tTest Acc: 0.56\n",
      "Epoch  5, CIFAR-10 Batch 4:  Val Cost: 1.28181 \tVal Acc: 0.5444 \tTest Cost: 1.44289 \tTest Acc: 0.52\n",
      "Epoch  5, CIFAR-10 Batch 5:  Val Cost: 1.30711 \tVal Acc: 0.532 \tTest Cost: 1.42988 \tTest Acc: 0.48\n",
      "Epoch  6, CIFAR-10 Batch 1:  Val Cost: 1.30128 \tVal Acc: 0.5364 \tTest Cost: 1.12547 \tTest Acc: 0.68\n",
      "Epoch  6, CIFAR-10 Batch 2:  Val Cost: 1.28116 \tVal Acc: 0.5416 \tTest Cost: 1.52468 \tTest Acc: 0.48\n",
      "Epoch  6, CIFAR-10 Batch 3:  Val Cost: 1.29376 \tVal Acc: 0.5266 \tTest Cost: 1.10008 \tTest Acc: 0.56\n",
      "Epoch  6, CIFAR-10 Batch 4:  Val Cost: 1.26759 \tVal Acc: 0.5474 \tTest Cost: 1.37161 \tTest Acc: 0.48\n",
      "Epoch  6, CIFAR-10 Batch 5:  Val Cost: 1.42902 \tVal Acc: 0.4992 \tTest Cost: 1.71488 \tTest Acc: 0.4\n",
      "Epoch  7, CIFAR-10 Batch 1:  Val Cost: 1.28705 \tVal Acc: 0.5396 \tTest Cost: 1.13237 \tTest Acc: 0.72\n",
      "Epoch  7, CIFAR-10 Batch 2:  Val Cost: 1.23866 \tVal Acc: 0.557 \tTest Cost: 1.36115 \tTest Acc: 0.56\n",
      "Epoch  7, CIFAR-10 Batch 3:  Val Cost: 1.29882 \tVal Acc: 0.525 \tTest Cost: 1.11694 \tTest Acc: 0.56\n",
      "Epoch  7, CIFAR-10 Batch 4:  Val Cost: 1.25787 \tVal Acc: 0.553 \tTest Cost: 1.43967 \tTest Acc: 0.44\n",
      "Epoch  7, CIFAR-10 Batch 5:  Val Cost: 1.35204 \tVal Acc: 0.5278 \tTest Cost: 1.68639 \tTest Acc: 0.44\n",
      "Epoch  8, CIFAR-10 Batch 1:  Val Cost: 1.25527 \tVal Acc: 0.546 \tTest Cost: 1.18152 \tTest Acc: 0.68\n",
      "Epoch  8, CIFAR-10 Batch 2:  Val Cost: 1.24948 \tVal Acc: 0.548 \tTest Cost: 1.30656 \tTest Acc: 0.52\n",
      "Epoch  8, CIFAR-10 Batch 3:  Val Cost: 1.24626 \tVal Acc: 0.544 \tTest Cost: 0.992497 \tTest Acc: 0.68\n",
      "Epoch  8, CIFAR-10 Batch 4:  Val Cost: 1.23562 \tVal Acc: 0.5604 \tTest Cost: 1.34465 \tTest Acc: 0.52\n",
      "Epoch  8, CIFAR-10 Batch 5:  Val Cost: 1.32114 \tVal Acc: 0.5376 \tTest Cost: 1.66554 \tTest Acc: 0.44\n",
      "Epoch  9, CIFAR-10 Batch 1:  Val Cost: 1.2965 \tVal Acc: 0.5296 \tTest Cost: 1.15252 \tTest Acc: 0.68\n",
      "Epoch  9, CIFAR-10 Batch 2:  Val Cost: 1.27559 \tVal Acc: 0.5448 \tTest Cost: 1.38119 \tTest Acc: 0.48\n",
      "Epoch  9, CIFAR-10 Batch 3:  Val Cost: 1.27882 \tVal Acc: 0.5416 \tTest Cost: 1.12344 \tTest Acc: 0.64\n",
      "Epoch  9, CIFAR-10 Batch 4:  Val Cost: 1.21433 \tVal Acc: 0.566 \tTest Cost: 1.24753 \tTest Acc: 0.56\n",
      "Epoch  9, CIFAR-10 Batch 5:  Val Cost: 1.308 \tVal Acc: 0.5354 \tTest Cost: 1.61424 \tTest Acc: 0.4\n",
      "Epoch 10, CIFAR-10 Batch 1:  Val Cost: 1.2672 \tVal Acc: 0.5504 \tTest Cost: 1.12511 \tTest Acc: 0.68\n",
      "Epoch 10, CIFAR-10 Batch 2:  Val Cost: 1.25213 \tVal Acc: 0.5614 \tTest Cost: 1.31853 \tTest Acc: 0.48\n",
      "Epoch 10, CIFAR-10 Batch 3:  Val Cost: 1.21106 \tVal Acc: 0.5626 \tTest Cost: 1.05361 \tTest Acc: 0.68\n",
      "Epoch 10, CIFAR-10 Batch 4:  Val Cost: 1.16794 \tVal Acc: 0.5876 \tTest Cost: 1.28956 \tTest Acc: 0.64\n",
      "Epoch 10, CIFAR-10 Batch 5:  Val Cost: 1.38375 \tVal Acc: 0.525 \tTest Cost: 1.65233 \tTest Acc: 0.48\n",
      "Epoch 11, CIFAR-10 Batch 1:  Val Cost: 1.29302 \tVal Acc: 0.533 \tTest Cost: 1.07722 \tTest Acc: 0.68\n",
      "Epoch 11, CIFAR-10 Batch 2:  Val Cost: 1.20386 \tVal Acc: 0.568 \tTest Cost: 1.28497 \tTest Acc: 0.48\n",
      "Epoch 11, CIFAR-10 Batch 3:  Val Cost: 1.18132 \tVal Acc: 0.5766 \tTest Cost: 0.973833 \tTest Acc: 0.68\n",
      "Epoch 11, CIFAR-10 Batch 4:  Val Cost: 1.23675 \tVal Acc: 0.5652 \tTest Cost: 1.33652 \tTest Acc: 0.52\n",
      "Epoch 11, CIFAR-10 Batch 5:  Val Cost: 1.26409 \tVal Acc: 0.5578 \tTest Cost: 1.4529 \tTest Acc: 0.48\n",
      "Epoch 12, CIFAR-10 Batch 1:  Val Cost: 1.19104 \tVal Acc: 0.5712 \tTest Cost: 1.00278 \tTest Acc: 0.72\n",
      "Epoch 12, CIFAR-10 Batch 2:  Val Cost: 1.26922 \tVal Acc: 0.5484 \tTest Cost: 1.35009 \tTest Acc: 0.64\n",
      "Epoch 12, CIFAR-10 Batch 3:  Val Cost: 1.27386 \tVal Acc: 0.5488 \tTest Cost: 1.12436 \tTest Acc: 0.56\n",
      "Epoch 12, CIFAR-10 Batch 4:  Val Cost: 1.19448 \tVal Acc: 0.577 \tTest Cost: 1.20021 \tTest Acc: 0.56\n",
      "Epoch 12, CIFAR-10 Batch 5:  Val Cost: 1.50036 \tVal Acc: 0.5032 \tTest Cost: 1.98058 \tTest Acc: 0.32\n",
      "Epoch 13, CIFAR-10 Batch 1:  Val Cost: 1.17569 \tVal Acc: 0.586 \tTest Cost: 0.97166 \tTest Acc: 0.72\n",
      "Epoch 13, CIFAR-10 Batch 2:  Val Cost: 1.21401 \tVal Acc: 0.576 \tTest Cost: 1.29077 \tTest Acc: 0.52\n",
      "Epoch 13, CIFAR-10 Batch 3:  Val Cost: 1.19592 \tVal Acc: 0.5796 \tTest Cost: 0.947654 \tTest Acc: 0.6\n",
      "Epoch 13, CIFAR-10 Batch 4:  Val Cost: 1.21795 \tVal Acc: 0.566 \tTest Cost: 1.26378 \tTest Acc: 0.56\n",
      "Epoch 13, CIFAR-10 Batch 5:  Val Cost: 1.33648 \tVal Acc: 0.546 \tTest Cost: 1.40621 \tTest Acc: 0.44\n",
      "Epoch 14, CIFAR-10 Batch 1:  Val Cost: 1.18241 \tVal Acc: 0.5842 \tTest Cost: 0.942237 \tTest Acc: 0.76\n",
      "Epoch 14, CIFAR-10 Batch 2:  Val Cost: 1.31976 \tVal Acc: 0.5344 \tTest Cost: 1.29928 \tTest Acc: 0.56\n",
      "Epoch 14, CIFAR-10 Batch 3:  Val Cost: 1.23251 \tVal Acc: 0.5686 \tTest Cost: 0.932996 \tTest Acc: 0.6\n",
      "Epoch 14, CIFAR-10 Batch 4:  Val Cost: 1.1924 \tVal Acc: 0.5722 \tTest Cost: 1.09442 \tTest Acc: 0.64\n",
      "Epoch 14, CIFAR-10 Batch 5:  Val Cost: 1.26036 \tVal Acc: 0.5684 \tTest Cost: 1.38149 \tTest Acc: 0.52\n",
      "Epoch 15, CIFAR-10 Batch 1:  Val Cost: 1.25655 \tVal Acc: 0.5624 \tTest Cost: 1.10824 \tTest Acc: 0.64\n",
      "Epoch 15, CIFAR-10 Batch 2:  Val Cost: 1.22078 \tVal Acc: 0.5652 \tTest Cost: 1.2371 \tTest Acc: 0.52\n",
      "Epoch 15, CIFAR-10 Batch 3:  Val Cost: 1.26171 \tVal Acc: 0.5516 \tTest Cost: 0.972866 \tTest Acc: 0.6\n",
      "Epoch 15, CIFAR-10 Batch 4:  Val Cost: 1.14933 \tVal Acc: 0.6004 \tTest Cost: 1.17513 \tTest Acc: 0.6\n",
      "Epoch 15, CIFAR-10 Batch 5:  Val Cost: 1.41067 \tVal Acc: 0.5256 \tTest Cost: 1.63285 \tTest Acc: 0.32\n",
      "Epoch 16, CIFAR-10 Batch 1:  Val Cost: 1.14012 \tVal Acc: 0.5938 \tTest Cost: 0.95341 \tTest Acc: 0.68\n",
      "Epoch 16, CIFAR-10 Batch 2:  Val Cost: 1.2091 \tVal Acc: 0.5766 \tTest Cost: 1.24815 \tTest Acc: 0.52\n",
      "Epoch 16, CIFAR-10 Batch 3:  Val Cost: 1.20041 \tVal Acc: 0.5758 \tTest Cost: 0.875969 \tTest Acc: 0.8\n",
      "Epoch 16, CIFAR-10 Batch 4:  Val Cost: 1.16419 \tVal Acc: 0.5926 \tTest Cost: 1.17458 \tTest Acc: 0.56\n",
      "Epoch 16, CIFAR-10 Batch 5:  Val Cost: 1.25494 \tVal Acc: 0.5668 \tTest Cost: 1.29506 \tTest Acc: 0.48\n",
      "Epoch 17, CIFAR-10 Batch 1:  Val Cost: 1.21207 \tVal Acc: 0.5762 \tTest Cost: 0.963952 \tTest Acc: 0.68\n",
      "Epoch 17, CIFAR-10 Batch 2:  Val Cost: 1.20719 \tVal Acc: 0.5764 \tTest Cost: 1.16877 \tTest Acc: 0.52\n",
      "Epoch 17, CIFAR-10 Batch 3:  Val Cost: 1.21916 \tVal Acc: 0.5766 \tTest Cost: 0.860851 \tTest Acc: 0.76\n",
      "Epoch 17, CIFAR-10 Batch 4:  Val Cost: 1.15811 \tVal Acc: 0.5942 \tTest Cost: 1.20081 \tTest Acc: 0.6\n",
      "Epoch 17, CIFAR-10 Batch 5:  Val Cost: 1.22649 \tVal Acc: 0.5678 \tTest Cost: 1.21856 \tTest Acc: 0.48\n",
      "Epoch 18, CIFAR-10 Batch 1:  Val Cost: 1.18981 \tVal Acc: 0.5792 \tTest Cost: 0.936608 \tTest Acc: 0.68\n",
      "Epoch 18, CIFAR-10 Batch 2:  Val Cost: 1.21449 \tVal Acc: 0.5738 \tTest Cost: 1.345 \tTest Acc: 0.48\n",
      "Epoch 18, CIFAR-10 Batch 3:  Val Cost: 1.26859 \tVal Acc: 0.5624 \tTest Cost: 0.952394 \tTest Acc: 0.68\n",
      "Epoch 18, CIFAR-10 Batch 4:  Val Cost: 1.17217 \tVal Acc: 0.5936 \tTest Cost: 1.09163 \tTest Acc: 0.68\n",
      "Epoch 18, CIFAR-10 Batch 5:  Val Cost: 1.21166 \tVal Acc: 0.581 \tTest Cost: 1.1439 \tTest Acc: 0.6\n",
      "Epoch 19, CIFAR-10 Batch 1:  Val Cost: 1.1991 \tVal Acc: 0.5778 \tTest Cost: 0.940859 \tTest Acc: 0.76\n",
      "Epoch 19, CIFAR-10 Batch 2:  Val Cost: 1.20864 \tVal Acc: 0.58 \tTest Cost: 1.24484 \tTest Acc: 0.68\n",
      "Epoch 19, CIFAR-10 Batch 3:  Val Cost: 1.18706 \tVal Acc: 0.5918 \tTest Cost: 0.84245 \tTest Acc: 0.72\n",
      "Epoch 19, CIFAR-10 Batch 4:  Val Cost: 1.20644 \tVal Acc: 0.589 \tTest Cost: 1.13091 \tTest Acc: 0.64\n",
      "Epoch 19, CIFAR-10 Batch 5:  Val Cost: 1.23647 \tVal Acc: 0.57 \tTest Cost: 1.16876 \tTest Acc: 0.52\n",
      "Epoch 20, CIFAR-10 Batch 1:  Val Cost: 1.14475 \tVal Acc: 0.6022 \tTest Cost: 0.894817 \tTest Acc: 0.72\n",
      "Epoch 20, CIFAR-10 Batch 2:  Val Cost: 1.19644 \tVal Acc: 0.5826 \tTest Cost: 1.20956 \tTest Acc: 0.64\n",
      "Epoch 20, CIFAR-10 Batch 3:  Val Cost: 1.14679 \tVal Acc: 0.5934 \tTest Cost: 0.866649 \tTest Acc: 0.6\n",
      "Epoch 20, CIFAR-10 Batch 4:  Val Cost: 1.16274 \tVal Acc: 0.5934 \tTest Cost: 1.15488 \tTest Acc: 0.6\n",
      "Epoch 20, CIFAR-10 Batch 5:  Val Cost: 1.1855 \tVal Acc: 0.5874 \tTest Cost: 1.12176 \tTest Acc: 0.56\n",
      "Epoch 21, CIFAR-10 Batch 1:  Val Cost: 1.14474 \tVal Acc: 0.5972 \tTest Cost: 0.853537 \tTest Acc: 0.68\n",
      "Epoch 21, CIFAR-10 Batch 2:  Val Cost: 1.17114 \tVal Acc: 0.5866 \tTest Cost: 1.28313 \tTest Acc: 0.56\n",
      "Epoch 21, CIFAR-10 Batch 3:  Val Cost: 1.22216 \tVal Acc: 0.5734 \tTest Cost: 0.949842 \tTest Acc: 0.64\n",
      "Epoch 21, CIFAR-10 Batch 4:  Val Cost: 1.16126 \tVal Acc: 0.595 \tTest Cost: 1.15867 \tTest Acc: 0.6\n",
      "Epoch 21, CIFAR-10 Batch 5:  Val Cost: 1.24332 \tVal Acc: 0.58 \tTest Cost: 1.21083 \tTest Acc: 0.44\n",
      "Epoch 22, CIFAR-10 Batch 1:  Val Cost: 1.22427 \tVal Acc: 0.5696 \tTest Cost: 1.0463 \tTest Acc: 0.64\n",
      "Epoch 22, CIFAR-10 Batch 2:  Val Cost: 1.2378 \tVal Acc: 0.5626 \tTest Cost: 1.17251 \tTest Acc: 0.6\n",
      "Epoch 22, CIFAR-10 Batch 3:  Val Cost: 1.28297 \tVal Acc: 0.559 \tTest Cost: 0.953918 \tTest Acc: 0.6\n",
      "Epoch 22, CIFAR-10 Batch 4:  Val Cost: 1.17914 \tVal Acc: 0.5874 \tTest Cost: 1.11238 \tTest Acc: 0.64\n",
      "Epoch 22, CIFAR-10 Batch 5:  Val Cost: 1.28443 \tVal Acc: 0.5606 \tTest Cost: 1.24007 \tTest Acc: 0.44\n",
      "Epoch 23, CIFAR-10 Batch 1:  Val Cost: 1.20597 \tVal Acc: 0.5818 \tTest Cost: 1.06436 \tTest Acc: 0.72\n",
      "Epoch 23, CIFAR-10 Batch 2:  Val Cost: 1.17576 \tVal Acc: 0.5842 \tTest Cost: 1.17528 \tTest Acc: 0.6\n",
      "Epoch 23, CIFAR-10 Batch 3:  Val Cost: 1.21919 \tVal Acc: 0.574 \tTest Cost: 0.856201 \tTest Acc: 0.76\n",
      "Epoch 23, CIFAR-10 Batch 4:  Val Cost: 1.17099 \tVal Acc: 0.5864 \tTest Cost: 1.0509 \tTest Acc: 0.64\n",
      "Epoch 23, CIFAR-10 Batch 5:  Val Cost: 1.2337 \tVal Acc: 0.5826 \tTest Cost: 1.10161 \tTest Acc: 0.48\n",
      "Epoch 24, CIFAR-10 Batch 1:  Val Cost: 1.17572 \tVal Acc: 0.5846 \tTest Cost: 1.0187 \tTest Acc: 0.72\n",
      "Epoch 24, CIFAR-10 Batch 2:  Val Cost: 1.17209 \tVal Acc: 0.5956 \tTest Cost: 1.14614 \tTest Acc: 0.6\n",
      "Epoch 24, CIFAR-10 Batch 3:  Val Cost: 1.2255 \tVal Acc: 0.5766 \tTest Cost: 0.943074 \tTest Acc: 0.72\n",
      "Epoch 24, CIFAR-10 Batch 4:  Val Cost: 1.18013 \tVal Acc: 0.5834 \tTest Cost: 1.15847 \tTest Acc: 0.72\n",
      "Epoch 24, CIFAR-10 Batch 5:  Val Cost: 1.18033 \tVal Acc: 0.5966 \tTest Cost: 1.10699 \tTest Acc: 0.56\n",
      "Epoch 25, CIFAR-10 Batch 1:  Val Cost: 1.15323 \tVal Acc: 0.6086 \tTest Cost: 0.950973 \tTest Acc: 0.76\n",
      "Epoch 25, CIFAR-10 Batch 2:  Val Cost: 1.18048 \tVal Acc: 0.5948 \tTest Cost: 1.11962 \tTest Acc: 0.6\n",
      "Epoch 25, CIFAR-10 Batch 3:  Val Cost: 1.22124 \tVal Acc: 0.5804 \tTest Cost: 0.838952 \tTest Acc: 0.72\n",
      "Epoch 25, CIFAR-10 Batch 4:  Val Cost: 1.22902 \tVal Acc: 0.579 \tTest Cost: 1.10876 \tTest Acc: 0.64\n",
      "Epoch 25, CIFAR-10 Batch 5:  Val Cost: 1.21783 \tVal Acc: 0.5832 \tTest Cost: 1.20399 \tTest Acc: 0.52\n",
      "Epoch 26, CIFAR-10 Batch 1:  Val Cost: 1.18148 \tVal Acc: 0.587 \tTest Cost: 1.01983 \tTest Acc: 0.68\n",
      "Epoch 26, CIFAR-10 Batch 2:  Val Cost: 1.15737 \tVal Acc: 0.602 \tTest Cost: 1.114 \tTest Acc: 0.64\n",
      "Epoch 26, CIFAR-10 Batch 3:  Val Cost: 1.22405 \tVal Acc: 0.5768 \tTest Cost: 0.879624 \tTest Acc: 0.68\n",
      "Epoch 26, CIFAR-10 Batch 4:  Val Cost: 1.14509 \tVal Acc: 0.603 \tTest Cost: 0.986664 \tTest Acc: 0.68\n",
      "Epoch 26, CIFAR-10 Batch 5:  Val Cost: 1.23645 \tVal Acc: 0.5824 \tTest Cost: 1.11575 \tTest Acc: 0.6\n",
      "Epoch 27, CIFAR-10 Batch 1:  Val Cost: 1.15643 \tVal Acc: 0.6008 \tTest Cost: 0.850771 \tTest Acc: 0.72\n",
      "Epoch 27, CIFAR-10 Batch 2:  Val Cost: 1.1449 \tVal Acc: 0.6032 \tTest Cost: 1.32146 \tTest Acc: 0.6\n",
      "Epoch 27, CIFAR-10 Batch 3:  Val Cost: 1.19447 \tVal Acc: 0.5884 \tTest Cost: 0.952869 \tTest Acc: 0.68\n",
      "Epoch 27, CIFAR-10 Batch 4:  Val Cost: 1.16678 \tVal Acc: 0.6022 \tTest Cost: 1.12688 \tTest Acc: 0.72\n",
      "Epoch 27, CIFAR-10 Batch 5:  Val Cost: 1.30409 \tVal Acc: 0.5602 \tTest Cost: 1.25074 \tTest Acc: 0.56\n",
      "Epoch 28, CIFAR-10 Batch 1:  Val Cost: 1.19027 \tVal Acc: 0.5896 \tTest Cost: 0.929473 \tTest Acc: 0.72\n",
      "Epoch 28, CIFAR-10 Batch 2:  Val Cost: 1.13808 \tVal Acc: 0.607 \tTest Cost: 1.14708 \tTest Acc: 0.64\n",
      "Epoch 28, CIFAR-10 Batch 3:  Val Cost: 1.23356 \tVal Acc: 0.584 \tTest Cost: 0.800661 \tTest Acc: 0.72\n",
      "Epoch 28, CIFAR-10 Batch 4:  Val Cost: 1.17113 \tVal Acc: 0.6012 \tTest Cost: 1.04178 \tTest Acc: 0.68\n",
      "Epoch 28, CIFAR-10 Batch 5:  Val Cost: 1.15217 \tVal Acc: 0.6046 \tTest Cost: 1.11545 \tTest Acc: 0.56\n",
      "Epoch 29, CIFAR-10 Batch 1:  Val Cost: 1.22207 \tVal Acc: 0.5802 \tTest Cost: 0.940674 \tTest Acc: 0.68\n",
      "Epoch 29, CIFAR-10 Batch 2:  Val Cost: 1.20838 \tVal Acc: 0.5784 \tTest Cost: 1.21459 \tTest Acc: 0.68\n",
      "Epoch 29, CIFAR-10 Batch 3:  Val Cost: 1.18797 \tVal Acc: 0.591 \tTest Cost: 0.842057 \tTest Acc: 0.64\n",
      "Epoch 29, CIFAR-10 Batch 4:  Val Cost: 1.14394 \tVal Acc: 0.6046 \tTest Cost: 1.16155 \tTest Acc: 0.64\n",
      "Epoch 29, CIFAR-10 Batch 5:  Val Cost: 1.31126 \tVal Acc: 0.5554 \tTest Cost: 1.17746 \tTest Acc: 0.68\n",
      "Epoch 30, CIFAR-10 Batch 1:  Val Cost: 1.16066 \tVal Acc: 0.593 \tTest Cost: 0.980767 \tTest Acc: 0.68\n",
      "Epoch 30, CIFAR-10 Batch 2:  Val Cost: 1.19054 \tVal Acc: 0.589 \tTest Cost: 1.22807 \tTest Acc: 0.64\n",
      "Epoch 30, CIFAR-10 Batch 3:  Val Cost: 1.26383 \tVal Acc: 0.5724 \tTest Cost: 1.0042 \tTest Acc: 0.6\n",
      "Epoch 30, CIFAR-10 Batch 4:  Val Cost: 1.13996 \tVal Acc: 0.6044 \tTest Cost: 0.979348 \tTest Acc: 0.64\n",
      "Epoch 30, CIFAR-10 Batch 5:  Val Cost: 1.25019 \tVal Acc: 0.5786 \tTest Cost: 1.12989 \tTest Acc: 0.52\n",
      "Epoch 31, CIFAR-10 Batch 1:  Val Cost: 1.20423 \tVal Acc: 0.588 \tTest Cost: 1.03243 \tTest Acc: 0.68\n",
      "Epoch 31, CIFAR-10 Batch 2:  Val Cost: 1.10951 \tVal Acc: 0.6154 \tTest Cost: 0.982844 \tTest Acc: 0.68\n",
      "Epoch 31, CIFAR-10 Batch 3:  Val Cost: 1.15256 \tVal Acc: 0.5986 \tTest Cost: 0.853842 \tTest Acc: 0.72\n",
      "Epoch 31, CIFAR-10 Batch 4:  Val Cost: 1.17574 \tVal Acc: 0.5986 \tTest Cost: 1.09267 \tTest Acc: 0.68\n",
      "Epoch 31, CIFAR-10 Batch 5:  Val Cost: 1.2283 \tVal Acc: 0.5766 \tTest Cost: 1.14165 \tTest Acc: 0.68\n",
      "Epoch 32, CIFAR-10 Batch 1:  Val Cost: 1.18236 \tVal Acc: 0.5866 \tTest Cost: 0.996386 \tTest Acc: 0.68\n",
      "Epoch 32, CIFAR-10 Batch 2:  Val Cost: 1.17965 \tVal Acc: 0.5982 \tTest Cost: 1.06488 \tTest Acc: 0.64\n",
      "Epoch 32, CIFAR-10 Batch 3:  Val Cost: 1.21696 \tVal Acc: 0.5898 \tTest Cost: 0.829728 \tTest Acc: 0.6\n",
      "Epoch 32, CIFAR-10 Batch 4:  Val Cost: 1.14233 \tVal Acc: 0.608 \tTest Cost: 1.03885 \tTest Acc: 0.76\n",
      "Epoch 32, CIFAR-10 Batch 5:  Val Cost: 1.21624 \tVal Acc: 0.5836 \tTest Cost: 1.13538 \tTest Acc: 0.64\n",
      "Epoch 33, CIFAR-10 Batch 1:  Val Cost: 1.18552 \tVal Acc: 0.5932 \tTest Cost: 0.943205 \tTest Acc: 0.6\n",
      "Epoch 33, CIFAR-10 Batch 2:  Val Cost: 1.10403 \tVal Acc: 0.6194 \tTest Cost: 1.03927 \tTest Acc: 0.64\n",
      "Epoch 33, CIFAR-10 Batch 3:  Val Cost: 1.16868 \tVal Acc: 0.5926 \tTest Cost: 0.78676 \tTest Acc: 0.72\n",
      "Epoch 33, CIFAR-10 Batch 4:  Val Cost: 1.09854 \tVal Acc: 0.6236 \tTest Cost: 1.00858 \tTest Acc: 0.68\n",
      "Epoch 33, CIFAR-10 Batch 5:  Val Cost: 1.1531 \tVal Acc: 0.607 \tTest Cost: 1.23804 \tTest Acc: 0.52\n",
      "Epoch 34, CIFAR-10 Batch 1:  Val Cost: 1.15241 \tVal Acc: 0.6004 \tTest Cost: 0.888891 \tTest Acc: 0.72\n",
      "Epoch 34, CIFAR-10 Batch 2:  Val Cost: 1.16153 \tVal Acc: 0.6016 \tTest Cost: 1.19299 \tTest Acc: 0.64\n",
      "Epoch 34, CIFAR-10 Batch 3:  Val Cost: 1.13206 \tVal Acc: 0.6094 \tTest Cost: 0.81909 \tTest Acc: 0.6\n",
      "Epoch 34, CIFAR-10 Batch 4:  Val Cost: 1.18089 \tVal Acc: 0.5966 \tTest Cost: 1.19574 \tTest Acc: 0.68\n",
      "Epoch 34, CIFAR-10 Batch 5:  Val Cost: 1.19209 \tVal Acc: 0.5994 \tTest Cost: 1.1634 \tTest Acc: 0.52\n",
      "Epoch 35, CIFAR-10 Batch 1:  Val Cost: 1.12841 \tVal Acc: 0.606 \tTest Cost: 0.899022 \tTest Acc: 0.68\n",
      "Epoch 35, CIFAR-10 Batch 2:  Val Cost: 1.14916 \tVal Acc: 0.602 \tTest Cost: 1.17341 \tTest Acc: 0.6\n",
      "Epoch 35, CIFAR-10 Batch 3:  Val Cost: 1.18026 \tVal Acc: 0.5914 \tTest Cost: 0.807478 \tTest Acc: 0.72\n",
      "Epoch 35, CIFAR-10 Batch 4:  Val Cost: 1.11931 \tVal Acc: 0.6088 \tTest Cost: 1.04314 \tTest Acc: 0.64\n",
      "Epoch 35, CIFAR-10 Batch 5:  Val Cost: 1.19588 \tVal Acc: 0.5972 \tTest Cost: 1.17442 \tTest Acc: 0.52\n",
      "Epoch 36, CIFAR-10 Batch 1:  Val Cost: 1.11621 \tVal Acc: 0.6146 \tTest Cost: 0.926768 \tTest Acc: 0.68\n",
      "Epoch 36, CIFAR-10 Batch 2:  Val Cost: 1.14214 \tVal Acc: 0.6054 \tTest Cost: 1.11749 \tTest Acc: 0.6\n",
      "Epoch 36, CIFAR-10 Batch 3:  Val Cost: 1.16903 \tVal Acc: 0.5978 \tTest Cost: 0.755383 \tTest Acc: 0.6\n",
      "Epoch 36, CIFAR-10 Batch 4:  Val Cost: 1.13011 \tVal Acc: 0.6088 \tTest Cost: 0.963781 \tTest Acc: 0.72\n",
      "Epoch 36, CIFAR-10 Batch 5:  Val Cost: 1.19742 \tVal Acc: 0.5892 \tTest Cost: 1.16326 \tTest Acc: 0.56\n",
      "Epoch 37, CIFAR-10 Batch 1:  Val Cost: 1.17457 \tVal Acc: 0.5996 \tTest Cost: 0.824125 \tTest Acc: 0.76\n",
      "Epoch 37, CIFAR-10 Batch 2:  Val Cost: 1.07999 \tVal Acc: 0.6204 \tTest Cost: 1.07737 \tTest Acc: 0.68\n",
      "Epoch 37, CIFAR-10 Batch 3:  Val Cost: 1.21688 \tVal Acc: 0.5794 \tTest Cost: 0.822675 \tTest Acc: 0.72\n",
      "Epoch 37, CIFAR-10 Batch 4:  Val Cost: 1.11777 \tVal Acc: 0.6194 \tTest Cost: 1.0165 \tTest Acc: 0.72\n",
      "Epoch 37, CIFAR-10 Batch 5:  Val Cost: 1.19682 \tVal Acc: 0.5992 \tTest Cost: 1.11144 \tTest Acc: 0.56\n",
      "Epoch 38, CIFAR-10 Batch 1:  Val Cost: 1.1367 \tVal Acc: 0.6136 \tTest Cost: 0.859981 \tTest Acc: 0.72\n",
      "Epoch 38, CIFAR-10 Batch 2:  Val Cost: 1.13558 \tVal Acc: 0.6084 \tTest Cost: 1.10606 \tTest Acc: 0.72\n",
      "Epoch 38, CIFAR-10 Batch 3:  Val Cost: 1.11521 \tVal Acc: 0.6088 \tTest Cost: 0.878867 \tTest Acc: 0.64\n",
      "Epoch 38, CIFAR-10 Batch 4:  Val Cost: 1.14008 \tVal Acc: 0.6102 \tTest Cost: 1.06557 \tTest Acc: 0.68\n",
      "Epoch 38, CIFAR-10 Batch 5:  Val Cost: 1.22247 \tVal Acc: 0.5868 \tTest Cost: 1.12168 \tTest Acc: 0.52\n",
      "Epoch 39, CIFAR-10 Batch 1:  Val Cost: 1.12497 \tVal Acc: 0.613 \tTest Cost: 0.934759 \tTest Acc: 0.76\n",
      "Epoch 39, CIFAR-10 Batch 2:  Val Cost: 1.16418 \tVal Acc: 0.6 \tTest Cost: 1.14535 \tTest Acc: 0.72\n",
      "Epoch 39, CIFAR-10 Batch 3:  Val Cost: 1.15795 \tVal Acc: 0.6048 \tTest Cost: 0.791911 \tTest Acc: 0.68\n",
      "Epoch 39, CIFAR-10 Batch 4:  Val Cost: 1.15161 \tVal Acc: 0.6008 \tTest Cost: 1.07388 \tTest Acc: 0.68\n",
      "Epoch 39, CIFAR-10 Batch 5:  Val Cost: 1.26879 \tVal Acc: 0.5694 \tTest Cost: 1.2129 \tTest Acc: 0.52\n",
      "Epoch 40, CIFAR-10 Batch 1:  Val Cost: 1.17171 \tVal Acc: 0.5918 \tTest Cost: 0.995691 \tTest Acc: 0.68\n",
      "Epoch 40, CIFAR-10 Batch 2:  Val Cost: 1.24316 \tVal Acc: 0.5714 \tTest Cost: 1.28029 \tTest Acc: 0.6\n",
      "Epoch 40, CIFAR-10 Batch 3:  Val Cost: 1.20642 \tVal Acc: 0.596 \tTest Cost: 0.832246 \tTest Acc: 0.56\n",
      "Epoch 40, CIFAR-10 Batch 4:  Val Cost: 1.17468 \tVal Acc: 0.6018 \tTest Cost: 1.02151 \tTest Acc: 0.68\n",
      "Epoch 40, CIFAR-10 Batch 5:  Val Cost: 1.21711 \tVal Acc: 0.5852 \tTest Cost: 1.2092 \tTest Acc: 0.64\n",
      "Epoch 41, CIFAR-10 Batch 1:  Val Cost: 1.14691 \tVal Acc: 0.5986 \tTest Cost: 0.917506 \tTest Acc: 0.72\n",
      "Epoch 41, CIFAR-10 Batch 2:  Val Cost: 1.12354 \tVal Acc: 0.613 \tTest Cost: 1.08188 \tTest Acc: 0.72\n",
      "Epoch 41, CIFAR-10 Batch 3:  Val Cost: 1.13584 \tVal Acc: 0.6088 \tTest Cost: 0.791815 \tTest Acc: 0.68\n",
      "Epoch 41, CIFAR-10 Batch 4:  Val Cost: 1.13744 \tVal Acc: 0.6112 \tTest Cost: 1.04746 \tTest Acc: 0.72\n",
      "Epoch 41, CIFAR-10 Batch 5:  Val Cost: 1.0984 \tVal Acc: 0.6082 \tTest Cost: 0.796277 \tTest Acc: 0.72\n",
      "Epoch 42, CIFAR-10 Batch 1:  Val Cost: 1.17096 \tVal Acc: 0.591 \tTest Cost: 0.971532 \tTest Acc: 0.68\n",
      "Epoch 42, CIFAR-10 Batch 2:  Val Cost: 1.14632 \tVal Acc: 0.5974 \tTest Cost: 1.14892 \tTest Acc: 0.64\n",
      "Epoch 42, CIFAR-10 Batch 3:  Val Cost: 1.15976 \tVal Acc: 0.6006 \tTest Cost: 0.794584 \tTest Acc: 0.64\n",
      "Epoch 42, CIFAR-10 Batch 4:  Val Cost: 1.18681 \tVal Acc: 0.598 \tTest Cost: 1.03031 \tTest Acc: 0.68\n",
      "Epoch 42, CIFAR-10 Batch 5:  Val Cost: 1.19452 \tVal Acc: 0.601 \tTest Cost: 1.07338 \tTest Acc: 0.56\n",
      "Epoch 43, CIFAR-10 Batch 1:  Val Cost: 1.1243 \tVal Acc: 0.6112 \tTest Cost: 0.866695 \tTest Acc: 0.72\n",
      "Epoch 43, CIFAR-10 Batch 2:  Val Cost: 1.16748 \tVal Acc: 0.5984 \tTest Cost: 1.19705 \tTest Acc: 0.56\n",
      "Epoch 43, CIFAR-10 Batch 3:  Val Cost: 1.17904 \tVal Acc: 0.594 \tTest Cost: 0.830181 \tTest Acc: 0.68\n",
      "Epoch 43, CIFAR-10 Batch 4:  Val Cost: 1.12139 \tVal Acc: 0.6082 \tTest Cost: 1.09179 \tTest Acc: 0.72\n",
      "Epoch 43, CIFAR-10 Batch 5:  Val Cost: 1.21154 \tVal Acc: 0.5834 \tTest Cost: 1.12607 \tTest Acc: 0.48\n",
      "Epoch 44, CIFAR-10 Batch 1:  Val Cost: 1.13894 \tVal Acc: 0.6082 \tTest Cost: 0.932944 \tTest Acc: 0.72\n",
      "Epoch 44, CIFAR-10 Batch 2:  Val Cost: 1.12118 \tVal Acc: 0.6134 \tTest Cost: 1.10236 \tTest Acc: 0.68\n",
      "Epoch 44, CIFAR-10 Batch 3:  Val Cost: 1.17018 \tVal Acc: 0.6002 \tTest Cost: 0.817504 \tTest Acc: 0.56\n",
      "Epoch 44, CIFAR-10 Batch 4:  Val Cost: 1.17968 \tVal Acc: 0.5906 \tTest Cost: 1.1876 \tTest Acc: 0.64\n",
      "Epoch 44, CIFAR-10 Batch 5:  Val Cost: 1.14096 \tVal Acc: 0.613 \tTest Cost: 1.08264 \tTest Acc: 0.64\n",
      "Epoch 45, CIFAR-10 Batch 1:  Val Cost: 1.1355 \tVal Acc: 0.6038 \tTest Cost: 0.895694 \tTest Acc: 0.68\n",
      "Epoch 45, CIFAR-10 Batch 2:  Val Cost: 1.17865 \tVal Acc: 0.5906 \tTest Cost: 1.26403 \tTest Acc: 0.56\n",
      "Epoch 45, CIFAR-10 Batch 3:  Val Cost: 1.23713 \tVal Acc: 0.5846 \tTest Cost: 0.87289 \tTest Acc: 0.68\n",
      "Epoch 45, CIFAR-10 Batch 4:  Val Cost: 1.13227 \tVal Acc: 0.6084 \tTest Cost: 1.02743 \tTest Acc: 0.72\n",
      "Epoch 45, CIFAR-10 Batch 5:  Val Cost: 1.1743 \tVal Acc: 0.5958 \tTest Cost: 0.962513 \tTest Acc: 0.68\n",
      "Epoch 46, CIFAR-10 Batch 1:  Val Cost: 1.18557 \tVal Acc: 0.587 \tTest Cost: 0.872711 \tTest Acc: 0.68\n",
      "Epoch 46, CIFAR-10 Batch 2:  Val Cost: 1.10676 \tVal Acc: 0.613 \tTest Cost: 1.09341 \tTest Acc: 0.64\n",
      "Epoch 46, CIFAR-10 Batch 3:  Val Cost: 1.11359 \tVal Acc: 0.6174 \tTest Cost: 0.774561 \tTest Acc: 0.72\n",
      "Epoch 46, CIFAR-10 Batch 4:  Val Cost: 1.11511 \tVal Acc: 0.62 \tTest Cost: 0.900801 \tTest Acc: 0.68\n",
      "Epoch 46, CIFAR-10 Batch 5:  Val Cost: 1.24639 \tVal Acc: 0.572 \tTest Cost: 1.15407 \tTest Acc: 0.64\n",
      "Epoch 47, CIFAR-10 Batch 1:  Val Cost: 1.15048 \tVal Acc: 0.6058 \tTest Cost: 0.787076 \tTest Acc: 0.72\n",
      "Epoch 47, CIFAR-10 Batch 2:  Val Cost: 1.14271 \tVal Acc: 0.5992 \tTest Cost: 1.17035 \tTest Acc: 0.68\n",
      "Epoch 47, CIFAR-10 Batch 3:  Val Cost: 1.08328 \tVal Acc: 0.6292 \tTest Cost: 0.767804 \tTest Acc: 0.72\n",
      "Epoch 47, CIFAR-10 Batch 4:  Val Cost: 1.16228 \tVal Acc: 0.601 \tTest Cost: 1.1073 \tTest Acc: 0.68\n",
      "Epoch 47, CIFAR-10 Batch 5:  Val Cost: 1.2139 \tVal Acc: 0.5966 \tTest Cost: 1.1184 \tTest Acc: 0.56\n",
      "Epoch 48, CIFAR-10 Batch 1:  Val Cost: 1.0603 \tVal Acc: 0.6364 \tTest Cost: 0.783694 \tTest Acc: 0.76\n",
      "Epoch 48, CIFAR-10 Batch 2:  Val Cost: 1.11145 \tVal Acc: 0.6232 \tTest Cost: 1.0423 \tTest Acc: 0.68\n",
      "Epoch 48, CIFAR-10 Batch 3:  Val Cost: 1.13991 \tVal Acc: 0.622 \tTest Cost: 0.726697 \tTest Acc: 0.72\n",
      "Epoch 48, CIFAR-10 Batch 4:  Val Cost: 1.19643 \tVal Acc: 0.5826 \tTest Cost: 1.15163 \tTest Acc: 0.6\n",
      "Epoch 48, CIFAR-10 Batch 5:  Val Cost: 1.1678 \tVal Acc: 0.6098 \tTest Cost: 0.943336 \tTest Acc: 0.68\n",
      "Epoch 49, CIFAR-10 Batch 1:  Val Cost: 1.13399 \tVal Acc: 0.613 \tTest Cost: 0.879583 \tTest Acc: 0.72\n",
      "Epoch 49, CIFAR-10 Batch 2:  Val Cost: 1.11829 \tVal Acc: 0.6166 \tTest Cost: 1.21335 \tTest Acc: 0.6\n",
      "Epoch 49, CIFAR-10 Batch 3:  Val Cost: 1.18565 \tVal Acc: 0.608 \tTest Cost: 0.867459 \tTest Acc: 0.76\n",
      "Epoch 49, CIFAR-10 Batch 4:  Val Cost: 1.12307 \tVal Acc: 0.619 \tTest Cost: 0.935633 \tTest Acc: 0.68\n",
      "Epoch 49, CIFAR-10 Batch 5:  Val Cost: 1.3233 \tVal Acc: 0.5552 \tTest Cost: 1.20112 \tTest Acc: 0.52\n",
      "Epoch 50, CIFAR-10 Batch 1:  Val Cost: 1.12517 \tVal Acc: 0.6064 \tTest Cost: 0.816054 \tTest Acc: 0.68\n",
      "Epoch 50, CIFAR-10 Batch 2:  Val Cost: 1.1037 \tVal Acc: 0.6208 \tTest Cost: 1.10389 \tTest Acc: 0.72\n",
      "Epoch 50, CIFAR-10 Batch 3:  Val Cost: 1.19163 \tVal Acc: 0.5982 \tTest Cost: 0.835217 \tTest Acc: 0.6\n",
      "Epoch 50, CIFAR-10 Batch 4:  Val Cost: 1.12533 \tVal Acc: 0.6228 \tTest Cost: 1.0173 \tTest Acc: 0.72\n",
      "Epoch 50, CIFAR-10 Batch 5:  Val Cost: 1.19512 \tVal Acc: 0.5976 \tTest Cost: 1.06481 \tTest Acc: 0.56\n",
      "Epoch 51, CIFAR-10 Batch 1:  Val Cost: 1.09737 \tVal Acc: 0.6194 \tTest Cost: 0.85136 \tTest Acc: 0.72\n",
      "Epoch 51, CIFAR-10 Batch 2:  Val Cost: 1.11845 \tVal Acc: 0.614 \tTest Cost: 1.22553 \tTest Acc: 0.64\n",
      "Epoch 51, CIFAR-10 Batch 3:  Val Cost: 1.08672 \tVal Acc: 0.6192 \tTest Cost: 0.743544 \tTest Acc: 0.72\n",
      "Epoch 51, CIFAR-10 Batch 4:  Val Cost: 1.14626 \tVal Acc: 0.6064 \tTest Cost: 1.07591 \tTest Acc: 0.64\n",
      "Epoch 51, CIFAR-10 Batch 5:  Val Cost: 1.1583 \tVal Acc: 0.6042 \tTest Cost: 0.740309 \tTest Acc: 0.84\n",
      "Epoch 52, CIFAR-10 Batch 1:  Val Cost: 1.08934 \tVal Acc: 0.6276 \tTest Cost: 0.82987 \tTest Acc: 0.72\n",
      "Epoch 52, CIFAR-10 Batch 2:  Val Cost: 1.247 \tVal Acc: 0.5834 \tTest Cost: 1.41898 \tTest Acc: 0.68\n",
      "Epoch 52, CIFAR-10 Batch 3:  Val Cost: 1.13743 \tVal Acc: 0.61 \tTest Cost: 0.755191 \tTest Acc: 0.68\n",
      "Epoch 52, CIFAR-10 Batch 4:  Val Cost: 1.15196 \tVal Acc: 0.6078 \tTest Cost: 0.955116 \tTest Acc: 0.72\n",
      "Epoch 52, CIFAR-10 Batch 5:  Val Cost: 1.20932 \tVal Acc: 0.5906 \tTest Cost: 1.13269 \tTest Acc: 0.64\n",
      "Epoch 53, CIFAR-10 Batch 1:  Val Cost: 1.10409 \tVal Acc: 0.6196 \tTest Cost: 0.801035 \tTest Acc: 0.68\n",
      "Epoch 53, CIFAR-10 Batch 2:  Val Cost: 1.12474 \tVal Acc: 0.6146 \tTest Cost: 1.08614 \tTest Acc: 0.64\n",
      "Epoch 53, CIFAR-10 Batch 3:  Val Cost: 1.12227 \tVal Acc: 0.6156 \tTest Cost: 0.736423 \tTest Acc: 0.76\n",
      "Epoch 53, CIFAR-10 Batch 4:  Val Cost: 1.10247 \tVal Acc: 0.622 \tTest Cost: 1.04025 \tTest Acc: 0.68\n",
      "Epoch 53, CIFAR-10 Batch 5:  Val Cost: 1.19249 \tVal Acc: 0.5988 \tTest Cost: 0.983591 \tTest Acc: 0.72\n",
      "Epoch 54, CIFAR-10 Batch 1:  Val Cost: 1.13866 \tVal Acc: 0.6042 \tTest Cost: 0.909253 \tTest Acc: 0.68\n",
      "Epoch 54, CIFAR-10 Batch 2:  Val Cost: 1.0975 \tVal Acc: 0.6324 \tTest Cost: 1.01007 \tTest Acc: 0.76\n",
      "Epoch 54, CIFAR-10 Batch 3:  Val Cost: 1.16127 \tVal Acc: 0.6164 \tTest Cost: 0.846761 \tTest Acc: 0.68\n",
      "Epoch 54, CIFAR-10 Batch 4:  Val Cost: 1.13137 \tVal Acc: 0.6156 \tTest Cost: 1.06371 \tTest Acc: 0.64\n",
      "Epoch 54, CIFAR-10 Batch 5:  Val Cost: 1.18088 \tVal Acc: 0.6032 \tTest Cost: 0.966009 \tTest Acc: 0.76\n",
      "Epoch 55, CIFAR-10 Batch 1:  Val Cost: 1.09682 \tVal Acc: 0.6282 \tTest Cost: 0.814064 \tTest Acc: 0.72\n",
      "Epoch 55, CIFAR-10 Batch 2:  Val Cost: 1.147 \tVal Acc: 0.612 \tTest Cost: 1.23484 \tTest Acc: 0.68\n",
      "Epoch 55, CIFAR-10 Batch 3:  Val Cost: 1.10935 \tVal Acc: 0.6202 \tTest Cost: 0.819535 \tTest Acc: 0.8\n",
      "Epoch 55, CIFAR-10 Batch 4:  Val Cost: 1.08016 \tVal Acc: 0.6308 \tTest Cost: 0.926106 \tTest Acc: 0.76\n",
      "Epoch 55, CIFAR-10 Batch 5:  Val Cost: 1.21618 \tVal Acc: 0.5874 \tTest Cost: 1.13385 \tTest Acc: 0.56\n",
      "Epoch 56, CIFAR-10 Batch 1:  Val Cost: 1.15168 \tVal Acc: 0.6018 \tTest Cost: 0.886 \tTest Acc: 0.64\n",
      "Epoch 56, CIFAR-10 Batch 2:  Val Cost: 1.10971 \tVal Acc: 0.618 \tTest Cost: 1.11875 \tTest Acc: 0.68\n",
      "Epoch 56, CIFAR-10 Batch 3:  Val Cost: 1.13639 \tVal Acc: 0.6198 \tTest Cost: 0.835386 \tTest Acc: 0.72\n",
      "Epoch 56, CIFAR-10 Batch 4:  Val Cost: 1.13334 \tVal Acc: 0.6112 \tTest Cost: 1.00582 \tTest Acc: 0.72\n",
      "Epoch 56, CIFAR-10 Batch 5:  Val Cost: 1.26007 \tVal Acc: 0.5866 \tTest Cost: 1.15813 \tTest Acc: 0.64\n",
      "Epoch 57, CIFAR-10 Batch 1:  Val Cost: 1.11061 \tVal Acc: 0.6168 \tTest Cost: 0.802355 \tTest Acc: 0.76\n",
      "Epoch 57, CIFAR-10 Batch 2:  Val Cost: 1.12096 \tVal Acc: 0.6142 \tTest Cost: 1.07626 \tTest Acc: 0.64\n",
      "Epoch 57, CIFAR-10 Batch 3:  Val Cost: 1.23336 \tVal Acc: 0.5894 \tTest Cost: 0.832745 \tTest Acc: 0.72\n",
      "Epoch 57, CIFAR-10 Batch 4:  Val Cost: 1.16375 \tVal Acc: 0.6034 \tTest Cost: 1.05964 \tTest Acc: 0.72\n",
      "Epoch 57, CIFAR-10 Batch 5:  Val Cost: 1.20322 \tVal Acc: 0.5998 \tTest Cost: 1.1681 \tTest Acc: 0.52\n",
      "Epoch 58, CIFAR-10 Batch 1:  Val Cost: 1.11637 \tVal Acc: 0.6126 \tTest Cost: 0.903588 \tTest Acc: 0.68\n",
      "Epoch 58, CIFAR-10 Batch 2:  Val Cost: 1.13028 \tVal Acc: 0.6136 \tTest Cost: 1.3002 \tTest Acc: 0.64\n",
      "Epoch 58, CIFAR-10 Batch 3:  Val Cost: 1.16448 \tVal Acc: 0.609 \tTest Cost: 0.803167 \tTest Acc: 0.68\n",
      "Epoch 58, CIFAR-10 Batch 4:  Val Cost: 1.13679 \tVal Acc: 0.6156 \tTest Cost: 1.11864 \tTest Acc: 0.64\n",
      "Epoch 58, CIFAR-10 Batch 5:  Val Cost: 1.13865 \tVal Acc: 0.6202 \tTest Cost: 1.00467 \tTest Acc: 0.68\n",
      "Epoch 59, CIFAR-10 Batch 1:  Val Cost: 1.11977 \tVal Acc: 0.6136 \tTest Cost: 0.876207 \tTest Acc: 0.68\n",
      "Epoch 59, CIFAR-10 Batch 2:  Val Cost: 1.13622 \tVal Acc: 0.6142 \tTest Cost: 1.10497 \tTest Acc: 0.68\n",
      "Epoch 59, CIFAR-10 Batch 3:  Val Cost: 1.13035 \tVal Acc: 0.6136 \tTest Cost: 0.805858 \tTest Acc: 0.68\n",
      "Epoch 59, CIFAR-10 Batch 4:  Val Cost: 1.19367 \tVal Acc: 0.599 \tTest Cost: 1.04866 \tTest Acc: 0.68\n",
      "Epoch 59, CIFAR-10 Batch 5:  Val Cost: 1.20748 \tVal Acc: 0.5904 \tTest Cost: 1.1004 \tTest Acc: 0.56\n",
      "Epoch 60, CIFAR-10 Batch 1:  Val Cost: 1.14606 \tVal Acc: 0.6046 \tTest Cost: 0.891098 \tTest Acc: 0.68\n",
      "Epoch 60, CIFAR-10 Batch 2:  Val Cost: 1.09484 \tVal Acc: 0.6224 \tTest Cost: 1.1259 \tTest Acc: 0.68\n",
      "Epoch 60, CIFAR-10 Batch 3:  Val Cost: 1.15301 \tVal Acc: 0.6108 \tTest Cost: 0.81563 \tTest Acc: 0.64\n",
      "Epoch 60, CIFAR-10 Batch 4:  Val Cost: 1.17265 \tVal Acc: 0.6048 \tTest Cost: 1.08002 \tTest Acc: 0.72\n",
      "Epoch 60, CIFAR-10 Batch 5:  Val Cost: 1.16699 \tVal Acc: 0.6062 \tTest Cost: 1.05312 \tTest Acc: 0.64\n",
      "Epoch 61, CIFAR-10 Batch 1:  Val Cost: 1.10752 \tVal Acc: 0.614 \tTest Cost: 0.834017 \tTest Acc: 0.68\n",
      "Epoch 61, CIFAR-10 Batch 2:  Val Cost: 1.13848 \tVal Acc: 0.6168 \tTest Cost: 1.12109 \tTest Acc: 0.68\n",
      "Epoch 61, CIFAR-10 Batch 3:  Val Cost: 1.14381 \tVal Acc: 0.6194 \tTest Cost: 0.749707 \tTest Acc: 0.76\n",
      "Epoch 61, CIFAR-10 Batch 4:  Val Cost: 1.16346 \tVal Acc: 0.6074 \tTest Cost: 1.00802 \tTest Acc: 0.72\n",
      "Epoch 61, CIFAR-10 Batch 5:  Val Cost: 1.16811 \tVal Acc: 0.605 \tTest Cost: 1.08904 \tTest Acc: 0.6\n",
      "Epoch 62, CIFAR-10 Batch 1:  Val Cost: 1.1039 \tVal Acc: 0.6188 \tTest Cost: 0.74021 \tTest Acc: 0.8\n",
      "Epoch 62, CIFAR-10 Batch 2:  Val Cost: 1.16974 \tVal Acc: 0.5962 \tTest Cost: 1.20864 \tTest Acc: 0.6\n",
      "Epoch 62, CIFAR-10 Batch 3:  Val Cost: 1.09309 \tVal Acc: 0.6252 \tTest Cost: 0.809907 \tTest Acc: 0.76\n",
      "Epoch 62, CIFAR-10 Batch 4:  Val Cost: 1.15132 \tVal Acc: 0.6048 \tTest Cost: 0.997217 \tTest Acc: 0.68\n",
      "Epoch 62, CIFAR-10 Batch 5:  Val Cost: 1.1464 \tVal Acc: 0.609 \tTest Cost: 0.95839 \tTest Acc: 0.72\n",
      "Epoch 63, CIFAR-10 Batch 1:  Val Cost: 1.13283 \tVal Acc: 0.6078 \tTest Cost: 0.834182 \tTest Acc: 0.72\n",
      "Epoch 63, CIFAR-10 Batch 2:  Val Cost: 1.18939 \tVal Acc: 0.6056 \tTest Cost: 1.21962 \tTest Acc: 0.68\n",
      "Epoch 63, CIFAR-10 Batch 3:  Val Cost: 1.11207 \tVal Acc: 0.624 \tTest Cost: 0.749398 \tTest Acc: 0.8\n",
      "Epoch 63, CIFAR-10 Batch 4:  Val Cost: 1.11991 \tVal Acc: 0.6168 \tTest Cost: 0.945407 \tTest Acc: 0.68\n",
      "Epoch 63, CIFAR-10 Batch 5:  Val Cost: 1.14916 \tVal Acc: 0.6078 \tTest Cost: 1.00381 \tTest Acc: 0.6\n",
      "Epoch 64, CIFAR-10 Batch 1:  Val Cost: 1.08823 \tVal Acc: 0.624 \tTest Cost: 0.800555 \tTest Acc: 0.76\n",
      "Epoch 64, CIFAR-10 Batch 2:  Val Cost: 1.10022 \tVal Acc: 0.6268 \tTest Cost: 0.939399 \tTest Acc: 0.76\n",
      "Epoch 64, CIFAR-10 Batch 3:  Val Cost: 1.13598 \tVal Acc: 0.6218 \tTest Cost: 0.771649 \tTest Acc: 0.8\n",
      "Epoch 64, CIFAR-10 Batch 4:  Val Cost: 1.23691 \tVal Acc: 0.5794 \tTest Cost: 1.03964 \tTest Acc: 0.68\n",
      "Epoch 64, CIFAR-10 Batch 5:  Val Cost: 1.26872 \tVal Acc: 0.5766 \tTest Cost: 1.09315 \tTest Acc: 0.6\n",
      "Epoch 65, CIFAR-10 Batch 1:  Val Cost: 1.16223 \tVal Acc: 0.5946 \tTest Cost: 0.766435 \tTest Acc: 0.8\n",
      "Epoch 65, CIFAR-10 Batch 2:  Val Cost: 1.24839 \tVal Acc: 0.5784 \tTest Cost: 1.24447 \tTest Acc: 0.6\n",
      "Epoch 65, CIFAR-10 Batch 3:  Val Cost: 1.16533 \tVal Acc: 0.6132 \tTest Cost: 0.779979 \tTest Acc: 0.72\n",
      "Epoch 65, CIFAR-10 Batch 4:  Val Cost: 1.16278 \tVal Acc: 0.598 \tTest Cost: 1.06741 \tTest Acc: 0.68\n",
      "Epoch 65, CIFAR-10 Batch 5:  Val Cost: 1.18799 \tVal Acc: 0.5886 \tTest Cost: 0.964187 \tTest Acc: 0.6\n",
      "Epoch 66, CIFAR-10 Batch 1:  Val Cost: 1.14743 \tVal Acc: 0.6012 \tTest Cost: 0.955837 \tTest Acc: 0.72\n",
      "Epoch 66, CIFAR-10 Batch 2:  Val Cost: 1.12256 \tVal Acc: 0.6128 \tTest Cost: 0.802293 \tTest Acc: 0.76\n",
      "Epoch 66, CIFAR-10 Batch 3:  Val Cost: 1.10103 \tVal Acc: 0.6262 \tTest Cost: 0.743996 \tTest Acc: 0.72\n",
      "Epoch 66, CIFAR-10 Batch 4:  Val Cost: 1.24454 \tVal Acc: 0.5848 \tTest Cost: 1.31448 \tTest Acc: 0.56\n",
      "Epoch 66, CIFAR-10 Batch 5:  Val Cost: 1.24833 \tVal Acc: 0.5874 \tTest Cost: 1.21003 \tTest Acc: 0.52\n",
      "Epoch 67, CIFAR-10 Batch 1:  Val Cost: 1.13333 \tVal Acc: 0.6058 \tTest Cost: 0.92542 \tTest Acc: 0.68\n",
      "Epoch 67, CIFAR-10 Batch 2:  Val Cost: 1.15312 \tVal Acc: 0.5974 \tTest Cost: 1.04792 \tTest Acc: 0.68\n",
      "Epoch 67, CIFAR-10 Batch 3:  Val Cost: 1.24061 \tVal Acc: 0.5964 \tTest Cost: 0.774203 \tTest Acc: 0.68\n",
      "Epoch 67, CIFAR-10 Batch 4:  Val Cost: 1.10546 \tVal Acc: 0.6174 \tTest Cost: 1.11211 \tTest Acc: 0.68\n",
      "Epoch 67, CIFAR-10 Batch 5:  Val Cost: 1.19737 \tVal Acc: 0.5938 \tTest Cost: 1.03213 \tTest Acc: 0.56\n",
      "Epoch 68, CIFAR-10 Batch 1:  Val Cost: 1.13341 \tVal Acc: 0.6062 \tTest Cost: 0.792482 \tTest Acc: 0.76\n",
      "Epoch 68, CIFAR-10 Batch 2:  Val Cost: 1.20067 \tVal Acc: 0.5954 \tTest Cost: 1.08561 \tTest Acc: 0.68\n",
      "Epoch 68, CIFAR-10 Batch 3:  Val Cost: 1.10615 \tVal Acc: 0.6258 \tTest Cost: 0.754515 \tTest Acc: 0.72\n",
      "Epoch 68, CIFAR-10 Batch 4:  Val Cost: 1.14131 \tVal Acc: 0.6112 \tTest Cost: 1.07502 \tTest Acc: 0.72\n",
      "Epoch 68, CIFAR-10 Batch 5:  Val Cost: 1.32267 \tVal Acc: 0.5526 \tTest Cost: 1.13887 \tTest Acc: 0.6\n"
     ]
    }
   ],
   "source": [
    "\"\"\"\n",
    "DON'T MODIFY ANYTHING IN THIS CELL\n",
    "\"\"\"\n",
    "save_model_path = './image_classification'\n",
    "\n",
    "print('Training...')\n",
    "with tf.Session() as sess:\n",
    "    # Initializing the variables\n",
    "    sess.run(tf.global_variables_initializer())\n",
    "    \n",
    "    # Training cycle\n",
    "    for epoch in range(epochs):\n",
    "        # Loop over all batches\n",
    "        n_batches = 5\n",
    "        for batch_i in range(1, n_batches + 1):\n",
    "            for batch_features, batch_labels in helper.load_preprocess_training_batch(batch_i, batch_size):\n",
    "                train_neural_network(sess, optimizer, keep_probability, batch_features, batch_labels)\n",
    "            print('Epoch {:>2}, CIFAR-10 Batch {}:  '.format(epoch + 1, batch_i), end='')\n",
    "            print_stats(sess, batch_features, batch_labels, cost, accuracy)\n",
    "            \n",
    "    # Save Model\n",
    "    saver = tf.train.Saver()\n",
    "    save_path = saver.save(sess, save_model_path)"
   ]
  },
  {
   "cell_type": "markdown",
   "metadata": {
    "deletable": true,
    "editable": true
   },
   "source": [
    "# Checkpoint\n",
    "The model has been saved to disk.\n",
    "## Test Model\n",
    "Test your model against the test dataset.  This will be your final accuracy. You should have an accuracy greater than 50%. If you don't, keep tweaking the model architecture and parameters."
   ]
  },
  {
   "cell_type": "code",
   "execution_count": 18,
   "metadata": {
    "collapsed": false,
    "deletable": true,
    "editable": true
   },
   "outputs": [
    {
     "name": "stdout",
     "output_type": "stream",
     "text": [
      "Testing Accuracy: 0.5503999996557831\n",
      "\n"
     ]
    },
    {
     "data": {
      "image/png": "[encoded data removed]",
      "text/plain": [
       "<matplotlib.figure.Figure at 0x10ef9ea2400>"
      ]
     },
     "metadata": {
      "image/png": {
       "height": 319,
       "width": 355
      }
     },
     "output_type": "display_data"
    }
   ],
   "source": [
    "\"\"\"\n",
    "DON'T MODIFY ANYTHING IN THIS CELL\n",
    "\"\"\"\n",
    "%matplotlib inline\n",
    "%config InlineBackend.figure_format = 'retina'\n",
    "\n",
    "import tensorflow as tf\n",
    "import pickle\n",
    "import helper\n",
    "import random\n",
    "\n",
    "# Set batch size if not already set\n",
    "try:\n",
    "    if batch_size:\n",
    "        pass\n",
    "except NameError:\n",
    "    batch_size = 64\n",
    "\n",
    "save_model_path = './image_classification'\n",
    "n_samples = 4\n",
    "top_n_predictions = 3\n",
    "\n",
    "def test_model():\n",
    "    \"\"\"\n",
    "    Test the saved model against the test dataset\n",
    "    \"\"\"\n",
    "\n",
    "    test_features, test_labels = pickle.load(open('preprocess_training.p', mode='rb'))\n",
    "    loaded_graph = tf.Graph()\n",
    "\n",
    "    with tf.Session(graph=loaded_graph) as sess:\n",
    "        # Load model\n",
    "        loader = tf.train.import_meta_graph(save_model_path + '.meta')\n",
    "        loader.restore(sess, save_model_path)\n",
    "\n",
    "        # Get Tensors from loaded model\n",
    "        loaded_x = loaded_graph.get_tensor_by_name('x:0')\n",
    "        loaded_y = loaded_graph.get_tensor_by_name('y:0')\n",
    "        loaded_keep_prob = loaded_graph.get_tensor_by_name('keep_prob:0')\n",
    "        loaded_logits = loaded_graph.get_tensor_by_name('logits:0')\n",
    "        loaded_acc = loaded_graph.get_tensor_by_name('accuracy:0')\n",
    "        \n",
    "        # Get accuracy in batches for memory limitations\n",
    "        test_batch_acc_total = 0\n",
    "        test_batch_count = 0\n",
    "        \n",
    "        for train_feature_batch, train_label_batch in helper.batch_features_labels(test_features, test_labels, batch_size):\n",
    "            test_batch_acc_total += sess.run(\n",
    "                loaded_acc,\n",
    "                feed_dict={loaded_x: train_feature_batch, loaded_y: train_label_batch, loaded_keep_prob: 1.0})\n",
    "            test_batch_count += 1\n",
    "\n",
    "        print('Testing Accuracy: {}\\n'.format(test_batch_acc_total/test_batch_count))\n",
    "\n",
    "        # Print Random Samples\n",
    "        random_test_features, random_test_labels = tuple(zip(*random.sample(list(zip(test_features, test_labels)), n_samples)))\n",
    "        random_test_predictions = sess.run(\n",
    "            tf.nn.top_k(tf.nn.softmax(loaded_logits), top_n_predictions),\n",
    "            feed_dict={loaded_x: random_test_features, loaded_y: random_test_labels, loaded_keep_prob: 1.0})\n",
    "        helper.display_image_predictions(random_test_features, random_test_labels, random_test_predictions)\n",
    "\n",
    "\n",
    "test_model()"
   ]
  },
  {
   "cell_type": "markdown",
   "metadata": {
    "deletable": true,
    "editable": true
   },
   "source": [
    "## Why 50-70% Accuracy?\n",
    "You might be wondering why you can't get an accuracy any higher. First things first, 50% isn't bad for a simple CNN.  Pure guessing would get you 10% accuracy. However, you might notice people are getting scores [well above 70%](http://rodrigob.github.io/are_we_there_yet/build/classification_datasets_results.html#43494641522d3130).  That's because we haven't taught you all there is to know about neural networks. We still need to cover a few more techniques.\n",
    "## Submitting This Project\n",
    "When submitting this project, make sure to run all the cells before saving the notebook.  Save the notebook file as \"dlnd_image_classification.ipynb\" and save it as a HTML file under \"File\" -> \"Download as\".  Include the \"helper.py\" and \"problem_unittests.py\" files in your submission."
   ]
  }
 ],
 "metadata": {
  "anaconda-cloud": {},
  "kernelspec": {
   "display_name": "Python [default]",
   "language": "python",
   "name": "python3"
  },
  "language_info": {
   "codemirror_mode": {
    "name": "ipython",
    "version": 3
   },
   "file_extension": ".py",
   "mimetype": "text/x-python",
   "name": "python",
   "nbconvert_exporter": "python",
   "pygments_lexer": "ipython3",
   "version": "3.5.3"
  }
 },
 "nbformat": 4,
 "nbformat_minor": 0
}
